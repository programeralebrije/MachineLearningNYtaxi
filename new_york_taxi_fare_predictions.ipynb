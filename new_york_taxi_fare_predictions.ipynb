{
  "cells": [
    {
      "cell_type": "markdown",
      "metadata": {
        "id": "view-in-github",
        "colab_type": "text"
      },
      "source": [
        "<a href=\"https://colab.research.google.com/github/programeralebrije/MachineLearningNYtaxi/blob/main/new_york_taxi_fare_predictions.ipynb\" target=\"_parent\"><img src=\"https://colab.research.google.com/assets/colab-badge.svg\" alt=\"Open In Colab\"/></a>"
      ]
    },
    {
      "cell_type": "code",
      "execution_count": null,
      "metadata": {
        "id": "ANdx5faqgXDz"
      },
      "outputs": [],
      "source": [
        "# Jovian Commit Essentials\n",
        "# Please retain and execute this cell without modifying the contents for `jovian.commit` to work\n",
        "!pip install jovian --upgrade -q\n",
        "import jovian\n",
        "jovian.set_project('new-york-taxi-fare-predictions')\n",
        "jovian.set_colab_id('1YQCyIaycmlv9Op-piXXnhOgUDYZAiKXU')"
      ]
    },
    {
      "cell_type": "markdown",
      "metadata": {
        "id": "1LoWBc78hlzd"
      },
      "source": [
        "# New York Taxi Fare Predictions "
      ]
    },
    {
      "cell_type": "code",
      "execution_count": null,
      "metadata": {
        "id": "0MOnS4rkhlzf"
      },
      "outputs": [],
      "source": [
        "!pip install jovian --upgrade --quiet"
      ]
    },
    {
      "cell_type": "code",
      "execution_count": null,
      "metadata": {
        "id": "W_0JM_rzhlzf"
      },
      "outputs": [],
      "source": [
        "import jovian"
      ]
    },
    {
      "cell_type": "code",
      "execution_count": null,
      "metadata": {
        "id": "QAn-bbb0hlzg"
      },
      "outputs": [],
      "source": [
        "# Execute this to save new versions of the notebook\n",
        "jovian.commit(project=\"new-york-taxi-fare-predictions\")"
      ]
    },
    {
      "cell_type": "markdown",
      "metadata": {
        "id": "DX7BX0pHpW-p"
      },
      "source": [
        "### Outline of the project\n",
        "1. Downlaod the dataset\n",
        "2. Explore and analyze the dataset\n",
        "3. Prepare the dataset for ML training \n",
        "4. Train Hardcoded and baseline models \n",
        "5. Make predictions and submit to Kaggle\n",
        "6. Perform feature engeneering \n",
        "7. Train and evaluate different models \n",
        "8. Tune Hyperparameters for the best models \n",
        "9. Train on a GPU with the entire dataset \n",
        "10. Document and publish the project online "
      ]
    },
    {
      "cell_type": "markdown",
      "metadata": {
        "id": "yDKBbVYIrT4q"
      },
      "source": [
        "# 1. Downlad the dataset \n",
        "\n",
        "Steps:\n",
        "- Install required libraries\n",
        "- Download data from Kaggle\n",
        "- View dataset files \n",
        "- Load trianing set with Pandas\n",
        "- Load test set with Pandas"
      ]
    },
    {
      "cell_type": "markdown",
      "metadata": {
        "id": "Mo2-S56mDcHd"
      },
      "source": [
        "# Install required libraries"
      ]
    },
    {
      "cell_type": "code",
      "execution_count": null,
      "metadata": {
        "id": "QXVkRQs9hlzg"
      },
      "outputs": [],
      "source": [
        "!pip install jovian opendatasets pandas numpy scikit-learn xgboost --quiet"
      ]
    },
    {
      "cell_type": "code",
      "execution_count": 14,
      "metadata": {
        "id": "hQgsIZxdDxqQ"
      },
      "outputs": [],
      "source": [
        "import jovian "
      ]
    },
    {
      "cell_type": "code",
      "execution_count": 15,
      "metadata": {
        "id": "6StOoK1aEGVF",
        "colab": {
          "base_uri": "https://localhost:8080/",
          "height": 87
        },
        "outputId": "c8659929-75fa-4112-8a39-1c5999473850"
      },
      "outputs": [
        {
          "metadata": {
            "tags": null
          },
          "name": "stdout",
          "output_type": "stream",
          "text": [
            "[jovian] Detected Colab notebook...\u001b[0m\n",
            "[jovian] Uploading colab notebook to Jovian...\u001b[0m\n",
            "Committed successfully! https://jovian.ai/programeralebrije/new-york-taxi-fare-predictions\n"
          ]
        },
        {
          "data": {
            "application/vnd.google.colaboratory.intrinsic+json": {
              "type": "string"
            },
            "text/plain": [
              "'https://jovian.ai/programeralebrije/new-york-taxi-fare-predictions'"
            ]
          },
          "execution_count": null,
          "metadata": {},
          "output_type": "execute_result"
        }
      ],
      "source": [
        "jovian.commit()"
      ]
    },
    {
      "cell_type": "markdown",
      "metadata": {
        "id": "QXb9Tl8wEhyx"
      },
      "source": [
        "# Download data from Kaggle "
      ]
    },
    {
      "cell_type": "code",
      "execution_count": 16,
      "metadata": {
        "id": "ovsSy8PGEHpq"
      },
      "outputs": [],
      "source": [
        "import opendatasets as od"
      ]
    },
    {
      "cell_type": "code",
      "execution_count": 17,
      "metadata": {
        "id": "OyfJIx2dEuWG"
      },
      "outputs": [],
      "source": [
        "dataset_url = 'https://www.kaggle.com/c/new-york-city-taxi-fare-prediction'"
      ]
    },
    {
      "cell_type": "code",
      "execution_count": 24,
      "metadata": {
        "id": "hfO-FoCXHwzI",
        "colab": {
          "base_uri": "https://localhost:8080/"
        },
        "outputId": "65a73dd1-000f-4881-faf4-2eb8eb1b5528"
      },
      "outputs": [
        {
          "metadata": {
            "tags": null
          },
          "name": "stdout",
          "output_type": "stream",
          "text": [
            "Please provide your Kaggle credentials to download this dataset. Learn more: http://bit.ly/kaggle-creds\n",
            "Your Kaggle username: Your Kaggle Key: Downloading new-york-city-taxi-fare-prediction.zip to ./new-york-city-taxi-fare-prediction\n"
          ]
        },
        {
          "metadata": {
            "tags": null
          },
          "name": "stderr",
          "output_type": "stream",
          "text": [
            "100%|██████████| 1.56G/1.56G [00:13<00:00, 127MB/s]\n"
          ]
        },
        {
          "metadata": {
            "tags": null
          },
          "name": "stdout",
          "output_type": "stream",
          "text": [
            "\n",
            "Extracting archive ./new-york-city-taxi-fare-prediction/new-york-city-taxi-fare-prediction.zip to ./new-york-city-taxi-fare-prediction\n"
          ]
        }
      ],
      "source": [
        "od.download(dataset_url)"
      ]
    },
    {
      "cell_type": "code",
      "execution_count": null,
      "metadata": {
        "id": "NvW2FyYVH3Rz"
      },
      "outputs": [],
      "source": [
        ""
      ]
    }
  ],
  "metadata": {
    "accelerator": "GPU",
    "colab": {
      "collapsed_sections": [],
      "name": "new-york-taxi-fare-predictions.ipynb",
      "provenance": [],
      "include_colab_link": true
    },
    "kernelspec": {
      "display_name": "Python 3",
      "language": "python",
      "name": "python3"
    },
    "language_info": {
      "codemirror_mode": {
        "name": "ipython",
        "version": 3
      },
      "file_extension": ".py",
      "mimetype": "text/x-python",
      "name": "python",
      "nbconvert_exporter": "python",
      "pygments_lexer": "ipython3",
      "version": "3.7.6"
    }
  },
  "nbformat": 4,
  "nbformat_minor": 0
}