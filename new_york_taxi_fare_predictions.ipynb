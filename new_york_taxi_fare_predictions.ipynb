{
  "cells": [
    {
      "cell_type": "markdown",
      "metadata": {
        "id": "view-in-github",
        "colab_type": "text"
      },
      "source": [
        "<a href=\"https://colab.research.google.com/github/programeralebrije/MachineLearningNYtaxi/blob/main/new_york_taxi_fare_predictions.ipynb\" target=\"_parent\"><img src=\"https://colab.research.google.com/assets/colab-badge.svg\" alt=\"Open In Colab\"/></a>"
      ]
    },
    {
      "cell_type": "code",
      "execution_count": null,
      "metadata": {
        "id": "HbSwCPJN_yxF"
      },
      "outputs": [],
      "source": [
        "# Jovian Commit Essentials\n",
        "# Please retain and execute this cell without modifying the contents for `jovian.commit` to work\n",
        "!pip install jovian --upgrade -q\n",
        "import jovian\n",
        "jovian.set_project('new-york-taxi-fare-predictions')\n",
        "jovian.set_colab_id('102pCN3oVvDHoazudeUcVW7bzSg5LR3Zp')"
      ]
    },
    {
      "cell_type": "markdown",
      "metadata": {
        "id": "1LoWBc78hlzd"
      },
      "source": [
        "# New York Taxi Fare Predictions "
      ]
    },
    {
      "cell_type": "code",
      "execution_count": null,
      "metadata": {
        "id": "0MOnS4rkhlzf"
      },
      "outputs": [],
      "source": [
        "!pip install jovian --upgrade --quiet"
      ]
    },
    {
      "cell_type": "code",
      "execution_count": null,
      "metadata": {
        "id": "W_0JM_rzhlzf"
      },
      "outputs": [],
      "source": [
        "import jovian"
      ]
    },
    {
      "cell_type": "code",
      "execution_count": null,
      "metadata": {
        "colab": {
          "base_uri": "https://localhost:8080/",
          "height": 142
        },
        "id": "QAn-bbb0hlzg",
        "outputId": "c9e9743b-fb3b-4807-f74b-5a1ade920929"
      },
      "outputs": [
        {
          "name": "stdout",
          "output_type": "stream",
          "text": [
            "[jovian] Detected Colab notebook...\u001b[0m\n",
            "[jovian] Please enter your API key ( from https://jovian.ai/ ):\u001b[0m\n",
            "API KEY: ··········\n",
            "[jovian] Uploading colab notebook to Jovian...\u001b[0m\n",
            "Committed successfully! https://jovian.ai/programeralebrije/new-york-taxi-fare-predictions\n"
          ]
        },
        {
          "data": {
            "application/vnd.google.colaboratory.intrinsic+json": {
              "type": "string"
            },
            "text/plain": [
              "'https://jovian.ai/programeralebrije/new-york-taxi-fare-predictions'"
            ]
          },
          "execution_count": 4,
          "metadata": {},
          "output_type": "execute_result"
        }
      ],
      "source": [
        "# Execute this to save new versions of the notebook\n",
        "jovian.commit(project=\"new-york-taxi-fare-predictions\")"
      ]
    },
    {
      "cell_type": "markdown",
      "metadata": {
        "id": "DX7BX0pHpW-p"
      },
      "source": [
        "### Outline of the project\n",
        "1. Downlaod the dataset\n",
        "2. Explore and analyze the dataset\n",
        "3. Prepare the dataset for ML training \n",
        "4. Train Hardcoded and baseline models \n",
        "5. Make predictions and submit to Kaggle\n",
        "6. Perform feature engeneering \n",
        "7. Train and evaluate different models \n",
        "8. Tune Hyperparameters for the best models \n",
        "9. Train on a GPU with the entire dataset \n",
        "10. Document and publish the project online "
      ]
    },
    {
      "cell_type": "markdown",
      "metadata": {
        "id": "yDKBbVYIrT4q"
      },
      "source": [
        "# 1. Downlad the dataset \n",
        "\n",
        "Steps:\n",
        "- Install required libraries\n",
        "- Download data from Kaggle\n",
        "- View dataset files \n",
        "- Load trianing set with Pandas\n",
        "- Load test set with Pandas"
      ]
    },
    {
      "cell_type": "markdown",
      "metadata": {
        "id": "Mo2-S56mDcHd"
      },
      "source": [
        "# Install required libraries"
      ]
    },
    {
      "cell_type": "code",
      "execution_count": null,
      "metadata": {
        "id": "QXVkRQs9hlzg"
      },
      "outputs": [],
      "source": [
        "!pip install jovian opendatasets pandas numpy scikit-learn xgboost --quiet"
      ]
    },
    {
      "cell_type": "code",
      "execution_count": null,
      "metadata": {
        "id": "hQgsIZxdDxqQ"
      },
      "outputs": [],
      "source": [
        "import jovian "
      ]
    },
    {
      "cell_type": "code",
      "execution_count": null,
      "metadata": {
        "colab": {
          "base_uri": "https://localhost:8080/",
          "height": 107
        },
        "id": "6StOoK1aEGVF",
        "outputId": "7320c176-e72c-4df8-cc3c-3aaa63aa0574"
      },
      "outputs": [
        {
          "name": "stdout",
          "output_type": "stream",
          "text": [
            "[jovian] Detected Colab notebook...\u001b[0m\n",
            "[jovian] Uploading colab notebook to Jovian...\u001b[0m\n",
            "Committed successfully! https://jovian.ai/programeralebrije/new-york-taxi-fare-predictions\n"
          ]
        },
        {
          "data": {
            "application/vnd.google.colaboratory.intrinsic+json": {
              "type": "string"
            },
            "text/plain": [
              "'https://jovian.ai/programeralebrije/new-york-taxi-fare-predictions'"
            ]
          },
          "execution_count": 7,
          "metadata": {},
          "output_type": "execute_result"
        }
      ],
      "source": [
        "jovian.commit()"
      ]
    },
    {
      "cell_type": "markdown",
      "metadata": {
        "id": "QXb9Tl8wEhyx"
      },
      "source": [
        "# Download data from Kaggle "
      ]
    },
    {
      "cell_type": "code",
      "execution_count": null,
      "metadata": {
        "id": "ovsSy8PGEHpq"
      },
      "outputs": [],
      "source": [
        "import opendatasets as od"
      ]
    },
    {
      "cell_type": "code",
      "execution_count": null,
      "metadata": {
        "id": "OyfJIx2dEuWG"
      },
      "outputs": [],
      "source": [
        "dataset_url = 'https://www.kaggle.com/c/new-york-city-taxi-fare-prediction'"
      ]
    },
    {
      "cell_type": "code",
      "execution_count": null,
      "metadata": {
        "colab": {
          "base_uri": "https://localhost:8080/"
        },
        "id": "hfO-FoCXHwzI",
        "outputId": "8feda1d3-eda3-4191-e52a-1c32c4157079"
      },
      "outputs": [
        {
          "name": "stdout",
          "output_type": "stream",
          "text": [
            "Please provide your Kaggle credentials to download this dataset. Learn more: http://bit.ly/kaggle-creds\n",
            "Your Kaggle username: rubenlarrazolo\n",
            "Your Kaggle Key: ··········\n",
            "Downloading new-york-city-taxi-fare-prediction.zip to ./new-york-city-taxi-fare-prediction\n"
          ]
        },
        {
          "name": "stderr",
          "output_type": "stream",
          "text": [
            "100%|██████████| 1.56G/1.56G [00:12<00:00, 130MB/s]\n"
          ]
        },
        {
          "name": "stdout",
          "output_type": "stream",
          "text": [
            "\n",
            "Extracting archive ./new-york-city-taxi-fare-prediction/new-york-city-taxi-fare-prediction.zip to ./new-york-city-taxi-fare-prediction\n"
          ]
        }
      ],
      "source": [
        "od.download(dataset_url)"
      ]
    },
    {
      "cell_type": "code",
      "execution_count": null,
      "metadata": {
        "id": "NvW2FyYVH3Rz"
      },
      "outputs": [],
      "source": [
        "data_dir = './new-york-city-taxi-fare-prediction'"
      ]
    },
    {
      "cell_type": "markdown",
      "metadata": {
        "id": "mG_kAKYgmMN7"
      },
      "source": [
        "##View Dataset Files"
      ]
    },
    {
      "cell_type": "code",
      "execution_count": null,
      "metadata": {
        "colab": {
          "base_uri": "https://localhost:8080/"
        },
        "id": "_gbX1qHFmw9R",
        "outputId": "e0bc23b8-2aa5-4cdd-ab4c-72ef536827cf"
      },
      "outputs": [
        {
          "name": "stdout",
          "output_type": "stream",
          "text": [
            "total 5.4G\n",
            "-rw-r--r-- 1 root root  486 Jan 25 18:43 GCP-Coupons-Instructions.rtf\n",
            "-rw-r--r-- 1 root root 336K Jan 25 18:43 sample_submission.csv\n",
            "-rw-r--r-- 1 root root 960K Jan 25 18:43 test.csv\n",
            "-rw-r--r-- 1 root root 5.4G Jan 25 18:46 train.csv\n"
          ]
        }
      ],
      "source": [
        "# List of files with size\n",
        "!ls -lh {data_dir}"
      ]
    },
    {
      "cell_type": "code",
      "execution_count": null,
      "metadata": {
        "colab": {
          "base_uri": "https://localhost:8080/"
        },
        "id": "mEK0CTAkohIv",
        "outputId": "ae2389ac-df13-4500-ce27-273af686b724"
      },
      "outputs": [
        {
          "name": "stdout",
          "output_type": "stream",
          "text": [
            "wc: invalid option -- '1'\n",
            "Try 'wc --help' for more information.\n"
          ]
        }
      ],
      "source": [
        "!wc -1 {data_dir}/train.csv"
      ]
    },
    {
      "cell_type": "code",
      "execution_count": null,
      "metadata": {
        "colab": {
          "base_uri": "https://localhost:8080/"
        },
        "id": "_WbnFwvooJ8W",
        "outputId": "cc188c58-300e-4fd4-e9df-4600f6ff203e"
      },
      "outputs": [
        {
          "name": "stdout",
          "output_type": "stream",
          "text": [
            "key,fare_amount,pickup_datetime,pickup_longitude,pickup_latitude,dropoff_longitude,dropoff_latitude,passenger_count\r\n",
            "2009-06-15 17:26:21.0000001,4.5,2009-06-15 17:26:21 UTC,-73.844311,40.721319,-73.84161,40.712278,1\r\n",
            "2010-01-05 16:52:16.0000002,16.9,2010-01-05 16:52:16 UTC,-74.016048,40.711303,-73.979268,40.782004,1\r\n",
            "2011-08-18 00:35:00.00000049,5.7,2011-08-18 00:35:00 UTC,-73.982738,40.76127,-73.991242,40.750562,2\r\n",
            "2012-04-21 04:30:42.0000001,7.7,2012-04-21 04:30:42 UTC,-73.98713,40.733143,-73.991567,40.758092,1\r\n",
            "2010-03-09 07:51:00.000000135,5.3,2010-03-09 07:51:00 UTC,-73.968095,40.768008,-73.956655,40.783762,1\r\n",
            "2011-01-06 09:50:45.0000002,12.1,2011-01-06 09:50:45 UTC,-74.000964,40.73163,-73.972892,40.758233,1\r\n",
            "2012-11-20 20:35:00.0000001,7.5,2012-11-20 20:35:00 UTC,-73.980002,40.751662,-73.973802,40.764842,1\r\n",
            "2012-01-04 17:22:00.00000081,16.5,2012-01-04 17:22:00 UTC,-73.9513,40.774138,-73.990095,40.751048,1\r\n",
            "2012-12-03 13:10:00.000000125,9,2012-12-03 13:10:00 UTC,-74.006462,40.726713,-73.993078,40.731628,1\r\n"
          ]
        }
      ],
      "source": [
        "# Training set\n",
        "!head {data_dir}/train.csv"
      ]
    },
    {
      "cell_type": "code",
      "execution_count": null,
      "metadata": {
        "colab": {
          "base_uri": "https://localhost:8080/"
        },
        "id": "hWeIfSzNoJya",
        "outputId": "d3207e1a-cb76-4879-aab9-fb0fda417f4d"
      },
      "outputs": [
        {
          "name": "stdout",
          "output_type": "stream",
          "text": [
            "key,pickup_datetime,pickup_longitude,pickup_latitude,dropoff_longitude,dropoff_latitude,passenger_count\r\n",
            "2015-01-27 13:08:24.0000002,2015-01-27 13:08:24 UTC,-73.973320007324219,40.7638053894043,-73.981430053710938,40.74383544921875,1\r\n",
            "2015-01-27 13:08:24.0000003,2015-01-27 13:08:24 UTC,-73.986862182617188,40.719383239746094,-73.998886108398438,40.739200592041016,1\r\n",
            "2011-10-08 11:53:44.0000002,2011-10-08 11:53:44 UTC,-73.982524,40.75126,-73.979654,40.746139,1\r\n",
            "2012-12-01 21:12:12.0000002,2012-12-01 21:12:12 UTC,-73.98116,40.767807,-73.990448,40.751635,1\r\n",
            "2012-12-01 21:12:12.0000003,2012-12-01 21:12:12 UTC,-73.966046,40.789775,-73.988565,40.744427,1\r\n",
            "2012-12-01 21:12:12.0000005,2012-12-01 21:12:12 UTC,-73.960983,40.765547,-73.979177,40.740053,1\r\n",
            "2011-10-06 12:10:20.0000001,2011-10-06 12:10:20 UTC,-73.949013,40.773204,-73.959622,40.770893,1\r\n",
            "2011-10-06 12:10:20.0000003,2011-10-06 12:10:20 UTC,-73.777282,40.646636,-73.985083,40.759368,1\r\n",
            "2011-10-06 12:10:20.0000002,2011-10-06 12:10:20 UTC,-74.014099,40.709638,-73.995106,40.741365,1\r\n"
          ]
        }
      ],
      "source": [
        "# Test set\n",
        "!head {data_dir}/test.csv"
      ]
    },
    {
      "cell_type": "markdown",
      "metadata": {
        "id": "qU9P2cixqHgz"
      },
      "source": [
        "Test Data Set is missing Fare amout, this set is not be use for predictions ."
      ]
    },
    {
      "cell_type": "code",
      "execution_count": null,
      "metadata": {
        "colab": {
          "base_uri": "https://localhost:8080/"
        },
        "id": "6a2syTe_oJnd",
        "outputId": "16c8dcc5-815a-459c-dace-f4c667bb71d2"
      },
      "outputs": [
        {
          "name": "stdout",
          "output_type": "stream",
          "text": [
            "key,fare_amount\n",
            "2015-01-27 13:08:24.0000002,11.35\n",
            "2015-01-27 13:08:24.0000003,11.35\n",
            "2011-10-08 11:53:44.0000002,11.35\n",
            "2012-12-01 21:12:12.0000002,11.35\n",
            "2012-12-01 21:12:12.0000003,11.35\n",
            "2012-12-01 21:12:12.0000005,11.35\n",
            "2011-10-06 12:10:20.0000001,11.35\n",
            "2011-10-06 12:10:20.0000003,11.35\n",
            "2011-10-06 12:10:20.0000002,11.35\n"
          ]
        }
      ],
      "source": [
        "# Sample submission file\n",
        "!head {data_dir}/sample_submission.csv"
      ]
    },
    {
      "cell_type": "code",
      "execution_count": null,
      "metadata": {
        "colab": {
          "base_uri": "https://localhost:8080/"
        },
        "id": "pflLVEHzpyeZ",
        "outputId": "6329961e-d45d-4613-d62b-7b5a81f2fb26"
      },
      "outputs": [
        {
          "name": "stdout",
          "output_type": "stream",
          "text": [
            "55423856 ./new-york-city-taxi-fare-prediction/train.csv\n"
          ]
        }
      ],
      "source": [
        "# No. of lines in training set\n",
        "!wc -l {data_dir}/train.csv"
      ]
    },
    {
      "cell_type": "code",
      "execution_count": null,
      "metadata": {
        "colab": {
          "base_uri": "https://localhost:8080/"
        },
        "id": "9B2o5Cy9qYzt",
        "outputId": "36e43d92-44a9-483a-9de4-36af1005d50b"
      },
      "outputs": [
        {
          "name": "stdout",
          "output_type": "stream",
          "text": [
            "9914 ./new-york-city-taxi-fare-prediction/test.csv\n"
          ]
        }
      ],
      "source": [
        "# No. of lines in test set\n",
        "!wc -l {data_dir}/test.csv"
      ]
    },
    {
      "cell_type": "code",
      "execution_count": null,
      "metadata": {
        "colab": {
          "base_uri": "https://localhost:8080/"
        },
        "id": "mY1F_dQZrMOF",
        "outputId": "c2051361-fe91-45e6-b995-7bb798c318c9"
      },
      "outputs": [
        {
          "name": "stdout",
          "output_type": "stream",
          "text": [
            "9915 ./new-york-city-taxi-fare-prediction/sample_submission.csv\n"
          ]
        }
      ],
      "source": [
        "# No. of lines in submission file\n",
        "!wc -l {data_dir}/sample_submission.csv"
      ]
    },
    {
      "cell_type": "markdown",
      "metadata": {
        "id": "sc2Eng0XvU01"
      },
      "source": [
        "**# No. of lines in training set**"
      ]
    },
    {
      "cell_type": "code",
      "execution_count": null,
      "metadata": {
        "colab": {
          "base_uri": "https://localhost:8080/"
        },
        "id": "S-lW9xopvI8c",
        "outputId": "08977a7a-47ed-427e-e8f4-03865ec78dee"
      },
      "outputs": [
        {
          "name": "stdout",
          "output_type": "stream",
          "text": [
            "55423856 ./new-york-city-taxi-fare-prediction/train.csv\n"
          ]
        }
      ],
      "source": [
        "!wc -l {data_dir}/train.csv"
      ]
    },
    {
      "cell_type": "markdown",
      "metadata": {
        "id": "16srMfBNvq6s"
      },
      "source": [
        "**# No. of lines in submission file**"
      ]
    },
    {
      "cell_type": "code",
      "execution_count": null,
      "metadata": {
        "colab": {
          "base_uri": "https://localhost:8080/"
        },
        "id": "_RxddcalvgH1",
        "outputId": "fa17bbaa-86d5-4a81-c615-396084b3f6b0"
      },
      "outputs": [
        {
          "name": "stdout",
          "output_type": "stream",
          "text": [
            "9914 ./new-york-city-taxi-fare-prediction/test.csv\n"
          ]
        }
      ],
      "source": [
        "!wc -l {data_dir}/test.csv"
      ]
    },
    {
      "cell_type": "markdown",
      "metadata": {
        "id": "e7gQnzjjv5jk"
      },
      "source": [
        "**# No. of lines in test set**"
      ]
    },
    {
      "cell_type": "code",
      "execution_count": null,
      "metadata": {
        "colab": {
          "base_uri": "https://localhost:8080/"
        },
        "id": "frxpipIWv1OL",
        "outputId": "52f708bf-96bd-4bb6-91c8-27ff06c32b95"
      },
      "outputs": [
        {
          "name": "stdout",
          "output_type": "stream",
          "text": [
            "9914 ./new-york-city-taxi-fare-prediction/test.csv\n"
          ]
        }
      ],
      "source": [
        "!wc -l {data_dir}/test.csv"
      ]
    },
    {
      "cell_type": "markdown",
      "metadata": {
        "id": "OqMuyTpzrXww"
      },
      "source": [
        "Observations:\n",
        "\n",
        "* This is a supervised learning \n",
        "regression problem\n",
        "* Training data is 5.5 GB in size\n",
        "* Training data has 5.5 million rows\n",
        "* Test set is much smaller (< 10,000 rows)\n",
        "* The training set has 8 columns:\n",
        "   * key (a unique identifier)\n",
        "   * fare_amount (target column)\n",
        "   * pickup_datetime\n",
        "   * pickup_longitude\n",
        "   * pickup_latitude\n",
        "   * dropoff_longitude\n",
        "   * dropoff_latitude\n",
        "   * passenger_count\n",
        "* The test set has all columns except the target column fare_amount.\n",
        "* The submission file should contain the key and fare_amount for each test sample."
      ]
    },
    {
      "cell_type": "code",
      "execution_count": null,
      "metadata": {
        "colab": {
          "base_uri": "https://localhost:8080/",
          "height": 107
        },
        "id": "Leu5s5ROrWBD",
        "outputId": "3d6fe26b-0992-4acf-8f84-6a930ee84e59"
      },
      "outputs": [
        {
          "name": "stdout",
          "output_type": "stream",
          "text": [
            "[jovian] Detected Colab notebook...\u001b[0m\n",
            "[jovian] Uploading colab notebook to Jovian...\u001b[0m\n",
            "Committed successfully! https://jovian.ai/programeralebrije/new-york-taxi-fare-predictions\n"
          ]
        },
        {
          "data": {
            "application/vnd.google.colaboratory.intrinsic+json": {
              "type": "string"
            },
            "text/plain": [
              "'https://jovian.ai/programeralebrije/new-york-taxi-fare-predictions'"
            ]
          },
          "execution_count": 23,
          "metadata": {},
          "output_type": "execute_result"
        }
      ],
      "source": [
        "jovian.commit()"
      ]
    },
    {
      "cell_type": "markdown",
      "metadata": {
        "id": "vqkardaS1ZCg"
      },
      "source": [
        "##  1.- Loading Training Set"
      ]
    },
    {
      "cell_type": "markdown",
      "metadata": {
        "id": "xKcokxxa1ITx"
      },
      "source": [
        "Loading the entire dataset into Pandas is going to be slow, so we can use the following optimizations:\n",
        "\n",
        " * Ignore the key column\n",
        " * Parse pickup datetime while loading data\n",
        " * Specify data types for other columns\n",
        "   * float32 for geo coordinates\n",
        "   * float32 for fare amount\n",
        "   * uint8 for passenger count\n",
        "* Work with a 1% sample of the data (~500k rows)\n",
        "We can apply these optimizations while using pd.read_csv"
      ]
    },
    {
      "cell_type": "code",
      "execution_count": null,
      "metadata": {
        "id": "fx8_l8Y3rOaY"
      },
      "outputs": [],
      "source": [
        "import pandas as pd\n",
        "import random"
      ]
    },
    {
      "cell_type": "code",
      "execution_count": null,
      "metadata": {
        "id": "DrPQheed1hKM"
      },
      "outputs": [],
      "source": [
        "sample_frac = 0.03"
      ]
    },
    {
      "cell_type": "code",
      "execution_count": null,
      "metadata": {
        "id": "k2DjZous3C7k"
      },
      "outputs": [],
      "source": [
        "selected_cols = 'fare_amount,pickup_datetime,pickup_longitude,pickup_latitude,dropoff_longitude,dropoff_latitude,passenger_count'.split(',')\n",
        "dtypes = {\n",
        "    'fare_amount': 'float32',\n",
        "    'pickup_longitude': 'float32',\n",
        "    'pickup_latitude': 'float32',\n",
        "    'dropoff_longitude': 'float32',\n",
        "    'passenger_count': 'float32'\n",
        "}"
      ]
    },
    {
      "cell_type": "code",
      "execution_count": null,
      "metadata": {
        "colab": {
          "base_uri": "https://localhost:8080/"
        },
        "id": "HH1qUSSL3Etj",
        "outputId": "702fb6f4-6a7d-42e8-c8bc-97c484aedcad"
      },
      "outputs": [
        {
          "data": {
            "text/plain": [
              "['fare_amount',\n",
              " 'pickup_datetime',\n",
              " 'pickup_longitude',\n",
              " 'pickup_latitude',\n",
              " 'dropoff_longitude',\n",
              " 'dropoff_latitude',\n",
              " 'passenger_count']"
            ]
          },
          "execution_count": 27,
          "metadata": {},
          "output_type": "execute_result"
        }
      ],
      "source": [
        "selected_cols"
      ]
    },
    {
      "cell_type": "code",
      "execution_count": null,
      "metadata": {
        "id": "u70P83dq35vL"
      },
      "outputs": [],
      "source": [
        "import random"
      ]
    },
    {
      "cell_type": "code",
      "execution_count": null,
      "metadata": {
        "colab": {
          "base_uri": "https://localhost:8080/"
        },
        "id": "0aOhNVoW4DsM",
        "outputId": "60c91601-295a-469e-cafd-d5bc1599cfc0"
      },
      "outputs": [
        {
          "data": {
            "text/plain": [
              "0.9087736271740057"
            ]
          },
          "execution_count": 29,
          "metadata": {},
          "output_type": "execute_result"
        }
      ],
      "source": [
        "random.random(\n",
        "    \n",
        ")"
      ]
    },
    {
      "cell_type": "code",
      "execution_count": null,
      "metadata": {
        "id": "32QzZnL53JqJ"
      },
      "outputs": [],
      "source": [
        "\n",
        "dtypes = {\n",
        "    'fare_amount': 'float32',\n",
        "    'pickup_longitude': 'float32',\n",
        "    'pickup_latitude': 'float32',\n",
        "    'dropoff_longitude': 'float32',\n",
        "    'passenger_count': 'float32'\n",
        "}\n",
        "\n",
        "def skip_row(row_idx):\n",
        "    if row_idx == 0:\n",
        "        return False\n",
        "    return random.random() > sample_frac\n",
        "\n",
        "random.seed(42)\n",
        "df = pd.read_csv(data_dir+\"/train.csv\", \n",
        "                 usecols=selected_cols, \n",
        "                 dtype=dtypes, \n",
        "                 parse_dates=['pickup_datetime'], \n",
        "                 skiprows=skip_row)"
      ]
    },
    {
      "cell_type": "markdown",
      "metadata": {
        "id": "mwX54wuJACsj"
      },
      "source": [
        "CPU times: user 5min 19s, sys: 1.04 s, total: 5min 19s\n",
        "Wall time: 5min 19s"
      ]
    },
    {
      "cell_type": "code",
      "execution_count": null,
      "metadata": {
        "colab": {
          "base_uri": "https://localhost:8080/",
          "height": 661
        },
        "id": "1wuIBm0tABTo",
        "outputId": "941cac69-cb21-4b51-877a-94686170093b"
      },
      "outputs": [
        {
          "data": {
            "text/html": [
              "\n",
              "  <div id=\"df-7455a88e-04aa-4c98-9017-8dc747a95758\">\n",
              "    <div class=\"colab-df-container\">\n",
              "      <div>\n",
              "<style scoped>\n",
              "    .dataframe tbody tr th:only-of-type {\n",
              "        vertical-align: middle;\n",
              "    }\n",
              "\n",
              "    .dataframe tbody tr th {\n",
              "        vertical-align: top;\n",
              "    }\n",
              "\n",
              "    .dataframe thead th {\n",
              "        text-align: right;\n",
              "    }\n",
              "</style>\n",
              "<table border=\"1\" class=\"dataframe\">\n",
              "  <thead>\n",
              "    <tr style=\"text-align: right;\">\n",
              "      <th></th>\n",
              "      <th>fare_amount</th>\n",
              "      <th>pickup_datetime</th>\n",
              "      <th>pickup_longitude</th>\n",
              "      <th>pickup_latitude</th>\n",
              "      <th>dropoff_longitude</th>\n",
              "      <th>dropoff_latitude</th>\n",
              "      <th>passenger_count</th>\n",
              "    </tr>\n",
              "  </thead>\n",
              "  <tbody>\n",
              "    <tr>\n",
              "      <th>0</th>\n",
              "      <td>16.9</td>\n",
              "      <td>2010-01-05 16:52:16+00:00</td>\n",
              "      <td>-74.016045</td>\n",
              "      <td>40.711304</td>\n",
              "      <td>-73.979271</td>\n",
              "      <td>40.782004</td>\n",
              "      <td>1.0</td>\n",
              "    </tr>\n",
              "    <tr>\n",
              "      <th>1</th>\n",
              "      <td>8.9</td>\n",
              "      <td>2009-09-02 01:11:00+00:00</td>\n",
              "      <td>-73.980659</td>\n",
              "      <td>40.733871</td>\n",
              "      <td>-73.991539</td>\n",
              "      <td>40.758138</td>\n",
              "      <td>2.0</td>\n",
              "    </tr>\n",
              "    <tr>\n",
              "      <th>2</th>\n",
              "      <td>4.1</td>\n",
              "      <td>2009-11-06 01:04:03+00:00</td>\n",
              "      <td>-73.991600</td>\n",
              "      <td>40.744713</td>\n",
              "      <td>-73.983078</td>\n",
              "      <td>40.744682</td>\n",
              "      <td>2.0</td>\n",
              "    </tr>\n",
              "    <tr>\n",
              "      <th>3</th>\n",
              "      <td>4.0</td>\n",
              "      <td>2014-12-06 20:36:22+00:00</td>\n",
              "      <td>-73.979813</td>\n",
              "      <td>40.751904</td>\n",
              "      <td>-73.979446</td>\n",
              "      <td>40.755481</td>\n",
              "      <td>1.0</td>\n",
              "    </tr>\n",
              "    <tr>\n",
              "      <th>4</th>\n",
              "      <td>10.0</td>\n",
              "      <td>2014-11-12 12:40:29+00:00</td>\n",
              "      <td>-74.002579</td>\n",
              "      <td>40.739571</td>\n",
              "      <td>-73.994583</td>\n",
              "      <td>40.760682</td>\n",
              "      <td>1.0</td>\n",
              "    </tr>\n",
              "    <tr>\n",
              "      <th>...</th>\n",
              "      <td>...</td>\n",
              "      <td>...</td>\n",
              "      <td>...</td>\n",
              "      <td>...</td>\n",
              "      <td>...</td>\n",
              "      <td>...</td>\n",
              "      <td>...</td>\n",
              "    </tr>\n",
              "    <tr>\n",
              "      <th>1661726</th>\n",
              "      <td>14.5</td>\n",
              "      <td>2013-01-27 12:41:00+00:00</td>\n",
              "      <td>-74.012115</td>\n",
              "      <td>40.706635</td>\n",
              "      <td>-73.988724</td>\n",
              "      <td>40.756217</td>\n",
              "      <td>1.0</td>\n",
              "    </tr>\n",
              "    <tr>\n",
              "      <th>1661727</th>\n",
              "      <td>7.5</td>\n",
              "      <td>2013-03-02 03:13:05+00:00</td>\n",
              "      <td>-74.002953</td>\n",
              "      <td>40.728493</td>\n",
              "      <td>-73.985329</td>\n",
              "      <td>40.726105</td>\n",
              "      <td>1.0</td>\n",
              "    </tr>\n",
              "    <tr>\n",
              "      <th>1661728</th>\n",
              "      <td>6.0</td>\n",
              "      <td>2014-10-18 07:51:00+00:00</td>\n",
              "      <td>-73.997681</td>\n",
              "      <td>40.724380</td>\n",
              "      <td>-73.994148</td>\n",
              "      <td>40.717797</td>\n",
              "      <td>1.0</td>\n",
              "    </tr>\n",
              "    <tr>\n",
              "      <th>1661729</th>\n",
              "      <td>8.0</td>\n",
              "      <td>2013-12-21 14:03:00+00:00</td>\n",
              "      <td>-73.976486</td>\n",
              "      <td>40.765919</td>\n",
              "      <td>-73.991524</td>\n",
              "      <td>40.759857</td>\n",
              "      <td>6.0</td>\n",
              "    </tr>\n",
              "    <tr>\n",
              "      <th>1661730</th>\n",
              "      <td>10.5</td>\n",
              "      <td>2010-08-10 11:19:42+00:00</td>\n",
              "      <td>-73.974640</td>\n",
              "      <td>40.787758</td>\n",
              "      <td>-74.001518</td>\n",
              "      <td>40.762081</td>\n",
              "      <td>1.0</td>\n",
              "    </tr>\n",
              "  </tbody>\n",
              "</table>\n",
              "<p>1661731 rows × 7 columns</p>\n",
              "</div>\n",
              "      <button class=\"colab-df-convert\" onclick=\"convertToInteractive('df-7455a88e-04aa-4c98-9017-8dc747a95758')\"\n",
              "              title=\"Convert this dataframe to an interactive table.\"\n",
              "              style=\"display:none;\">\n",
              "        \n",
              "  <svg xmlns=\"http://www.w3.org/2000/svg\" height=\"24px\"viewBox=\"0 0 24 24\"\n",
              "       width=\"24px\">\n",
              "    <path d=\"M0 0h24v24H0V0z\" fill=\"none\"/>\n",
              "    <path d=\"M18.56 5.44l.94 2.06.94-2.06 2.06-.94-2.06-.94-.94-2.06-.94 2.06-2.06.94zm-11 1L8.5 8.5l.94-2.06 2.06-.94-2.06-.94L8.5 2.5l-.94 2.06-2.06.94zm10 10l.94 2.06.94-2.06 2.06-.94-2.06-.94-.94-2.06-.94 2.06-2.06.94z\"/><path d=\"M17.41 7.96l-1.37-1.37c-.4-.4-.92-.59-1.43-.59-.52 0-1.04.2-1.43.59L10.3 9.45l-7.72 7.72c-.78.78-.78 2.05 0 2.83L4 21.41c.39.39.9.59 1.41.59.51 0 1.02-.2 1.41-.59l7.78-7.78 2.81-2.81c.8-.78.8-2.07 0-2.86zM5.41 20L4 18.59l7.72-7.72 1.47 1.35L5.41 20z\"/>\n",
              "  </svg>\n",
              "      </button>\n",
              "      \n",
              "  <style>\n",
              "    .colab-df-container {\n",
              "      display:flex;\n",
              "      flex-wrap:wrap;\n",
              "      gap: 12px;\n",
              "    }\n",
              "\n",
              "    .colab-df-convert {\n",
              "      background-color: #E8F0FE;\n",
              "      border: none;\n",
              "      border-radius: 50%;\n",
              "      cursor: pointer;\n",
              "      display: none;\n",
              "      fill: #1967D2;\n",
              "      height: 32px;\n",
              "      padding: 0 0 0 0;\n",
              "      width: 32px;\n",
              "    }\n",
              "\n",
              "    .colab-df-convert:hover {\n",
              "      background-color: #E2EBFA;\n",
              "      box-shadow: 0px 1px 2px rgba(60, 64, 67, 0.3), 0px 1px 3px 1px rgba(60, 64, 67, 0.15);\n",
              "      fill: #174EA6;\n",
              "    }\n",
              "\n",
              "    [theme=dark] .colab-df-convert {\n",
              "      background-color: #3B4455;\n",
              "      fill: #D2E3FC;\n",
              "    }\n",
              "\n",
              "    [theme=dark] .colab-df-convert:hover {\n",
              "      background-color: #434B5C;\n",
              "      box-shadow: 0px 1px 3px 1px rgba(0, 0, 0, 0.15);\n",
              "      filter: drop-shadow(0px 1px 2px rgba(0, 0, 0, 0.3));\n",
              "      fill: #FFFFFF;\n",
              "    }\n",
              "  </style>\n",
              "\n",
              "      <script>\n",
              "        const buttonEl =\n",
              "          document.querySelector('#df-7455a88e-04aa-4c98-9017-8dc747a95758 button.colab-df-convert');\n",
              "        buttonEl.style.display =\n",
              "          google.colab.kernel.accessAllowed ? 'block' : 'none';\n",
              "\n",
              "        async function convertToInteractive(key) {\n",
              "          const element = document.querySelector('#df-7455a88e-04aa-4c98-9017-8dc747a95758');\n",
              "          const dataTable =\n",
              "            await google.colab.kernel.invokeFunction('convertToInteractive',\n",
              "                                                     [key], {});\n",
              "          if (!dataTable) return;\n",
              "\n",
              "          const docLinkHtml = 'Like what you see? Visit the ' +\n",
              "            '<a target=\"_blank\" href=https://colab.research.google.com/notebooks/data_table.ipynb>data table notebook</a>'\n",
              "            + ' to learn more about interactive tables.';\n",
              "          element.innerHTML = '';\n",
              "          dataTable['output_type'] = 'display_data';\n",
              "          await google.colab.output.renderOutput(dataTable, element);\n",
              "          const docLink = document.createElement('div');\n",
              "          docLink.innerHTML = docLinkHtml;\n",
              "          element.appendChild(docLink);\n",
              "        }\n",
              "      </script>\n",
              "    </div>\n",
              "  </div>\n",
              "  "
            ],
            "text/plain": [
              "         fare_amount  ... passenger_count\n",
              "0               16.9  ...             1.0\n",
              "1                8.9  ...             2.0\n",
              "2                4.1  ...             2.0\n",
              "3                4.0  ...             1.0\n",
              "4               10.0  ...             1.0\n",
              "...              ...  ...             ...\n",
              "1661726         14.5  ...             1.0\n",
              "1661727          7.5  ...             1.0\n",
              "1661728          6.0  ...             1.0\n",
              "1661729          8.0  ...             6.0\n",
              "1661730         10.5  ...             1.0\n",
              "\n",
              "[1661731 rows x 7 columns]"
            ]
          },
          "execution_count": 31,
          "metadata": {},
          "output_type": "execute_result"
        }
      ],
      "source": [
        "df"
      ]
    },
    {
      "cell_type": "code",
      "execution_count": null,
      "metadata": {
        "id": "eU-T66VP3t20"
      },
      "outputs": [],
      "source": [
        "test_df = pd.read_csv(data_dir+'/test.csv', dtype=dtypes, parse_dates=['pickup_datetime'])"
      ]
    },
    {
      "cell_type": "code",
      "execution_count": null,
      "metadata": {
        "colab": {
          "base_uri": "https://localhost:8080/",
          "height": 661
        },
        "id": "n0RKCr6mAhtJ",
        "outputId": "987d4f2d-2db3-4529-fb93-a9bc12b68b0b"
      },
      "outputs": [
        {
          "data": {
            "text/html": [
              "\n",
              "  <div id=\"df-d3fe4ec3-114c-4c74-8556-d6975b31e819\">\n",
              "    <div class=\"colab-df-container\">\n",
              "      <div>\n",
              "<style scoped>\n",
              "    .dataframe tbody tr th:only-of-type {\n",
              "        vertical-align: middle;\n",
              "    }\n",
              "\n",
              "    .dataframe tbody tr th {\n",
              "        vertical-align: top;\n",
              "    }\n",
              "\n",
              "    .dataframe thead th {\n",
              "        text-align: right;\n",
              "    }\n",
              "</style>\n",
              "<table border=\"1\" class=\"dataframe\">\n",
              "  <thead>\n",
              "    <tr style=\"text-align: right;\">\n",
              "      <th></th>\n",
              "      <th>key</th>\n",
              "      <th>pickup_datetime</th>\n",
              "      <th>pickup_longitude</th>\n",
              "      <th>pickup_latitude</th>\n",
              "      <th>dropoff_longitude</th>\n",
              "      <th>dropoff_latitude</th>\n",
              "      <th>passenger_count</th>\n",
              "    </tr>\n",
              "  </thead>\n",
              "  <tbody>\n",
              "    <tr>\n",
              "      <th>0</th>\n",
              "      <td>2015-01-27 13:08:24.0000002</td>\n",
              "      <td>2015-01-27 13:08:24+00:00</td>\n",
              "      <td>-73.973320</td>\n",
              "      <td>40.763805</td>\n",
              "      <td>-73.981430</td>\n",
              "      <td>40.743835</td>\n",
              "      <td>1.0</td>\n",
              "    </tr>\n",
              "    <tr>\n",
              "      <th>1</th>\n",
              "      <td>2015-01-27 13:08:24.0000003</td>\n",
              "      <td>2015-01-27 13:08:24+00:00</td>\n",
              "      <td>-73.986862</td>\n",
              "      <td>40.719383</td>\n",
              "      <td>-73.998886</td>\n",
              "      <td>40.739201</td>\n",
              "      <td>1.0</td>\n",
              "    </tr>\n",
              "    <tr>\n",
              "      <th>2</th>\n",
              "      <td>2011-10-08 11:53:44.0000002</td>\n",
              "      <td>2011-10-08 11:53:44+00:00</td>\n",
              "      <td>-73.982521</td>\n",
              "      <td>40.751259</td>\n",
              "      <td>-73.979652</td>\n",
              "      <td>40.746139</td>\n",
              "      <td>1.0</td>\n",
              "    </tr>\n",
              "    <tr>\n",
              "      <th>3</th>\n",
              "      <td>2012-12-01 21:12:12.0000002</td>\n",
              "      <td>2012-12-01 21:12:12+00:00</td>\n",
              "      <td>-73.981163</td>\n",
              "      <td>40.767807</td>\n",
              "      <td>-73.990448</td>\n",
              "      <td>40.751635</td>\n",
              "      <td>1.0</td>\n",
              "    </tr>\n",
              "    <tr>\n",
              "      <th>4</th>\n",
              "      <td>2012-12-01 21:12:12.0000003</td>\n",
              "      <td>2012-12-01 21:12:12+00:00</td>\n",
              "      <td>-73.966049</td>\n",
              "      <td>40.789776</td>\n",
              "      <td>-73.988564</td>\n",
              "      <td>40.744427</td>\n",
              "      <td>1.0</td>\n",
              "    </tr>\n",
              "    <tr>\n",
              "      <th>...</th>\n",
              "      <td>...</td>\n",
              "      <td>...</td>\n",
              "      <td>...</td>\n",
              "      <td>...</td>\n",
              "      <td>...</td>\n",
              "      <td>...</td>\n",
              "      <td>...</td>\n",
              "    </tr>\n",
              "    <tr>\n",
              "      <th>9909</th>\n",
              "      <td>2015-05-10 12:37:51.0000002</td>\n",
              "      <td>2015-05-10 12:37:51+00:00</td>\n",
              "      <td>-73.968124</td>\n",
              "      <td>40.796997</td>\n",
              "      <td>-73.955643</td>\n",
              "      <td>40.780388</td>\n",
              "      <td>6.0</td>\n",
              "    </tr>\n",
              "    <tr>\n",
              "      <th>9910</th>\n",
              "      <td>2015-01-12 17:05:51.0000001</td>\n",
              "      <td>2015-01-12 17:05:51+00:00</td>\n",
              "      <td>-73.945511</td>\n",
              "      <td>40.803600</td>\n",
              "      <td>-73.960213</td>\n",
              "      <td>40.776371</td>\n",
              "      <td>6.0</td>\n",
              "    </tr>\n",
              "    <tr>\n",
              "      <th>9911</th>\n",
              "      <td>2015-04-19 20:44:15.0000001</td>\n",
              "      <td>2015-04-19 20:44:15+00:00</td>\n",
              "      <td>-73.991600</td>\n",
              "      <td>40.726608</td>\n",
              "      <td>-73.789742</td>\n",
              "      <td>40.647011</td>\n",
              "      <td>6.0</td>\n",
              "    </tr>\n",
              "    <tr>\n",
              "      <th>9912</th>\n",
              "      <td>2015-01-31 01:05:19.0000005</td>\n",
              "      <td>2015-01-31 01:05:19+00:00</td>\n",
              "      <td>-73.985573</td>\n",
              "      <td>40.735432</td>\n",
              "      <td>-73.939178</td>\n",
              "      <td>40.801731</td>\n",
              "      <td>6.0</td>\n",
              "    </tr>\n",
              "    <tr>\n",
              "      <th>9913</th>\n",
              "      <td>2015-01-18 14:06:23.0000006</td>\n",
              "      <td>2015-01-18 14:06:23+00:00</td>\n",
              "      <td>-73.988022</td>\n",
              "      <td>40.754070</td>\n",
              "      <td>-74.000282</td>\n",
              "      <td>40.759220</td>\n",
              "      <td>6.0</td>\n",
              "    </tr>\n",
              "  </tbody>\n",
              "</table>\n",
              "<p>9914 rows × 7 columns</p>\n",
              "</div>\n",
              "      <button class=\"colab-df-convert\" onclick=\"convertToInteractive('df-d3fe4ec3-114c-4c74-8556-d6975b31e819')\"\n",
              "              title=\"Convert this dataframe to an interactive table.\"\n",
              "              style=\"display:none;\">\n",
              "        \n",
              "  <svg xmlns=\"http://www.w3.org/2000/svg\" height=\"24px\"viewBox=\"0 0 24 24\"\n",
              "       width=\"24px\">\n",
              "    <path d=\"M0 0h24v24H0V0z\" fill=\"none\"/>\n",
              "    <path d=\"M18.56 5.44l.94 2.06.94-2.06 2.06-.94-2.06-.94-.94-2.06-.94 2.06-2.06.94zm-11 1L8.5 8.5l.94-2.06 2.06-.94-2.06-.94L8.5 2.5l-.94 2.06-2.06.94zm10 10l.94 2.06.94-2.06 2.06-.94-2.06-.94-.94-2.06-.94 2.06-2.06.94z\"/><path d=\"M17.41 7.96l-1.37-1.37c-.4-.4-.92-.59-1.43-.59-.52 0-1.04.2-1.43.59L10.3 9.45l-7.72 7.72c-.78.78-.78 2.05 0 2.83L4 21.41c.39.39.9.59 1.41.59.51 0 1.02-.2 1.41-.59l7.78-7.78 2.81-2.81c.8-.78.8-2.07 0-2.86zM5.41 20L4 18.59l7.72-7.72 1.47 1.35L5.41 20z\"/>\n",
              "  </svg>\n",
              "      </button>\n",
              "      \n",
              "  <style>\n",
              "    .colab-df-container {\n",
              "      display:flex;\n",
              "      flex-wrap:wrap;\n",
              "      gap: 12px;\n",
              "    }\n",
              "\n",
              "    .colab-df-convert {\n",
              "      background-color: #E8F0FE;\n",
              "      border: none;\n",
              "      border-radius: 50%;\n",
              "      cursor: pointer;\n",
              "      display: none;\n",
              "      fill: #1967D2;\n",
              "      height: 32px;\n",
              "      padding: 0 0 0 0;\n",
              "      width: 32px;\n",
              "    }\n",
              "\n",
              "    .colab-df-convert:hover {\n",
              "      background-color: #E2EBFA;\n",
              "      box-shadow: 0px 1px 2px rgba(60, 64, 67, 0.3), 0px 1px 3px 1px rgba(60, 64, 67, 0.15);\n",
              "      fill: #174EA6;\n",
              "    }\n",
              "\n",
              "    [theme=dark] .colab-df-convert {\n",
              "      background-color: #3B4455;\n",
              "      fill: #D2E3FC;\n",
              "    }\n",
              "\n",
              "    [theme=dark] .colab-df-convert:hover {\n",
              "      background-color: #434B5C;\n",
              "      box-shadow: 0px 1px 3px 1px rgba(0, 0, 0, 0.15);\n",
              "      filter: drop-shadow(0px 1px 2px rgba(0, 0, 0, 0.3));\n",
              "      fill: #FFFFFF;\n",
              "    }\n",
              "  </style>\n",
              "\n",
              "      <script>\n",
              "        const buttonEl =\n",
              "          document.querySelector('#df-d3fe4ec3-114c-4c74-8556-d6975b31e819 button.colab-df-convert');\n",
              "        buttonEl.style.display =\n",
              "          google.colab.kernel.accessAllowed ? 'block' : 'none';\n",
              "\n",
              "        async function convertToInteractive(key) {\n",
              "          const element = document.querySelector('#df-d3fe4ec3-114c-4c74-8556-d6975b31e819');\n",
              "          const dataTable =\n",
              "            await google.colab.kernel.invokeFunction('convertToInteractive',\n",
              "                                                     [key], {});\n",
              "          if (!dataTable) return;\n",
              "\n",
              "          const docLinkHtml = 'Like what you see? Visit the ' +\n",
              "            '<a target=\"_blank\" href=https://colab.research.google.com/notebooks/data_table.ipynb>data table notebook</a>'\n",
              "            + ' to learn more about interactive tables.';\n",
              "          element.innerHTML = '';\n",
              "          dataTable['output_type'] = 'display_data';\n",
              "          await google.colab.output.renderOutput(dataTable, element);\n",
              "          const docLink = document.createElement('div');\n",
              "          docLink.innerHTML = docLinkHtml;\n",
              "          element.appendChild(docLink);\n",
              "        }\n",
              "      </script>\n",
              "    </div>\n",
              "  </div>\n",
              "  "
            ],
            "text/plain": [
              "                              key  ... passenger_count\n",
              "0     2015-01-27 13:08:24.0000002  ...             1.0\n",
              "1     2015-01-27 13:08:24.0000003  ...             1.0\n",
              "2     2011-10-08 11:53:44.0000002  ...             1.0\n",
              "3     2012-12-01 21:12:12.0000002  ...             1.0\n",
              "4     2012-12-01 21:12:12.0000003  ...             1.0\n",
              "...                           ...  ...             ...\n",
              "9909  2015-05-10 12:37:51.0000002  ...             6.0\n",
              "9910  2015-01-12 17:05:51.0000001  ...             6.0\n",
              "9911  2015-04-19 20:44:15.0000001  ...             6.0\n",
              "9912  2015-01-31 01:05:19.0000005  ...             6.0\n",
              "9913  2015-01-18 14:06:23.0000006  ...             6.0\n",
              "\n",
              "[9914 rows x 7 columns]"
            ]
          },
          "execution_count": 33,
          "metadata": {},
          "output_type": "execute_result"
        }
      ],
      "source": [
        "test_df"
      ]
    },
    {
      "cell_type": "code",
      "execution_count": null,
      "metadata": {
        "colab": {
          "base_uri": "https://localhost:8080/",
          "height": 107
        },
        "id": "snNy1mgCAjoW",
        "outputId": "5909bac1-9bf0-48ba-86ea-af2962738807"
      },
      "outputs": [
        {
          "name": "stdout",
          "output_type": "stream",
          "text": [
            "[jovian] Detected Colab notebook...\u001b[0m\n",
            "[jovian] Uploading colab notebook to Jovian...\u001b[0m\n",
            "Committed successfully! https://jovian.ai/programeralebrije/new-york-taxi-fare-predictions\n"
          ]
        },
        {
          "data": {
            "application/vnd.google.colaboratory.intrinsic+json": {
              "type": "string"
            },
            "text/plain": [
              "'https://jovian.ai/programeralebrije/new-york-taxi-fare-predictions'"
            ]
          },
          "execution_count": 34,
          "metadata": {},
          "output_type": "execute_result"
        }
      ],
      "source": [
        "jovian.commit()"
      ]
    },
    {
      "cell_type": "markdown",
      "metadata": {
        "id": "5X_qi2p0A9nO"
      },
      "source": [
        "## 2.- Explore the Dataset"
      ]
    },
    {
      "cell_type": "markdown",
      "metadata": {
        "id": "kp87hqyHFI7_"
      },
      "source": [
        "* Basic info about training set\n",
        "* Basic info about test set\n",
        "* Exploratory data analysis & visualization\n",
        "* Ask & answer questions"
      ]
    },
    {
      "cell_type": "markdown",
      "metadata": {
        "id": "9xPJkvpIFZD3"
      },
      "source": [
        "## Training Set\n"
      ]
    },
    {
      "cell_type": "code",
      "execution_count": null,
      "metadata": {
        "colab": {
          "base_uri": "https://localhost:8080/"
        },
        "id": "RJwdULbwApyQ",
        "outputId": "2468c6b9-03e5-4f93-81b3-3a5df979cde6"
      },
      "outputs": [
        {
          "name": "stdout",
          "output_type": "stream",
          "text": [
            "<class 'pandas.core.frame.DataFrame'>\n",
            "RangeIndex: 1661731 entries, 0 to 1661730\n",
            "Data columns (total 7 columns):\n",
            " #   Column             Non-Null Count    Dtype              \n",
            "---  ------             --------------    -----              \n",
            " 0   fare_amount        1661731 non-null  float32            \n",
            " 1   pickup_datetime    1661731 non-null  datetime64[ns, UTC]\n",
            " 2   pickup_longitude   1661731 non-null  float32            \n",
            " 3   pickup_latitude    1661731 non-null  float32            \n",
            " 4   dropoff_longitude  1661717 non-null  float32            \n",
            " 5   dropoff_latitude   1661717 non-null  float64            \n",
            " 6   passenger_count    1661731 non-null  float32            \n",
            "dtypes: datetime64[ns, UTC](1), float32(5), float64(1)\n",
            "memory usage: 57.1 MB\n"
          ]
        }
      ],
      "source": [
        "df.info()"
      ]
    },
    {
      "cell_type": "code",
      "execution_count": null,
      "metadata": {
        "colab": {
          "base_uri": "https://localhost:8080/",
          "height": 364
        },
        "id": "81T9kxjWFedF",
        "outputId": "b8efa10c-36fb-482f-ac7c-9a6378ebafff"
      },
      "outputs": [
        {
          "data": {
            "text/html": [
              "\n",
              "  <div id=\"df-2e3020d6-1201-475f-a4c9-98c87411a535\">\n",
              "    <div class=\"colab-df-container\">\n",
              "      <div>\n",
              "<style scoped>\n",
              "    .dataframe tbody tr th:only-of-type {\n",
              "        vertical-align: middle;\n",
              "    }\n",
              "\n",
              "    .dataframe tbody tr th {\n",
              "        vertical-align: top;\n",
              "    }\n",
              "\n",
              "    .dataframe thead th {\n",
              "        text-align: right;\n",
              "    }\n",
              "</style>\n",
              "<table border=\"1\" class=\"dataframe\">\n",
              "  <thead>\n",
              "    <tr style=\"text-align: right;\">\n",
              "      <th></th>\n",
              "      <th>fare_amount</th>\n",
              "      <th>pickup_longitude</th>\n",
              "      <th>pickup_latitude</th>\n",
              "      <th>dropoff_longitude</th>\n",
              "      <th>dropoff_latitude</th>\n",
              "      <th>passenger_count</th>\n",
              "    </tr>\n",
              "  </thead>\n",
              "  <tbody>\n",
              "    <tr>\n",
              "      <th>count</th>\n",
              "      <td>1.661731e+06</td>\n",
              "      <td>1.661731e+06</td>\n",
              "      <td>1.661731e+06</td>\n",
              "      <td>1.661717e+06</td>\n",
              "      <td>1.661717e+06</td>\n",
              "      <td>1.661731e+06</td>\n",
              "    </tr>\n",
              "    <tr>\n",
              "      <th>mean</th>\n",
              "      <td>1.134016e+01</td>\n",
              "      <td>-7.126932e+01</td>\n",
              "      <td>3.940133e+01</td>\n",
              "      <td>-7.126912e+01</td>\n",
              "      <td>3.991955e+01</td>\n",
              "      <td>1.685489e+00</td>\n",
              "    </tr>\n",
              "    <tr>\n",
              "      <th>std</th>\n",
              "      <td>9.830639e+00</td>\n",
              "      <td>1.274979e+01</td>\n",
              "      <td>1.048062e+01</td>\n",
              "      <td>1.297621e+01</td>\n",
              "      <td>1.029647e+01</td>\n",
              "      <td>1.334168e+00</td>\n",
              "    </tr>\n",
              "    <tr>\n",
              "      <th>min</th>\n",
              "      <td>-3.000000e+02</td>\n",
              "      <td>-3.439245e+03</td>\n",
              "      <td>-3.474112e+03</td>\n",
              "      <td>-3.367929e+03</td>\n",
              "      <td>-3.474112e+03</td>\n",
              "      <td>0.000000e+00</td>\n",
              "    </tr>\n",
              "    <tr>\n",
              "      <th>25%</th>\n",
              "      <td>6.000000e+00</td>\n",
              "      <td>-7.399203e+01</td>\n",
              "      <td>4.073491e+01</td>\n",
              "      <td>-7.399140e+01</td>\n",
              "      <td>4.073399e+01</td>\n",
              "      <td>1.000000e+00</td>\n",
              "    </tr>\n",
              "    <tr>\n",
              "      <th>50%</th>\n",
              "      <td>8.500000e+00</td>\n",
              "      <td>-7.398180e+01</td>\n",
              "      <td>4.075266e+01</td>\n",
              "      <td>-7.398017e+01</td>\n",
              "      <td>4.075313e+01</td>\n",
              "      <td>1.000000e+00</td>\n",
              "    </tr>\n",
              "    <tr>\n",
              "      <th>75%</th>\n",
              "      <td>1.250000e+01</td>\n",
              "      <td>-7.396710e+01</td>\n",
              "      <td>4.076711e+01</td>\n",
              "      <td>-7.396368e+01</td>\n",
              "      <td>4.076806e+01</td>\n",
              "      <td>2.000000e+00</td>\n",
              "    </tr>\n",
              "    <tr>\n",
              "      <th>max</th>\n",
              "      <td>1.097480e+03</td>\n",
              "      <td>3.442185e+03</td>\n",
              "      <td>3.347260e+03</td>\n",
              "      <td>3.442185e+03</td>\n",
              "      <td>3.351403e+03</td>\n",
              "      <td>2.080000e+02</td>\n",
              "    </tr>\n",
              "  </tbody>\n",
              "</table>\n",
              "</div>\n",
              "      <button class=\"colab-df-convert\" onclick=\"convertToInteractive('df-2e3020d6-1201-475f-a4c9-98c87411a535')\"\n",
              "              title=\"Convert this dataframe to an interactive table.\"\n",
              "              style=\"display:none;\">\n",
              "        \n",
              "  <svg xmlns=\"http://www.w3.org/2000/svg\" height=\"24px\"viewBox=\"0 0 24 24\"\n",
              "       width=\"24px\">\n",
              "    <path d=\"M0 0h24v24H0V0z\" fill=\"none\"/>\n",
              "    <path d=\"M18.56 5.44l.94 2.06.94-2.06 2.06-.94-2.06-.94-.94-2.06-.94 2.06-2.06.94zm-11 1L8.5 8.5l.94-2.06 2.06-.94-2.06-.94L8.5 2.5l-.94 2.06-2.06.94zm10 10l.94 2.06.94-2.06 2.06-.94-2.06-.94-.94-2.06-.94 2.06-2.06.94z\"/><path d=\"M17.41 7.96l-1.37-1.37c-.4-.4-.92-.59-1.43-.59-.52 0-1.04.2-1.43.59L10.3 9.45l-7.72 7.72c-.78.78-.78 2.05 0 2.83L4 21.41c.39.39.9.59 1.41.59.51 0 1.02-.2 1.41-.59l7.78-7.78 2.81-2.81c.8-.78.8-2.07 0-2.86zM5.41 20L4 18.59l7.72-7.72 1.47 1.35L5.41 20z\"/>\n",
              "  </svg>\n",
              "      </button>\n",
              "      \n",
              "  <style>\n",
              "    .colab-df-container {\n",
              "      display:flex;\n",
              "      flex-wrap:wrap;\n",
              "      gap: 12px;\n",
              "    }\n",
              "\n",
              "    .colab-df-convert {\n",
              "      background-color: #E8F0FE;\n",
              "      border: none;\n",
              "      border-radius: 50%;\n",
              "      cursor: pointer;\n",
              "      display: none;\n",
              "      fill: #1967D2;\n",
              "      height: 32px;\n",
              "      padding: 0 0 0 0;\n",
              "      width: 32px;\n",
              "    }\n",
              "\n",
              "    .colab-df-convert:hover {\n",
              "      background-color: #E2EBFA;\n",
              "      box-shadow: 0px 1px 2px rgba(60, 64, 67, 0.3), 0px 1px 3px 1px rgba(60, 64, 67, 0.15);\n",
              "      fill: #174EA6;\n",
              "    }\n",
              "\n",
              "    [theme=dark] .colab-df-convert {\n",
              "      background-color: #3B4455;\n",
              "      fill: #D2E3FC;\n",
              "    }\n",
              "\n",
              "    [theme=dark] .colab-df-convert:hover {\n",
              "      background-color: #434B5C;\n",
              "      box-shadow: 0px 1px 3px 1px rgba(0, 0, 0, 0.15);\n",
              "      filter: drop-shadow(0px 1px 2px rgba(0, 0, 0, 0.3));\n",
              "      fill: #FFFFFF;\n",
              "    }\n",
              "  </style>\n",
              "\n",
              "      <script>\n",
              "        const buttonEl =\n",
              "          document.querySelector('#df-2e3020d6-1201-475f-a4c9-98c87411a535 button.colab-df-convert');\n",
              "        buttonEl.style.display =\n",
              "          google.colab.kernel.accessAllowed ? 'block' : 'none';\n",
              "\n",
              "        async function convertToInteractive(key) {\n",
              "          const element = document.querySelector('#df-2e3020d6-1201-475f-a4c9-98c87411a535');\n",
              "          const dataTable =\n",
              "            await google.colab.kernel.invokeFunction('convertToInteractive',\n",
              "                                                     [key], {});\n",
              "          if (!dataTable) return;\n",
              "\n",
              "          const docLinkHtml = 'Like what you see? Visit the ' +\n",
              "            '<a target=\"_blank\" href=https://colab.research.google.com/notebooks/data_table.ipynb>data table notebook</a>'\n",
              "            + ' to learn more about interactive tables.';\n",
              "          element.innerHTML = '';\n",
              "          dataTable['output_type'] = 'display_data';\n",
              "          await google.colab.output.renderOutput(dataTable, element);\n",
              "          const docLink = document.createElement('div');\n",
              "          docLink.innerHTML = docLinkHtml;\n",
              "          element.appendChild(docLink);\n",
              "        }\n",
              "      </script>\n",
              "    </div>\n",
              "  </div>\n",
              "  "
            ],
            "text/plain": [
              "        fare_amount  pickup_longitude  ...  dropoff_latitude  passenger_count\n",
              "count  1.661731e+06      1.661731e+06  ...      1.661717e+06     1.661731e+06\n",
              "mean   1.134016e+01     -7.126932e+01  ...      3.991955e+01     1.685489e+00\n",
              "std    9.830639e+00      1.274979e+01  ...      1.029647e+01     1.334168e+00\n",
              "min   -3.000000e+02     -3.439245e+03  ...     -3.474112e+03     0.000000e+00\n",
              "25%    6.000000e+00     -7.399203e+01  ...      4.073399e+01     1.000000e+00\n",
              "50%    8.500000e+00     -7.398180e+01  ...      4.075313e+01     1.000000e+00\n",
              "75%    1.250000e+01     -7.396710e+01  ...      4.076806e+01     2.000000e+00\n",
              "max    1.097480e+03      3.442185e+03  ...      3.351403e+03     2.080000e+02\n",
              "\n",
              "[8 rows x 6 columns]"
            ]
          },
          "execution_count": 36,
          "metadata": {},
          "output_type": "execute_result"
        }
      ],
      "source": [
        "df.describe()"
      ]
    },
    {
      "cell_type": "code",
      "execution_count": null,
      "metadata": {
        "colab": {
          "base_uri": "https://localhost:8080/"
        },
        "id": "u6LmKrknF4o_",
        "outputId": "70544e60-00d8-45cc-8b8a-4545308031de"
      },
      "outputs": [
        {
          "data": {
            "text/plain": [
              "(Timestamp('2009-01-01 00:11:46+0000', tz='UTC'),\n",
              " Timestamp('2015-06-30 23:59:54+0000', tz='UTC'))"
            ]
          },
          "execution_count": 37,
          "metadata": {},
          "output_type": "execute_result"
        }
      ],
      "source": [
        "df.pickup_datetime.min(), df.pickup_datetime.max()"
      ]
    },
    {
      "cell_type": "markdown",
      "metadata": {
        "id": "WDNHb510i4t6"
      },
      "source": [
        "Observations about training data:\n",
        "\n",
        "- 1,661,731 rows, as expected\n",
        "- No missing data (in the sample)\n",
        "- `fare_amount` ranges from \\$-300.0 to \\$1097.0 \n",
        "- `passenger_count` ranges from 0 to 208 \n",
        "- Dates range from 1st Jan 2009 to 30th June 2015\n",
        "- The dataset takes up ~57 MB of space in the RAM\n",
        "\n",
        "We may need to deal with outliers and data entry errors before we train our model."
      ]
    },
    {
      "cell_type": "markdown",
      "metadata": {
        "id": "JDKqGNKOjkHn"
      },
      "source": [
        "# Test Set"
      ]
    },
    {
      "cell_type": "code",
      "execution_count": null,
      "metadata": {
        "colab": {
          "base_uri": "https://localhost:8080/"
        },
        "id": "53b1uRQYKdIw",
        "outputId": "3d9dd122-a70f-46cc-fb95-fd0ecd3919e8"
      },
      "outputs": [
        {
          "name": "stdout",
          "output_type": "stream",
          "text": [
            "<class 'pandas.core.frame.DataFrame'>\n",
            "RangeIndex: 9914 entries, 0 to 9913\n",
            "Data columns (total 7 columns):\n",
            " #   Column             Non-Null Count  Dtype              \n",
            "---  ------             --------------  -----              \n",
            " 0   key                9914 non-null   object             \n",
            " 1   pickup_datetime    9914 non-null   datetime64[ns, UTC]\n",
            " 2   pickup_longitude   9914 non-null   float32            \n",
            " 3   pickup_latitude    9914 non-null   float32            \n",
            " 4   dropoff_longitude  9914 non-null   float32            \n",
            " 5   dropoff_latitude   9914 non-null   float64            \n",
            " 6   passenger_count    9914 non-null   float32            \n",
            "dtypes: datetime64[ns, UTC](1), float32(4), float64(1), object(1)\n",
            "memory usage: 387.4+ KB\n"
          ]
        }
      ],
      "source": [
        "test_df.info()"
      ]
    },
    {
      "cell_type": "code",
      "execution_count": null,
      "metadata": {
        "colab": {
          "base_uri": "https://localhost:8080/",
          "height": 364
        },
        "id": "3z4-4MYvjon1",
        "outputId": "c48a5edd-871d-4dc5-abf9-63a386e24a4c"
      },
      "outputs": [
        {
          "data": {
            "text/html": [
              "\n",
              "  <div id=\"df-2fbde721-9d72-46e9-8351-8970714901ae\">\n",
              "    <div class=\"colab-df-container\">\n",
              "      <div>\n",
              "<style scoped>\n",
              "    .dataframe tbody tr th:only-of-type {\n",
              "        vertical-align: middle;\n",
              "    }\n",
              "\n",
              "    .dataframe tbody tr th {\n",
              "        vertical-align: top;\n",
              "    }\n",
              "\n",
              "    .dataframe thead th {\n",
              "        text-align: right;\n",
              "    }\n",
              "</style>\n",
              "<table border=\"1\" class=\"dataframe\">\n",
              "  <thead>\n",
              "    <tr style=\"text-align: right;\">\n",
              "      <th></th>\n",
              "      <th>pickup_longitude</th>\n",
              "      <th>pickup_latitude</th>\n",
              "      <th>dropoff_longitude</th>\n",
              "      <th>dropoff_latitude</th>\n",
              "      <th>passenger_count</th>\n",
              "    </tr>\n",
              "  </thead>\n",
              "  <tbody>\n",
              "    <tr>\n",
              "      <th>count</th>\n",
              "      <td>9914.000000</td>\n",
              "      <td>9914.000000</td>\n",
              "      <td>9914.000000</td>\n",
              "      <td>9914.000000</td>\n",
              "      <td>9914.000000</td>\n",
              "    </tr>\n",
              "    <tr>\n",
              "      <th>mean</th>\n",
              "      <td>-73.976181</td>\n",
              "      <td>40.750954</td>\n",
              "      <td>-73.974945</td>\n",
              "      <td>40.751743</td>\n",
              "      <td>1.671273</td>\n",
              "    </tr>\n",
              "    <tr>\n",
              "      <th>std</th>\n",
              "      <td>0.042799</td>\n",
              "      <td>0.033542</td>\n",
              "      <td>0.039093</td>\n",
              "      <td>0.035435</td>\n",
              "      <td>1.278756</td>\n",
              "    </tr>\n",
              "    <tr>\n",
              "      <th>min</th>\n",
              "      <td>-74.252190</td>\n",
              "      <td>40.573143</td>\n",
              "      <td>-74.263245</td>\n",
              "      <td>40.568973</td>\n",
              "      <td>1.000000</td>\n",
              "    </tr>\n",
              "    <tr>\n",
              "      <th>25%</th>\n",
              "      <td>-73.992500</td>\n",
              "      <td>40.736125</td>\n",
              "      <td>-73.991249</td>\n",
              "      <td>40.735254</td>\n",
              "      <td>1.000000</td>\n",
              "    </tr>\n",
              "    <tr>\n",
              "      <th>50%</th>\n",
              "      <td>-73.982327</td>\n",
              "      <td>40.753052</td>\n",
              "      <td>-73.980015</td>\n",
              "      <td>40.754065</td>\n",
              "      <td>1.000000</td>\n",
              "    </tr>\n",
              "    <tr>\n",
              "      <th>75%</th>\n",
              "      <td>-73.968012</td>\n",
              "      <td>40.767113</td>\n",
              "      <td>-73.964062</td>\n",
              "      <td>40.768757</td>\n",
              "      <td>2.000000</td>\n",
              "    </tr>\n",
              "    <tr>\n",
              "      <th>max</th>\n",
              "      <td>-72.986534</td>\n",
              "      <td>41.709557</td>\n",
              "      <td>-72.990967</td>\n",
              "      <td>41.696683</td>\n",
              "      <td>6.000000</td>\n",
              "    </tr>\n",
              "  </tbody>\n",
              "</table>\n",
              "</div>\n",
              "      <button class=\"colab-df-convert\" onclick=\"convertToInteractive('df-2fbde721-9d72-46e9-8351-8970714901ae')\"\n",
              "              title=\"Convert this dataframe to an interactive table.\"\n",
              "              style=\"display:none;\">\n",
              "        \n",
              "  <svg xmlns=\"http://www.w3.org/2000/svg\" height=\"24px\"viewBox=\"0 0 24 24\"\n",
              "       width=\"24px\">\n",
              "    <path d=\"M0 0h24v24H0V0z\" fill=\"none\"/>\n",
              "    <path d=\"M18.56 5.44l.94 2.06.94-2.06 2.06-.94-2.06-.94-.94-2.06-.94 2.06-2.06.94zm-11 1L8.5 8.5l.94-2.06 2.06-.94-2.06-.94L8.5 2.5l-.94 2.06-2.06.94zm10 10l.94 2.06.94-2.06 2.06-.94-2.06-.94-.94-2.06-.94 2.06-2.06.94z\"/><path d=\"M17.41 7.96l-1.37-1.37c-.4-.4-.92-.59-1.43-.59-.52 0-1.04.2-1.43.59L10.3 9.45l-7.72 7.72c-.78.78-.78 2.05 0 2.83L4 21.41c.39.39.9.59 1.41.59.51 0 1.02-.2 1.41-.59l7.78-7.78 2.81-2.81c.8-.78.8-2.07 0-2.86zM5.41 20L4 18.59l7.72-7.72 1.47 1.35L5.41 20z\"/>\n",
              "  </svg>\n",
              "      </button>\n",
              "      \n",
              "  <style>\n",
              "    .colab-df-container {\n",
              "      display:flex;\n",
              "      flex-wrap:wrap;\n",
              "      gap: 12px;\n",
              "    }\n",
              "\n",
              "    .colab-df-convert {\n",
              "      background-color: #E8F0FE;\n",
              "      border: none;\n",
              "      border-radius: 50%;\n",
              "      cursor: pointer;\n",
              "      display: none;\n",
              "      fill: #1967D2;\n",
              "      height: 32px;\n",
              "      padding: 0 0 0 0;\n",
              "      width: 32px;\n",
              "    }\n",
              "\n",
              "    .colab-df-convert:hover {\n",
              "      background-color: #E2EBFA;\n",
              "      box-shadow: 0px 1px 2px rgba(60, 64, 67, 0.3), 0px 1px 3px 1px rgba(60, 64, 67, 0.15);\n",
              "      fill: #174EA6;\n",
              "    }\n",
              "\n",
              "    [theme=dark] .colab-df-convert {\n",
              "      background-color: #3B4455;\n",
              "      fill: #D2E3FC;\n",
              "    }\n",
              "\n",
              "    [theme=dark] .colab-df-convert:hover {\n",
              "      background-color: #434B5C;\n",
              "      box-shadow: 0px 1px 3px 1px rgba(0, 0, 0, 0.15);\n",
              "      filter: drop-shadow(0px 1px 2px rgba(0, 0, 0, 0.3));\n",
              "      fill: #FFFFFF;\n",
              "    }\n",
              "  </style>\n",
              "\n",
              "      <script>\n",
              "        const buttonEl =\n",
              "          document.querySelector('#df-2fbde721-9d72-46e9-8351-8970714901ae button.colab-df-convert');\n",
              "        buttonEl.style.display =\n",
              "          google.colab.kernel.accessAllowed ? 'block' : 'none';\n",
              "\n",
              "        async function convertToInteractive(key) {\n",
              "          const element = document.querySelector('#df-2fbde721-9d72-46e9-8351-8970714901ae');\n",
              "          const dataTable =\n",
              "            await google.colab.kernel.invokeFunction('convertToInteractive',\n",
              "                                                     [key], {});\n",
              "          if (!dataTable) return;\n",
              "\n",
              "          const docLinkHtml = 'Like what you see? Visit the ' +\n",
              "            '<a target=\"_blank\" href=https://colab.research.google.com/notebooks/data_table.ipynb>data table notebook</a>'\n",
              "            + ' to learn more about interactive tables.';\n",
              "          element.innerHTML = '';\n",
              "          dataTable['output_type'] = 'display_data';\n",
              "          await google.colab.output.renderOutput(dataTable, element);\n",
              "          const docLink = document.createElement('div');\n",
              "          docLink.innerHTML = docLinkHtml;\n",
              "          element.appendChild(docLink);\n",
              "        }\n",
              "      </script>\n",
              "    </div>\n",
              "  </div>\n",
              "  "
            ],
            "text/plain": [
              "       pickup_longitude  pickup_latitude  ...  dropoff_latitude  passenger_count\n",
              "count       9914.000000      9914.000000  ...       9914.000000      9914.000000\n",
              "mean         -73.976181        40.750954  ...         40.751743         1.671273\n",
              "std            0.042799         0.033542  ...          0.035435         1.278756\n",
              "min          -74.252190        40.573143  ...         40.568973         1.000000\n",
              "25%          -73.992500        40.736125  ...         40.735254         1.000000\n",
              "50%          -73.982327        40.753052  ...         40.754065         1.000000\n",
              "75%          -73.968012        40.767113  ...         40.768757         2.000000\n",
              "max          -72.986534        41.709557  ...         41.696683         6.000000\n",
              "\n",
              "[8 rows x 5 columns]"
            ]
          },
          "execution_count": 39,
          "metadata": {},
          "output_type": "execute_result"
        }
      ],
      "source": [
        "test_df.describe()"
      ]
    },
    {
      "cell_type": "code",
      "execution_count": null,
      "metadata": {
        "colab": {
          "base_uri": "https://localhost:8080/"
        },
        "id": "dJ7mV30rjsa_",
        "outputId": "b18cd568-01bf-4e57-e570-8b1d6d96fe95"
      },
      "outputs": [
        {
          "data": {
            "text/plain": [
              "(Timestamp('2009-01-01 11:04:24+0000', tz='UTC'),\n",
              " Timestamp('2015-06-30 20:03:50+0000', tz='UTC'))"
            ]
          },
          "execution_count": 40,
          "metadata": {},
          "output_type": "execute_result"
        }
      ],
      "source": [
        "test_df.pickup_datetime.min(), test_df.pickup_datetime.max()"
      ]
    },
    {
      "cell_type": "markdown",
      "metadata": {
        "id": "iKW9rainj1fN"
      },
      "source": [
        "Some observations about the test set:\n",
        "\n",
        "- 9914 rows of data\n",
        "- No missing values\n",
        "- No obvious data entry errors\n",
        "- 1 to 6 passengers (we can limit training data to this range)\n",
        "- Latitudes lie between 40 and 42\n",
        "- Longitudes lie between -75 and -72\n",
        "- Pickup dates range from Jan 1st 2009 to Jun  30th 2015 (same as training set)\n",
        "\n",
        "We can use the ranges of the test set to drop outliers/invalid data from the training set."
      ]
    },
    {
      "cell_type": "code",
      "execution_count": null,
      "metadata": {
        "colab": {
          "base_uri": "https://localhost:8080/",
          "height": 107
        },
        "id": "T-SezuFyjwbo",
        "outputId": "125b536e-12fd-4dc2-f580-8cb286591212"
      },
      "outputs": [
        {
          "name": "stdout",
          "output_type": "stream",
          "text": [
            "[jovian] Detected Colab notebook...\u001b[0m\n",
            "[jovian] Uploading colab notebook to Jovian...\u001b[0m\n",
            "Committed successfully! https://jovian.ai/programeralebrije/new-york-taxi-fare-predictions\n"
          ]
        },
        {
          "data": {
            "application/vnd.google.colaboratory.intrinsic+json": {
              "type": "string"
            },
            "text/plain": [
              "'https://jovian.ai/programeralebrije/new-york-taxi-fare-predictions'"
            ]
          },
          "execution_count": 41,
          "metadata": {},
          "output_type": "execute_result"
        }
      ],
      "source": [
        "jovian.commit()"
      ]
    },
    {
      "cell_type": "markdown",
      "metadata": {
        "id": "Cid1EtYSkfpt"
      },
      "source": [
        "### Exploratory Data Analysis and Visualization\n",
        "\n",
        "\n"
      ]
    },
    {
      "cell_type": "markdown",
      "metadata": {
        "id": "AY20F-YQkn4I"
      },
      "source": [
        "### Ask & Answer Questions\n",
        "\n",
        "\n",
        "1. What is the busiest day of the week?\n",
        "2. What is the busiest time of the day?\n",
        "3. In which month are fares the highest?\n",
        "4. Which pickup locations have the highest fares?\n",
        "5. Which drop locations have the highest fares?\n",
        "6. What is the average ride distance?\n",
        "\n",
        "EDA + asking questions will help you develop a deeper understand of the data and give you ideas for feature engineering."
      ]
    },
    {
      "cell_type": "code",
      "execution_count": null,
      "metadata": {
        "id": "zBTi3llmpaAK"
      },
      "outputs": [],
      "source": [
        "import seaborn as sns"
      ]
    },
    {
      "cell_type": "code",
      "execution_count": null,
      "metadata": {
        "id": "v4efFHuApcXR"
      },
      "outputs": [],
      "source": [
        "sns.set_style(\"darkgrid\")"
      ]
    },
    {
      "cell_type": "code",
      "execution_count": null,
      "metadata": {
        "colab": {
          "base_uri": "https://localhost:8080/",
          "height": 354
        },
        "id": "Ufn0q1jsj7qj",
        "outputId": "f8ab7d59-7326-4fd8-c315-68e45f52feff"
      },
      "outputs": [
        {
          "name": "stderr",
          "output_type": "stream",
          "text": [
            "/usr/local/lib/python3.7/dist-packages/seaborn/distributions.py:2619: FutureWarning: `distplot` is a deprecated function and will be removed in a future version. Please adapt your code to use either `displot` (a figure-level function with similar flexibility) or `histplot` (an axes-level function for histograms).\n",
            "  warnings.warn(msg, FutureWarning)\n"
          ]
        },
        {
          "data": {
            "text/plain": [
              "<matplotlib.axes._subplots.AxesSubplot at 0x7f6a677cce90>"
            ]
          },
          "execution_count": 44,
          "metadata": {},
          "output_type": "execute_result"
        },
        {
          "data": {
            "image/png": "[encoded data removed]",
            "text/plain": [
              "<Figure size 432x288 with 1 Axes>"
            ]
          },
          "metadata": {},
          "output_type": "display_data"
        }
      ],
      "source": [
        "sns.distplot(df.passenger_count, bins=24, kde=False, norm_hist=True)"
      ]
    },
    {
      "cell_type": "code",
      "execution_count": null,
      "metadata": {
        "id": "y2-AMIWppUr9"
      },
      "outputs": [],
      "source": [
        "sample_df = df.sample(int(0.1 * len(df)))"
      ]
    },
    {
      "cell_type": "code",
      "execution_count": null,
      "metadata": {
        "colab": {
          "base_uri": "https://localhost:8080/",
          "height": 297
        },
        "id": "MT85cfuppwDv",
        "outputId": "3f700036-b70f-4ee3-9e5f-d531f216863a"
      },
      "outputs": [
        {
          "data": {
            "text/plain": [
              "<matplotlib.axes._subplots.AxesSubplot at 0x7f6a6638ff90>"
            ]
          },
          "execution_count": 46,
          "metadata": {},
          "output_type": "execute_result"
        },
        {
          "data": {
            "image/png": "[encoded data removed]",
            "text/plain": [
              "<Figure size 432x288 with 1 Axes>"
            ]
          },
          "metadata": {},
          "output_type": "display_data"
        }
      ],
      "source": [
        "sns.scatterplot(x=sample_df.pickup_longitude, y=sample_df.dropoff_longitude, size=0.003)"
      ]
    },
    {
      "cell_type": "code",
      "execution_count": null,
      "metadata": {
        "id": "tqpaxQX_qATT"
      },
      "outputs": [],
      "source": [
        "import folium"
      ]
    },
    {
      "cell_type": "code",
      "execution_count": null,
      "metadata": {
        "colab": {
          "base_uri": "https://localhost:8080/"
        },
        "id": "ZnCiTBjEqexH",
        "outputId": "de1ffc83-4ea2-4269-9f7d-640b4f3ae2b7"
      },
      "outputs": [
        {
          "data": {
            "text/plain": [
              "(0          40.711304\n",
              " 1          40.733871\n",
              " 2          40.744713\n",
              " 3          40.751904\n",
              " 4          40.739571\n",
              "              ...    \n",
              " 1661726    40.706635\n",
              " 1661727    40.728493\n",
              " 1661728    40.724380\n",
              " 1661729    40.765919\n",
              " 1661730    40.787758\n",
              " Name: pickup_latitude, Length: 1661731, dtype: float32,\n",
              " -73.97927,\n",
              " 40.782004,\n",
              " -73.97927)"
            ]
          },
          "execution_count": 48,
          "metadata": {},
          "output_type": "execute_result"
        }
      ],
      "source": [
        "lat_pick, lon_pick, lat_dro, lon_pick = df.pickup_latitude, df.pickup_longitude[0], df.dropoff_latitude[0], df.dropoff_longitude[0], \n",
        "lat_pick, lon_pick, lat_dro, lon_pick,"
      ]
    },
    {
      "cell_type": "code",
      "execution_count": null,
      "metadata": {
        "colab": {
          "base_uri": "https://localhost:8080/"
        },
        "id": "M-zNekUbqnzr",
        "outputId": "48c96fbc-4c16-4d20-9fbb-9d9c951717f2"
      },
      "outputs": [
        {
          "name": "stdout",
          "output_type": "stream",
          "text": [
            "144848    -73.990517\n",
            "1209850   -73.971268\n",
            "117015    -73.973839\n",
            "793987    -73.982101\n",
            "1206357   -74.005783\n",
            "             ...    \n",
            "489703    -73.982376\n",
            "1223095   -73.951897\n",
            "777048    -73.939247\n",
            "1357248   -73.982048\n",
            "77304     -73.994392\n",
            "Name: pickup_longitude, Length: 100, dtype: float32\n",
            "144848     40.717697\n",
            "1209850    40.772294\n",
            "117015     40.787798\n",
            "793987     40.779219\n",
            "1206357    40.728307\n",
            "             ...    \n",
            "489703     40.758532\n",
            "1223095    40.758824\n",
            "777048     40.805848\n",
            "1357248    40.787070\n",
            "77304      40.747262\n",
            "Name: dropoff_latitude, Length: 100, dtype: float64\n",
            "144848     40.755844\n",
            "1209850    40.755371\n",
            "117015     40.791981\n",
            "793987     40.772099\n",
            "1206357    40.726246\n",
            "             ...    \n",
            "489703     40.745708\n",
            "1223095    40.769630\n",
            "777048     40.804951\n",
            "1357248    40.772488\n",
            "77304      40.745838\n",
            "Name: pickup_latitude, Length: 100, dtype: float32\n",
            "144848    -73.978119\n",
            "1209850   -73.955780\n",
            "117015    -73.967628\n",
            "793987    -73.981453\n",
            "1206357   -73.994156\n",
            "             ...    \n",
            "489703    -73.992996\n",
            "1223095   -73.973221\n",
            "777048    -73.956665\n",
            "1357248   -73.973740\n",
            "77304     -74.000793\n",
            "Name: dropoff_longitude, Length: 100, dtype: float32\n"
          ]
        }
      ],
      "source": [
        "for x in df[['pickup_longitude', 'dropoff_latitude', 'pickup_latitude', 'dropoff_longitude']].sample(100).iteritems():\n",
        "    print(x[1])"
      ]
    },
    {
      "cell_type": "code",
      "execution_count": null,
      "metadata": {
        "colab": {
          "base_uri": "https://localhost:8080/"
        },
        "id": "2TmyJs0krUFt",
        "outputId": "124b35d2-aa15-449c-b365-e277384d2751"
      },
      "outputs": [
        {
          "data": {
            "text/plain": [
              "<zip at 0x7f6a66369730>"
            ]
          },
          "execution_count": 50,
          "metadata": {},
          "output_type": "execute_result"
        }
      ],
      "source": [
        "zip(list(df.pickup_longitude), list(df.dropoff_latitude), list(df.pickup_latitude), list(df.dropoff_longitude))"
      ]
    },
    {
      "cell_type": "code",
      "execution_count": null,
      "metadata": {
        "id": "sOQrkzc2rfwC"
      },
      "outputs": [],
      "source": [
        "from folium.plugins import HeatMap"
      ]
    },
    {
      "cell_type": "code",
      "execution_count": null,
      "metadata": {
        "id": "qvF-MFtNrlK-"
      },
      "outputs": [],
      "source": [
        "sample_df = df.sample(int(0.001 * len(df)))\n",
        "lat_lon_pairs = list(zip(list(df.pickup_longitude), list(df.dropoff_latitude), list(df.pickup_latitude), list(df.dropoff_longitude)))"
      ]
    },
    {
      "cell_type": "code",
      "execution_count": null,
      "metadata": {
        "id": "nJPX_fSfryUF"
      },
      "outputs": [],
      "source": [
        "map = folium.Map()\n",
        "HeatMap(lat_lon_pairs).add_to(map)\n",
        "map"
      ]
    },
    {
      "cell_type": "code",
      "execution_count": null,
      "metadata": {
        "colab": {
          "base_uri": "https://localhost:8080/",
          "height": 107
        },
        "id": "vbeiQ2Smw3nM",
        "outputId": "1180b1fc-4b5e-4292-fa31-cda08712495b"
      },
      "outputs": [
        {
          "name": "stdout",
          "output_type": "stream",
          "text": [
            "[jovian] Detected Colab notebook...\u001b[0m\n",
            "[jovian] Uploading colab notebook to Jovian...\u001b[0m\n",
            "Committed successfully! https://jovian.ai/programeralebrije/new-york-taxi-fare-predictions\n"
          ]
        },
        {
          "data": {
            "application/vnd.google.colaboratory.intrinsic+json": {
              "type": "string"
            },
            "text/plain": [
              "'https://jovian.ai/programeralebrije/new-york-taxi-fare-predictions'"
            ]
          },
          "execution_count": 54,
          "metadata": {},
          "output_type": "execute_result"
        }
      ],
      "source": [
        "jovian.commit()"
      ]
    },
    {
      "cell_type": "markdown",
      "metadata": {
        "id": "xfaGBMu9lczl"
      },
      "source": [
        "## 3. Prepare Dataset for Training\n",
        "\n",
        "- Split Training & Validation Set\n",
        "- Fill/Remove Missing Values\n",
        "- Extract Inputs & Outputs\n",
        "   - Training\n",
        "   - Validation\n",
        "   - Test"
      ]
    },
    {
      "cell_type": "markdown",
      "metadata": {
        "id": "VT1ZIxWllgyg"
      },
      "source": [
        "### Split Training & Validation Set\n",
        "\n",
        "We'll set aside 20% of the training data as the validation set, to evaluate the models we train on previously unseen data. \n",
        "\n",
        "Since the test set and training set have the same date ranges, we can pick a random 20% fraction."
      ]
    },
    {
      "cell_type": "code",
      "execution_count": null,
      "metadata": {
        "id": "W9XXituVxDJa"
      },
      "outputs": [],
      "source": [
        "from sklearn.model_selection import train_test_split"
      ]
    },
    {
      "cell_type": "code",
      "execution_count": null,
      "metadata": {
        "id": "fYUDDfK3xp2Y"
      },
      "outputs": [],
      "source": [
        "train_df, val_df = train_test_split(df, test_size=0.2, random_state=42)"
      ]
    },
    {
      "cell_type": "code",
      "execution_count": null,
      "metadata": {
        "colab": {
          "base_uri": "https://localhost:8080/"
        },
        "id": "MjAXKSQMltjx",
        "outputId": "1b7cdfc3-f985-4abb-f89a-bc9fcdae28de"
      },
      "outputs": [
        {
          "data": {
            "text/plain": [
              "(1329384, 332347)"
            ]
          },
          "execution_count": 57,
          "metadata": {},
          "output_type": "execute_result"
        }
      ],
      "source": [
        "len(train_df), len(val_df)"
      ]
    },
    {
      "cell_type": "markdown",
      "metadata": {
        "id": "CBH4vYhLlzId"
      },
      "source": [
        "### Fill/Remove Missing Values\n",
        "\n",
        "There are no missing values in our sample, but if there were, we could simply drop the rows with missing values instead of trying to fill them (since we have a lot of training data)>"
      ]
    },
    {
      "cell_type": "code",
      "execution_count": null,
      "metadata": {
        "id": "zqSFCsvKlv_B"
      },
      "outputs": [],
      "source": [
        "train_df = train_df.dropna()\n",
        "val_df = val_df.dropna()"
      ]
    },
    {
      "cell_type": "markdown",
      "metadata": {
        "id": "R9W4nvr4l4Q7"
      },
      "source": [
        "### Extract Inputs and Outputs"
      ]
    },
    {
      "cell_type": "code",
      "execution_count": null,
      "metadata": {
        "colab": {
          "base_uri": "https://localhost:8080/"
        },
        "id": "iHEU25Wfl19z",
        "outputId": "1f8b16cb-3dae-4653-f5c9-3b7dca803a53"
      },
      "outputs": [
        {
          "data": {
            "text/plain": [
              "Index(['fare_amount', 'pickup_datetime', 'pickup_longitude', 'pickup_latitude',\n",
              "       'dropoff_longitude', 'dropoff_latitude', 'passenger_count'],\n",
              "      dtype='object')"
            ]
          },
          "execution_count": 59,
          "metadata": {},
          "output_type": "execute_result"
        }
      ],
      "source": [
        "df.columns"
      ]
    },
    {
      "cell_type": "code",
      "execution_count": null,
      "metadata": {
        "id": "Y6WCzQr1l8FV"
      },
      "outputs": [],
      "source": [
        "input_cols = ['pickup_longitude', 'pickup_latitude', 'dropoff_longitude', 'dropoff_latitude', 'passenger_count']"
      ]
    },
    {
      "cell_type": "code",
      "execution_count": null,
      "metadata": {
        "id": "hOCXvhvbl_Po"
      },
      "outputs": [],
      "source": [
        "target_col = 'fare_amount'"
      ]
    },
    {
      "cell_type": "markdown",
      "metadata": {
        "id": "LxGbjXrRmE3O"
      },
      "source": [
        "#### Training"
      ]
    },
    {
      "cell_type": "code",
      "execution_count": null,
      "metadata": {
        "id": "h_-0lz5OmCev"
      },
      "outputs": [],
      "source": [
        "train_inputs = train_df[input_cols]\n"
      ]
    },
    {
      "cell_type": "code",
      "execution_count": null,
      "metadata": {
        "id": "__sbKMEwmIYm"
      },
      "outputs": [],
      "source": [
        "train_targets = train_df[target_col]"
      ]
    },
    {
      "cell_type": "code",
      "execution_count": null,
      "metadata": {
        "colab": {
          "base_uri": "https://localhost:8080/",
          "height": 488
        },
        "id": "fQjg7UH8mK2b",
        "outputId": "bad6c47a-0f5b-43fd-9a8b-35c958a66448"
      },
      "outputs": [
        {
          "data": {
            "text/html": [
              "\n",
              "  <div id=\"df-ac0c19b4-4027-468e-a1d5-ea1a96e540aa\">\n",
              "    <div class=\"colab-df-container\">\n",
              "      <div>\n",
              "<style scoped>\n",
              "    .dataframe tbody tr th:only-of-type {\n",
              "        vertical-align: middle;\n",
              "    }\n",
              "\n",
              "    .dataframe tbody tr th {\n",
              "        vertical-align: top;\n",
              "    }\n",
              "\n",
              "    .dataframe thead th {\n",
              "        text-align: right;\n",
              "    }\n",
              "</style>\n",
              "<table border=\"1\" class=\"dataframe\">\n",
              "  <thead>\n",
              "    <tr style=\"text-align: right;\">\n",
              "      <th></th>\n",
              "      <th>pickup_longitude</th>\n",
              "      <th>pickup_latitude</th>\n",
              "      <th>dropoff_longitude</th>\n",
              "      <th>dropoff_latitude</th>\n",
              "      <th>passenger_count</th>\n",
              "    </tr>\n",
              "  </thead>\n",
              "  <tbody>\n",
              "    <tr>\n",
              "      <th>1344710</th>\n",
              "      <td>-73.986603</td>\n",
              "      <td>40.777008</td>\n",
              "      <td>-73.983513</td>\n",
              "      <td>40.762397</td>\n",
              "      <td>2.0</td>\n",
              "    </tr>\n",
              "    <tr>\n",
              "      <th>881046</th>\n",
              "      <td>-73.982513</td>\n",
              "      <td>40.775196</td>\n",
              "      <td>-73.985092</td>\n",
              "      <td>40.769452</td>\n",
              "      <td>5.0</td>\n",
              "    </tr>\n",
              "    <tr>\n",
              "      <th>484486</th>\n",
              "      <td>-73.988365</td>\n",
              "      <td>40.737541</td>\n",
              "      <td>-73.990646</td>\n",
              "      <td>40.756027</td>\n",
              "      <td>1.0</td>\n",
              "    </tr>\n",
              "    <tr>\n",
              "      <th>560794</th>\n",
              "      <td>-73.991158</td>\n",
              "      <td>40.749142</td>\n",
              "      <td>-73.982712</td>\n",
              "      <td>40.756865</td>\n",
              "      <td>1.0</td>\n",
              "    </tr>\n",
              "    <tr>\n",
              "      <th>1422663</th>\n",
              "      <td>-73.980354</td>\n",
              "      <td>40.780384</td>\n",
              "      <td>-73.955025</td>\n",
              "      <td>40.800145</td>\n",
              "      <td>1.0</td>\n",
              "    </tr>\n",
              "    <tr>\n",
              "      <th>...</th>\n",
              "      <td>...</td>\n",
              "      <td>...</td>\n",
              "      <td>...</td>\n",
              "      <td>...</td>\n",
              "      <td>...</td>\n",
              "    </tr>\n",
              "    <tr>\n",
              "      <th>259178</th>\n",
              "      <td>-73.962624</td>\n",
              "      <td>40.763153</td>\n",
              "      <td>-73.973259</td>\n",
              "      <td>40.750961</td>\n",
              "      <td>1.0</td>\n",
              "    </tr>\n",
              "    <tr>\n",
              "      <th>1414414</th>\n",
              "      <td>-73.985069</td>\n",
              "      <td>40.758743</td>\n",
              "      <td>-73.990257</td>\n",
              "      <td>40.754697</td>\n",
              "      <td>1.0</td>\n",
              "    </tr>\n",
              "    <tr>\n",
              "      <th>131932</th>\n",
              "      <td>-73.983635</td>\n",
              "      <td>40.738041</td>\n",
              "      <td>-73.969292</td>\n",
              "      <td>40.768489</td>\n",
              "      <td>3.0</td>\n",
              "    </tr>\n",
              "    <tr>\n",
              "      <th>671155</th>\n",
              "      <td>-73.966866</td>\n",
              "      <td>40.756706</td>\n",
              "      <td>-73.980789</td>\n",
              "      <td>40.749471</td>\n",
              "      <td>1.0</td>\n",
              "    </tr>\n",
              "    <tr>\n",
              "      <th>121958</th>\n",
              "      <td>-73.975594</td>\n",
              "      <td>40.756962</td>\n",
              "      <td>-73.981903</td>\n",
              "      <td>40.768477</td>\n",
              "      <td>1.0</td>\n",
              "    </tr>\n",
              "  </tbody>\n",
              "</table>\n",
              "<p>1329371 rows × 5 columns</p>\n",
              "</div>\n",
              "      <button class=\"colab-df-convert\" onclick=\"convertToInteractive('df-ac0c19b4-4027-468e-a1d5-ea1a96e540aa')\"\n",
              "              title=\"Convert this dataframe to an interactive table.\"\n",
              "              style=\"display:none;\">\n",
              "        \n",
              "  <svg xmlns=\"http://www.w3.org/2000/svg\" height=\"24px\"viewBox=\"0 0 24 24\"\n",
              "       width=\"24px\">\n",
              "    <path d=\"M0 0h24v24H0V0z\" fill=\"none\"/>\n",
              "    <path d=\"M18.56 5.44l.94 2.06.94-2.06 2.06-.94-2.06-.94-.94-2.06-.94 2.06-2.06.94zm-11 1L8.5 8.5l.94-2.06 2.06-.94-2.06-.94L8.5 2.5l-.94 2.06-2.06.94zm10 10l.94 2.06.94-2.06 2.06-.94-2.06-.94-.94-2.06-.94 2.06-2.06.94z\"/><path d=\"M17.41 7.96l-1.37-1.37c-.4-.4-.92-.59-1.43-.59-.52 0-1.04.2-1.43.59L10.3 9.45l-7.72 7.72c-.78.78-.78 2.05 0 2.83L4 21.41c.39.39.9.59 1.41.59.51 0 1.02-.2 1.41-.59l7.78-7.78 2.81-2.81c.8-.78.8-2.07 0-2.86zM5.41 20L4 18.59l7.72-7.72 1.47 1.35L5.41 20z\"/>\n",
              "  </svg>\n",
              "      </button>\n",
              "      \n",
              "  <style>\n",
              "    .colab-df-container {\n",
              "      display:flex;\n",
              "      flex-wrap:wrap;\n",
              "      gap: 12px;\n",
              "    }\n",
              "\n",
              "    .colab-df-convert {\n",
              "      background-color: #E8F0FE;\n",
              "      border: none;\n",
              "      border-radius: 50%;\n",
              "      cursor: pointer;\n",
              "      display: none;\n",
              "      fill: #1967D2;\n",
              "      height: 32px;\n",
              "      padding: 0 0 0 0;\n",
              "      width: 32px;\n",
              "    }\n",
              "\n",
              "    .colab-df-convert:hover {\n",
              "      background-color: #E2EBFA;\n",
              "      box-shadow: 0px 1px 2px rgba(60, 64, 67, 0.3), 0px 1px 3px 1px rgba(60, 64, 67, 0.15);\n",
              "      fill: #174EA6;\n",
              "    }\n",
              "\n",
              "    [theme=dark] .colab-df-convert {\n",
              "      background-color: #3B4455;\n",
              "      fill: #D2E3FC;\n",
              "    }\n",
              "\n",
              "    [theme=dark] .colab-df-convert:hover {\n",
              "      background-color: #434B5C;\n",
              "      box-shadow: 0px 1px 3px 1px rgba(0, 0, 0, 0.15);\n",
              "      filter: drop-shadow(0px 1px 2px rgba(0, 0, 0, 0.3));\n",
              "      fill: #FFFFFF;\n",
              "    }\n",
              "  </style>\n",
              "\n",
              "      <script>\n",
              "        const buttonEl =\n",
              "          document.querySelector('#df-ac0c19b4-4027-468e-a1d5-ea1a96e540aa button.colab-df-convert');\n",
              "        buttonEl.style.display =\n",
              "          google.colab.kernel.accessAllowed ? 'block' : 'none';\n",
              "\n",
              "        async function convertToInteractive(key) {\n",
              "          const element = document.querySelector('#df-ac0c19b4-4027-468e-a1d5-ea1a96e540aa');\n",
              "          const dataTable =\n",
              "            await google.colab.kernel.invokeFunction('convertToInteractive',\n",
              "                                                     [key], {});\n",
              "          if (!dataTable) return;\n",
              "\n",
              "          const docLinkHtml = 'Like what you see? Visit the ' +\n",
              "            '<a target=\"_blank\" href=https://colab.research.google.com/notebooks/data_table.ipynb>data table notebook</a>'\n",
              "            + ' to learn more about interactive tables.';\n",
              "          element.innerHTML = '';\n",
              "          dataTable['output_type'] = 'display_data';\n",
              "          await google.colab.output.renderOutput(dataTable, element);\n",
              "          const docLink = document.createElement('div');\n",
              "          docLink.innerHTML = docLinkHtml;\n",
              "          element.appendChild(docLink);\n",
              "        }\n",
              "      </script>\n",
              "    </div>\n",
              "  </div>\n",
              "  "
            ],
            "text/plain": [
              "         pickup_longitude  pickup_latitude  ...  dropoff_latitude  passenger_count\n",
              "1344710        -73.986603        40.777008  ...         40.762397              2.0\n",
              "881046         -73.982513        40.775196  ...         40.769452              5.0\n",
              "484486         -73.988365        40.737541  ...         40.756027              1.0\n",
              "560794         -73.991158        40.749142  ...         40.756865              1.0\n",
              "1422663        -73.980354        40.780384  ...         40.800145              1.0\n",
              "...                   ...              ...  ...               ...              ...\n",
              "259178         -73.962624        40.763153  ...         40.750961              1.0\n",
              "1414414        -73.985069        40.758743  ...         40.754697              1.0\n",
              "131932         -73.983635        40.738041  ...         40.768489              3.0\n",
              "671155         -73.966866        40.756706  ...         40.749471              1.0\n",
              "121958         -73.975594        40.756962  ...         40.768477              1.0\n",
              "\n",
              "[1329371 rows x 5 columns]"
            ]
          },
          "execution_count": 64,
          "metadata": {},
          "output_type": "execute_result"
        }
      ],
      "source": [
        "train_inputs"
      ]
    },
    {
      "cell_type": "code",
      "execution_count": null,
      "metadata": {
        "colab": {
          "base_uri": "https://localhost:8080/"
        },
        "id": "pxIlcJBumMtj",
        "outputId": "1a8ca2a4-09e0-4b18-fa7c-4f2b30691a38"
      },
      "outputs": [
        {
          "data": {
            "text/plain": [
              "1344710     7.000000\n",
              "881046      4.500000\n",
              "484486      6.500000\n",
              "560794     25.299999\n",
              "1422663     7.300000\n",
              "             ...    \n",
              "259178      6.500000\n",
              "1414414    40.500000\n",
              "131932      7.700000\n",
              "671155      8.500000\n",
              "121958      9.500000\n",
              "Name: fare_amount, Length: 1329371, dtype: float32"
            ]
          },
          "execution_count": 65,
          "metadata": {},
          "output_type": "execute_result"
        }
      ],
      "source": [
        "train_targets"
      ]
    },
    {
      "cell_type": "markdown",
      "metadata": {
        "id": "cHtP0HGymZdl"
      },
      "source": [
        "#### Validation"
      ]
    },
    {
      "cell_type": "code",
      "execution_count": null,
      "metadata": {
        "id": "kGhy-MpwmTUX"
      },
      "outputs": [],
      "source": [
        "val_inputs = val_df[input_cols]"
      ]
    },
    {
      "cell_type": "code",
      "execution_count": null,
      "metadata": {
        "id": "LIwl_bR_mbmz"
      },
      "outputs": [],
      "source": [
        "val_targets = val_df[target_col]"
      ]
    },
    {
      "cell_type": "code",
      "execution_count": null,
      "metadata": {
        "colab": {
          "base_uri": "https://localhost:8080/",
          "height": 488
        },
        "id": "CPaDefRsmdRy",
        "outputId": "a6bab850-fa6a-463a-f4e0-907f7b5ae0b4"
      },
      "outputs": [
        {
          "data": {
            "text/html": [
              "\n",
              "  <div id=\"df-831146ce-8936-4ffe-a81c-87bbb66fc3bb\">\n",
              "    <div class=\"colab-df-container\">\n",
              "      <div>\n",
              "<style scoped>\n",
              "    .dataframe tbody tr th:only-of-type {\n",
              "        vertical-align: middle;\n",
              "    }\n",
              "\n",
              "    .dataframe tbody tr th {\n",
              "        vertical-align: top;\n",
              "    }\n",
              "\n",
              "    .dataframe thead th {\n",
              "        text-align: right;\n",
              "    }\n",
              "</style>\n",
              "<table border=\"1\" class=\"dataframe\">\n",
              "  <thead>\n",
              "    <tr style=\"text-align: right;\">\n",
              "      <th></th>\n",
              "      <th>pickup_longitude</th>\n",
              "      <th>pickup_latitude</th>\n",
              "      <th>dropoff_longitude</th>\n",
              "      <th>dropoff_latitude</th>\n",
              "      <th>passenger_count</th>\n",
              "    </tr>\n",
              "  </thead>\n",
              "  <tbody>\n",
              "    <tr>\n",
              "      <th>1030404</th>\n",
              "      <td>-73.965759</td>\n",
              "      <td>40.773941</td>\n",
              "      <td>-73.955383</td>\n",
              "      <td>40.775158</td>\n",
              "      <td>2.0</td>\n",
              "    </tr>\n",
              "    <tr>\n",
              "      <th>799486</th>\n",
              "      <td>-73.947441</td>\n",
              "      <td>40.783585</td>\n",
              "      <td>-73.969872</td>\n",
              "      <td>40.756139</td>\n",
              "      <td>1.0</td>\n",
              "    </tr>\n",
              "    <tr>\n",
              "      <th>951362</th>\n",
              "      <td>-73.975182</td>\n",
              "      <td>40.733097</td>\n",
              "      <td>-73.994156</td>\n",
              "      <td>40.686237</td>\n",
              "      <td>1.0</td>\n",
              "    </tr>\n",
              "    <tr>\n",
              "      <th>175104</th>\n",
              "      <td>-73.989113</td>\n",
              "      <td>40.748135</td>\n",
              "      <td>-73.989113</td>\n",
              "      <td>40.748135</td>\n",
              "      <td>1.0</td>\n",
              "    </tr>\n",
              "    <tr>\n",
              "      <th>1241223</th>\n",
              "      <td>-73.921646</td>\n",
              "      <td>40.767036</td>\n",
              "      <td>-73.914055</td>\n",
              "      <td>40.759014</td>\n",
              "      <td>1.0</td>\n",
              "    </tr>\n",
              "    <tr>\n",
              "      <th>...</th>\n",
              "      <td>...</td>\n",
              "      <td>...</td>\n",
              "      <td>...</td>\n",
              "      <td>...</td>\n",
              "      <td>...</td>\n",
              "    </tr>\n",
              "    <tr>\n",
              "      <th>1404707</th>\n",
              "      <td>-73.977676</td>\n",
              "      <td>40.746468</td>\n",
              "      <td>-73.962479</td>\n",
              "      <td>40.766637</td>\n",
              "      <td>1.0</td>\n",
              "    </tr>\n",
              "    <tr>\n",
              "      <th>14648</th>\n",
              "      <td>-73.977531</td>\n",
              "      <td>40.758072</td>\n",
              "      <td>-73.951759</td>\n",
              "      <td>40.769729</td>\n",
              "      <td>1.0</td>\n",
              "    </tr>\n",
              "    <tr>\n",
              "      <th>1635888</th>\n",
              "      <td>-73.956017</td>\n",
              "      <td>40.785038</td>\n",
              "      <td>-73.964355</td>\n",
              "      <td>40.768023</td>\n",
              "      <td>1.0</td>\n",
              "    </tr>\n",
              "    <tr>\n",
              "      <th>683077</th>\n",
              "      <td>-73.789238</td>\n",
              "      <td>40.646133</td>\n",
              "      <td>-73.970551</td>\n",
              "      <td>40.756647</td>\n",
              "      <td>5.0</td>\n",
              "    </tr>\n",
              "    <tr>\n",
              "      <th>1377148</th>\n",
              "      <td>-74.010979</td>\n",
              "      <td>40.710999</td>\n",
              "      <td>-73.999542</td>\n",
              "      <td>40.723388</td>\n",
              "      <td>1.0</td>\n",
              "    </tr>\n",
              "  </tbody>\n",
              "</table>\n",
              "<p>332346 rows × 5 columns</p>\n",
              "</div>\n",
              "      <button class=\"colab-df-convert\" onclick=\"convertToInteractive('df-831146ce-8936-4ffe-a81c-87bbb66fc3bb')\"\n",
              "              title=\"Convert this dataframe to an interactive table.\"\n",
              "              style=\"display:none;\">\n",
              "        \n",
              "  <svg xmlns=\"http://www.w3.org/2000/svg\" height=\"24px\"viewBox=\"0 0 24 24\"\n",
              "       width=\"24px\">\n",
              "    <path d=\"M0 0h24v24H0V0z\" fill=\"none\"/>\n",
              "    <path d=\"M18.56 5.44l.94 2.06.94-2.06 2.06-.94-2.06-.94-.94-2.06-.94 2.06-2.06.94zm-11 1L8.5 8.5l.94-2.06 2.06-.94-2.06-.94L8.5 2.5l-.94 2.06-2.06.94zm10 10l.94 2.06.94-2.06 2.06-.94-2.06-.94-.94-2.06-.94 2.06-2.06.94z\"/><path d=\"M17.41 7.96l-1.37-1.37c-.4-.4-.92-.59-1.43-.59-.52 0-1.04.2-1.43.59L10.3 9.45l-7.72 7.72c-.78.78-.78 2.05 0 2.83L4 21.41c.39.39.9.59 1.41.59.51 0 1.02-.2 1.41-.59l7.78-7.78 2.81-2.81c.8-.78.8-2.07 0-2.86zM5.41 20L4 18.59l7.72-7.72 1.47 1.35L5.41 20z\"/>\n",
              "  </svg>\n",
              "      </button>\n",
              "      \n",
              "  <style>\n",
              "    .colab-df-container {\n",
              "      display:flex;\n",
              "      flex-wrap:wrap;\n",
              "      gap: 12px;\n",
              "    }\n",
              "\n",
              "    .colab-df-convert {\n",
              "      background-color: #E8F0FE;\n",
              "      border: none;\n",
              "      border-radius: 50%;\n",
              "      cursor: pointer;\n",
              "      display: none;\n",
              "      fill: #1967D2;\n",
              "      height: 32px;\n",
              "      padding: 0 0 0 0;\n",
              "      width: 32px;\n",
              "    }\n",
              "\n",
              "    .colab-df-convert:hover {\n",
              "      background-color: #E2EBFA;\n",
              "      box-shadow: 0px 1px 2px rgba(60, 64, 67, 0.3), 0px 1px 3px 1px rgba(60, 64, 67, 0.15);\n",
              "      fill: #174EA6;\n",
              "    }\n",
              "\n",
              "    [theme=dark] .colab-df-convert {\n",
              "      background-color: #3B4455;\n",
              "      fill: #D2E3FC;\n",
              "    }\n",
              "\n",
              "    [theme=dark] .colab-df-convert:hover {\n",
              "      background-color: #434B5C;\n",
              "      box-shadow: 0px 1px 3px 1px rgba(0, 0, 0, 0.15);\n",
              "      filter: drop-shadow(0px 1px 2px rgba(0, 0, 0, 0.3));\n",
              "      fill: #FFFFFF;\n",
              "    }\n",
              "  </style>\n",
              "\n",
              "      <script>\n",
              "        const buttonEl =\n",
              "          document.querySelector('#df-831146ce-8936-4ffe-a81c-87bbb66fc3bb button.colab-df-convert');\n",
              "        buttonEl.style.display =\n",
              "          google.colab.kernel.accessAllowed ? 'block' : 'none';\n",
              "\n",
              "        async function convertToInteractive(key) {\n",
              "          const element = document.querySelector('#df-831146ce-8936-4ffe-a81c-87bbb66fc3bb');\n",
              "          const dataTable =\n",
              "            await google.colab.kernel.invokeFunction('convertToInteractive',\n",
              "                                                     [key], {});\n",
              "          if (!dataTable) return;\n",
              "\n",
              "          const docLinkHtml = 'Like what you see? Visit the ' +\n",
              "            '<a target=\"_blank\" href=https://colab.research.google.com/notebooks/data_table.ipynb>data table notebook</a>'\n",
              "            + ' to learn more about interactive tables.';\n",
              "          element.innerHTML = '';\n",
              "          dataTable['output_type'] = 'display_data';\n",
              "          await google.colab.output.renderOutput(dataTable, element);\n",
              "          const docLink = document.createElement('div');\n",
              "          docLink.innerHTML = docLinkHtml;\n",
              "          element.appendChild(docLink);\n",
              "        }\n",
              "      </script>\n",
              "    </div>\n",
              "  </div>\n",
              "  "
            ],
            "text/plain": [
              "         pickup_longitude  pickup_latitude  ...  dropoff_latitude  passenger_count\n",
              "1030404        -73.965759        40.773941  ...         40.775158              2.0\n",
              "799486         -73.947441        40.783585  ...         40.756139              1.0\n",
              "951362         -73.975182        40.733097  ...         40.686237              1.0\n",
              "175104         -73.989113        40.748135  ...         40.748135              1.0\n",
              "1241223        -73.921646        40.767036  ...         40.759014              1.0\n",
              "...                   ...              ...  ...               ...              ...\n",
              "1404707        -73.977676        40.746468  ...         40.766637              1.0\n",
              "14648          -73.977531        40.758072  ...         40.769729              1.0\n",
              "1635888        -73.956017        40.785038  ...         40.768023              1.0\n",
              "683077         -73.789238        40.646133  ...         40.756647              5.0\n",
              "1377148        -74.010979        40.710999  ...         40.723388              1.0\n",
              "\n",
              "[332346 rows x 5 columns]"
            ]
          },
          "execution_count": 68,
          "metadata": {},
          "output_type": "execute_result"
        }
      ],
      "source": [
        "val_inputs"
      ]
    },
    {
      "cell_type": "code",
      "execution_count": null,
      "metadata": {
        "colab": {
          "base_uri": "https://localhost:8080/"
        },
        "id": "arAsWpzlmehE",
        "outputId": "f6d8dd63-dadb-4500-cd0f-9805b8521ecb"
      },
      "outputs": [
        {
          "data": {
            "text/plain": [
              "1030404     4.100000\n",
              "799486     11.500000\n",
              "951362     14.900000\n",
              "175104      3.500000\n",
              "1241223     5.000000\n",
              "             ...    \n",
              "1404707     6.500000\n",
              "14648      10.000000\n",
              "1635888     6.500000\n",
              "683077     56.799999\n",
              "1377148     6.900000\n",
              "Name: fare_amount, Length: 332346, dtype: float32"
            ]
          },
          "execution_count": 69,
          "metadata": {},
          "output_type": "execute_result"
        }
      ],
      "source": [
        "val_targets"
      ]
    },
    {
      "cell_type": "code",
      "execution_count": null,
      "metadata": {
        "id": "z1lHlruvmivn"
      },
      "outputs": [],
      "source": [
        ""
      ]
    }
  ],
  "metadata": {
    "colab": {
      "collapsed_sections": [],
      "name": "new-york-taxi-fare-predictions.ipynb",
      "provenance": [],
      "toc_visible": true,
      "include_colab_link": true
    },
    "kernelspec": {
      "display_name": "Python 3",
      "language": "python",
      "name": "python3"
    },
    "language_info": {
      "codemirror_mode": {
        "name": "ipython",
        "version": 3
      },
      "file_extension": ".py",
      "mimetype": "text/x-python",
      "name": "python",
      "nbconvert_exporter": "python",
      "pygments_lexer": "ipython3",
      "version": "3.7.6"
    }
  },
  "nbformat": 4,
  "nbformat_minor": 0
}