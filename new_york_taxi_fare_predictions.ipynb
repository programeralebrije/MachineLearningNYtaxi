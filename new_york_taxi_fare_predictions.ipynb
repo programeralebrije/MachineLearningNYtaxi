{
  "cells": [
    {
      "cell_type": "markdown",
      "metadata": {
        "id": "view-in-github",
        "colab_type": "text"
      },
      "source": [
        "<a href=\"https://colab.research.google.com/github/programeralebrije/MachineLearningNYtaxi/blob/main/new_york_taxi_fare_predictions.ipynb\" target=\"_parent\"><img src=\"https://colab.research.google.com/assets/colab-badge.svg\" alt=\"Open In Colab\"/></a>"
      ]
    },
    {
      "cell_type": "code",
      "execution_count": null,
      "metadata": {
        "id": "ANdx5faqgXDz"
      },
      "outputs": [],
      "source": [
        "# Jovian Commit Essentials\n",
        "# Please retain and execute this cell without modifying the contents for `jovian.commit` to work\n",
        "!pip install jovian --upgrade -q\n",
        "import jovian\n",
        "jovian.set_project('new-york-taxi-fare-predictions')\n",
        "jovian.set_colab_id('1YQCyIaycmlv9Op-piXXnhOgUDYZAiKXU')"
      ]
    },
    {
      "cell_type": "markdown",
      "metadata": {
        "id": "1LoWBc78hlzd"
      },
      "source": [
        "# New York Taxi Fare Predictions "
      ]
    },
    {
      "cell_type": "code",
      "execution_count": null,
      "metadata": {
        "id": "0MOnS4rkhlzf"
      },
      "outputs": [],
      "source": [
        "!pip install jovian --upgrade --quiet"
      ]
    },
    {
      "cell_type": "code",
      "execution_count": null,
      "metadata": {
        "id": "W_0JM_rzhlzf"
      },
      "outputs": [],
      "source": [
        "import jovian"
      ]
    },
    {
      "cell_type": "code",
      "execution_count": null,
      "metadata": {
        "id": "QAn-bbb0hlzg"
      },
      "outputs": [],
      "source": [
        "# Execute this to save new versions of the notebook\n",
        "jovian.commit(project=\"new-york-taxi-fare-predictions\")"
      ]
    },
    {
      "cell_type": "markdown",
      "metadata": {
        "id": "DX7BX0pHpW-p"
      },
      "source": [
        "### Outline of the project\n",
        "1. Downlaod the dataset\n",
        "2. Explore and analyze the dataset\n",
        "3. Prepare the dataset for ML training \n",
        "4. Train Hardcoded and baseline models \n",
        "5. Make predictions and submit to Kaggle\n",
        "6. Perform feature engeneering \n",
        "7. Train and evaluate different models \n",
        "8. Tune Hyperparameters for the best models \n",
        "9. Train on a GPU with the entire dataset \n",
        "10. Document and publish the project online "
      ]
    },
    {
      "cell_type": "markdown",
      "metadata": {
        "id": "yDKBbVYIrT4q"
      },
      "source": [
        "# 1. Downlad the dataset \n",
        "\n",
        "Steps:\n",
        "- Install required libraries\n",
        "- Download data from Kaggle\n",
        "- View dataset files \n",
        "- Load trianing set with Pandas\n",
        "- Load test set with Pandas"
      ]
    },
    {
      "cell_type": "markdown",
      "metadata": {
        "id": "Mo2-S56mDcHd"
      },
      "source": [
        "# Install required libraries"
      ]
    },
    {
      "cell_type": "code",
      "execution_count": null,
      "metadata": {
        "id": "QXVkRQs9hlzg"
      },
      "outputs": [],
      "source": [
        "!pip install jovian opendatasets pandas numpy scikit-learn xgboost --quiet"
      ]
    },
    {
      "cell_type": "code",
      "execution_count": 14,
      "metadata": {
        "id": "hQgsIZxdDxqQ"
      },
      "outputs": [],
      "source": [
        "import jovian "
      ]
    },
    {
      "cell_type": "code",
      "execution_count": 15,
      "metadata": {
        "id": "6StOoK1aEGVF",
        "colab": {
          "base_uri": "https://localhost:8080/",
          "height": 107
        },
        "outputId": "c8659929-75fa-4112-8a39-1c5999473850"
      },
      "outputs": [
        {
          "metadata": {
            "tags": null
          },
          "name": "stdout",
          "output_type": "stream",
          "text": [
            "[jovian] Detected Colab notebook...\u001b[0m\n",
            "[jovian] Uploading colab notebook to Jovian...\u001b[0m\n",
            "Committed successfully! https://jovian.ai/programeralebrije/new-york-taxi-fare-predictions\n"
          ]
        },
        {
          "data": {
            "application/vnd.google.colaboratory.intrinsic+json": {
              "type": "string"
            },
            "text/plain": [
              "'https://jovian.ai/programeralebrije/new-york-taxi-fare-predictions'"
            ]
          },
          "execution_count": null,
          "metadata": {},
          "output_type": "execute_result"
        }
      ],
      "source": [
        "jovian.commit()"
      ]
    },
    {
      "cell_type": "markdown",
      "metadata": {
        "id": "QXb9Tl8wEhyx"
      },
      "source": [
        "# Download data from Kaggle "
      ]
    },
    {
      "cell_type": "code",
      "execution_count": 16,
      "metadata": {
        "id": "ovsSy8PGEHpq"
      },
      "outputs": [],
      "source": [
        "import opendatasets as od"
      ]
    },
    {
      "cell_type": "code",
      "execution_count": 17,
      "metadata": {
        "id": "OyfJIx2dEuWG"
      },
      "outputs": [],
      "source": [
        "dataset_url = 'https://www.kaggle.com/c/new-york-city-taxi-fare-prediction'"
      ]
    },
    {
      "cell_type": "code",
      "execution_count": 24,
      "metadata": {
        "id": "hfO-FoCXHwzI",
        "colab": {
          "base_uri": "https://localhost:8080/"
        },
        "outputId": "65a73dd1-000f-4881-faf4-2eb8eb1b5528"
      },
      "outputs": [
        {
          "metadata": {
            "tags": null
          },
          "name": "stdout",
          "output_type": "stream",
          "text": [
            "Please provide your Kaggle credentials to download this dataset. Learn more: http://bit.ly/kaggle-creds\n",
            "Your Kaggle username: Your Kaggle Key: Downloading new-york-city-taxi-fare-prediction.zip to ./new-york-city-taxi-fare-prediction\n"
          ]
        },
        {
          "metadata": {
            "tags": null
          },
          "name": "stderr",
          "output_type": "stream",
          "text": [
            "100%|██████████| 1.56G/1.56G [00:13<00:00, 127MB/s]\n"
          ]
        },
        {
          "metadata": {
            "tags": null
          },
          "name": "stdout",
          "output_type": "stream",
          "text": [
            "\n",
            "Extracting archive ./new-york-city-taxi-fare-prediction/new-york-city-taxi-fare-prediction.zip to ./new-york-city-taxi-fare-prediction\n"
          ]
        }
      ],
      "source": [
        "od.download(dataset_url)"
      ]
    },
    {
      "cell_type": "code",
      "execution_count": 25,
      "metadata": {
        "id": "NvW2FyYVH3Rz"
      },
      "outputs": [],
      "source": [
        "data_dir = './new-york-city-taxi-fare-prediction'"
      ]
    },
    {
      "cell_type": "markdown",
      "source": [
        "##View Dataset Files"
      ],
      "metadata": {
        "id": "mG_kAKYgmMN7"
      }
    },
    {
      "cell_type": "code",
      "source": [
        "# List of files with size\n",
        "!ls -lh {data_dir}"
      ],
      "metadata": {
        "colab": {
          "base_uri": "https://localhost:8080/"
        },
        "id": "_gbX1qHFmw9R",
        "outputId": "e967ed4f-b475-45c1-af40-1cc1950cf6f7"
      },
      "execution_count": 26,
      "outputs": [
        {
          "output_type": "stream",
          "name": "stdout",
          "text": [
            "total 5.4G\n",
            "-rw-r--r-- 1 root root  486 Jan 24 19:23 GCP-Coupons-Instructions.rtf\n",
            "-rw-r--r-- 1 root root 336K Jan 24 19:23 sample_submission.csv\n",
            "-rw-r--r-- 1 root root 960K Jan 24 19:23 test.csv\n",
            "-rw-r--r-- 1 root root 5.4G Jan 24 19:26 train.csv\n"
          ]
        }
      ]
    },
    {
      "cell_type": "code",
      "source": [
        "!wc -1 {data_dir}/train.csv"
      ],
      "metadata": {
        "colab": {
          "base_uri": "https://localhost:8080/"
        },
        "id": "mEK0CTAkohIv",
        "outputId": "bb763c80-5195-40ea-f002-c9ad24a0cff7"
      },
      "execution_count": 29,
      "outputs": [
        {
          "output_type": "stream",
          "name": "stdout",
          "text": [
            "wc: invalid option -- '1'\n",
            "Try 'wc --help' for more information.\n"
          ]
        }
      ]
    },
    {
      "cell_type": "code",
      "source": [
        "# Training set\n",
        "!head {data_dir}/train.csv"
      ],
      "metadata": {
        "colab": {
          "base_uri": "https://localhost:8080/"
        },
        "id": "_WbnFwvooJ8W",
        "outputId": "2b3caedc-7778-4c50-b042-f06f02d7cb90"
      },
      "execution_count": 27,
      "outputs": [
        {
          "output_type": "stream",
          "name": "stdout",
          "text": [
            "key,fare_amount,pickup_datetime,pickup_longitude,pickup_latitude,dropoff_longitude,dropoff_latitude,passenger_count\r\n",
            "2009-06-15 17:26:21.0000001,4.5,2009-06-15 17:26:21 UTC,-73.844311,40.721319,-73.84161,40.712278,1\r\n",
            "2010-01-05 16:52:16.0000002,16.9,2010-01-05 16:52:16 UTC,-74.016048,40.711303,-73.979268,40.782004,1\r\n",
            "2011-08-18 00:35:00.00000049,5.7,2011-08-18 00:35:00 UTC,-73.982738,40.76127,-73.991242,40.750562,2\r\n",
            "2012-04-21 04:30:42.0000001,7.7,2012-04-21 04:30:42 UTC,-73.98713,40.733143,-73.991567,40.758092,1\r\n",
            "2010-03-09 07:51:00.000000135,5.3,2010-03-09 07:51:00 UTC,-73.968095,40.768008,-73.956655,40.783762,1\r\n",
            "2011-01-06 09:50:45.0000002,12.1,2011-01-06 09:50:45 UTC,-74.000964,40.73163,-73.972892,40.758233,1\r\n",
            "2012-11-20 20:35:00.0000001,7.5,2012-11-20 20:35:00 UTC,-73.980002,40.751662,-73.973802,40.764842,1\r\n",
            "2012-01-04 17:22:00.00000081,16.5,2012-01-04 17:22:00 UTC,-73.9513,40.774138,-73.990095,40.751048,1\r\n",
            "2012-12-03 13:10:00.000000125,9,2012-12-03 13:10:00 UTC,-74.006462,40.726713,-73.993078,40.731628,1\r\n"
          ]
        }
      ]
    },
    {
      "cell_type": "code",
      "source": [
        "# Test set\n",
        "!head {data_dir}/test.csv"
      ],
      "metadata": {
        "colab": {
          "base_uri": "https://localhost:8080/"
        },
        "id": "hWeIfSzNoJya",
        "outputId": "155b6398-c372-41cb-a7db-147c8a35ae1e"
      },
      "execution_count": 30,
      "outputs": [
        {
          "output_type": "stream",
          "name": "stdout",
          "text": [
            "key,pickup_datetime,pickup_longitude,pickup_latitude,dropoff_longitude,dropoff_latitude,passenger_count\r\n",
            "2015-01-27 13:08:24.0000002,2015-01-27 13:08:24 UTC,-73.973320007324219,40.7638053894043,-73.981430053710938,40.74383544921875,1\r\n",
            "2015-01-27 13:08:24.0000003,2015-01-27 13:08:24 UTC,-73.986862182617188,40.719383239746094,-73.998886108398438,40.739200592041016,1\r\n",
            "2011-10-08 11:53:44.0000002,2011-10-08 11:53:44 UTC,-73.982524,40.75126,-73.979654,40.746139,1\r\n",
            "2012-12-01 21:12:12.0000002,2012-12-01 21:12:12 UTC,-73.98116,40.767807,-73.990448,40.751635,1\r\n",
            "2012-12-01 21:12:12.0000003,2012-12-01 21:12:12 UTC,-73.966046,40.789775,-73.988565,40.744427,1\r\n",
            "2012-12-01 21:12:12.0000005,2012-12-01 21:12:12 UTC,-73.960983,40.765547,-73.979177,40.740053,1\r\n",
            "2011-10-06 12:10:20.0000001,2011-10-06 12:10:20 UTC,-73.949013,40.773204,-73.959622,40.770893,1\r\n",
            "2011-10-06 12:10:20.0000003,2011-10-06 12:10:20 UTC,-73.777282,40.646636,-73.985083,40.759368,1\r\n",
            "2011-10-06 12:10:20.0000002,2011-10-06 12:10:20 UTC,-74.014099,40.709638,-73.995106,40.741365,1\r\n"
          ]
        }
      ]
    },
    {
      "cell_type": "markdown",
      "source": [
        "Test Data Set is missing Fare amout, this set is not be use for predictions ."
      ],
      "metadata": {
        "id": "qU9P2cixqHgz"
      }
    },
    {
      "cell_type": "code",
      "source": [
        "# Sample submission file\n",
        "!head {data_dir}/sample_submission.csv"
      ],
      "metadata": {
        "colab": {
          "base_uri": "https://localhost:8080/"
        },
        "id": "6a2syTe_oJnd",
        "outputId": "ed2905ec-2029-4812-a564-b3286ae49e9c"
      },
      "execution_count": 31,
      "outputs": [
        {
          "output_type": "stream",
          "name": "stdout",
          "text": [
            "key,fare_amount\n",
            "2015-01-27 13:08:24.0000002,11.35\n",
            "2015-01-27 13:08:24.0000003,11.35\n",
            "2011-10-08 11:53:44.0000002,11.35\n",
            "2012-12-01 21:12:12.0000002,11.35\n",
            "2012-12-01 21:12:12.0000003,11.35\n",
            "2012-12-01 21:12:12.0000005,11.35\n",
            "2011-10-06 12:10:20.0000001,11.35\n",
            "2011-10-06 12:10:20.0000003,11.35\n",
            "2011-10-06 12:10:20.0000002,11.35\n"
          ]
        }
      ]
    },
    {
      "cell_type": "code",
      "source": [
        "# No. of lines in training set\n",
        "!wc -l {data_dir}/train.csv"
      ],
      "metadata": {
        "colab": {
          "base_uri": "https://localhost:8080/"
        },
        "id": "pflLVEHzpyeZ",
        "outputId": "48154b4d-775e-4b61-a8f2-d8f82cf4ed65"
      },
      "execution_count": 32,
      "outputs": [
        {
          "output_type": "stream",
          "name": "stdout",
          "text": [
            "55423856 ./new-york-city-taxi-fare-prediction/train.csv\n"
          ]
        }
      ]
    },
    {
      "cell_type": "code",
      "source": [
        "# No. of lines in test set\n",
        "!wc -l {data_dir}/test.csv"
      ],
      "metadata": {
        "colab": {
          "base_uri": "https://localhost:8080/"
        },
        "id": "9B2o5Cy9qYzt",
        "outputId": "7d5d3401-11d9-478e-d9d3-2462bf942aef"
      },
      "execution_count": 33,
      "outputs": [
        {
          "output_type": "stream",
          "name": "stdout",
          "text": [
            "9914 ./new-york-city-taxi-fare-prediction/test.csv\n"
          ]
        }
      ]
    },
    {
      "cell_type": "code",
      "source": [
        "# No. of lines in submission file\n",
        "!wc -l {data_dir}/sample_submission.csv"
      ],
      "metadata": {
        "colab": {
          "base_uri": "https://localhost:8080/"
        },
        "id": "mY1F_dQZrMOF",
        "outputId": "f08dcde7-05dc-49d7-efe5-ad130b418567"
      },
      "execution_count": 34,
      "outputs": [
        {
          "output_type": "stream",
          "name": "stdout",
          "text": [
            "9915 ./new-york-city-taxi-fare-prediction/sample_submission.csv\n"
          ]
        }
      ]
    },
    {
      "cell_type": "markdown",
      "source": [
        "Observations:\n",
        "\n",
        "* This is a supervised learning \n",
        "regression problem\n",
        "* Training data is 5.5 GB in size\n",
        "* Training data has 5.5 million rows\n",
        "* Test set is much smaller (< 10,000 rows)\n",
        "* The training set has 8 columns:\n",
        "   * key (a unique identifier)\n",
        "   * fare_amount (target column)\n",
        "   * pickup_datetime\n",
        "   * pickup_longitude\n",
        "   * pickup_latitude\n",
        "   * dropoff_longitude\n",
        "   * dropoff_latitude\n",
        "   * passenger_count\n",
        "* The test set has all columns except the target column fare_amount.\n",
        "* The submission file should contain the key and fare_amount for each test sample."
      ],
      "metadata": {
        "id": "OqMuyTpzrXww"
      }
    },
    {
      "cell_type": "code",
      "source": [
        "jovian.commit()"
      ],
      "metadata": {
        "colab": {
          "base_uri": "https://localhost:8080/",
          "height": 107
        },
        "id": "Leu5s5ROrWBD",
        "outputId": "7cda9616-80d3-49c4-d9fe-fd7a55f6489a"
      },
      "execution_count": 35,
      "outputs": [
        {
          "output_type": "stream",
          "name": "stdout",
          "text": [
            "[jovian] Detected Colab notebook...\u001b[0m\n",
            "[jovian] Uploading colab notebook to Jovian...\u001b[0m\n",
            "Committed successfully! https://jovian.ai/programeralebrije/new-york-taxi-fare-predictions\n"
          ]
        },
        {
          "output_type": "execute_result",
          "data": {
            "application/vnd.google.colaboratory.intrinsic+json": {
              "type": "string"
            },
            "text/plain": [
              "'https://jovian.ai/programeralebrije/new-york-taxi-fare-predictions'"
            ]
          },
          "metadata": {},
          "execution_count": 35
        }
      ]
    },
    {
      "cell_type": "code",
      "source": [
        ""
      ],
      "metadata": {
        "id": "fx8_l8Y3rOaY"
      },
      "execution_count": null,
      "outputs": []
    }
  ],
  "metadata": {
    "accelerator": "GPU",
    "colab": {
      "collapsed_sections": [],
      "name": "new-york-taxi-fare-predictions.ipynb",
      "provenance": [],
      "toc_visible": true,
      "include_colab_link": true
    },
    "kernelspec": {
      "display_name": "Python 3",
      "language": "python",
      "name": "python3"
    },
    "language_info": {
      "codemirror_mode": {
        "name": "ipython",
        "version": 3
      },
      "file_extension": ".py",
      "mimetype": "text/x-python",
      "name": "python",
      "nbconvert_exporter": "python",
      "pygments_lexer": "ipython3",
      "version": "3.7.6"
    }
  },
  "nbformat": 4,
  "nbformat_minor": 0
}