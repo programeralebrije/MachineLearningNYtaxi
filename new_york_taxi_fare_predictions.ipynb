{
  "cells": [
    {
      "cell_type": "markdown",
      "metadata": {
        "id": "view-in-github",
        "colab_type": "text"
      },
      "source": [
        "<a href=\"https://colab.research.google.com/github/programeralebrije/MachineLearningNYtaxi/blob/main/new_york_taxi_fare_predictions.ipynb\" target=\"_parent\"><img src=\"https://colab.research.google.com/assets/colab-badge.svg\" alt=\"Open In Colab\"/></a>"
      ]
    },
    {
      "cell_type": "code",
      "execution_count": 31,
      "metadata": {
        "id": "ANdx5faqgXDz"
      },
      "outputs": [],
      "source": [
        "# Jovian Commit Essentials\n",
        "# Please retain and execute this cell without modifying the contents for `jovian.commit` to work\n",
        "!pip install jovian --upgrade -q\n",
        "import jovian\n",
        "jovian.set_project('new-york-taxi-fare-predictions')\n",
        "jovian.set_colab_id('1YQCyIaycmlv9Op-piXXnhOgUDYZAiKXU')"
      ]
    },
    {
      "cell_type": "markdown",
      "metadata": {
        "id": "1LoWBc78hlzd"
      },
      "source": [
        "# New York Taxi Fare Predictions "
      ]
    },
    {
      "cell_type": "code",
      "execution_count": null,
      "metadata": {
        "colab": {
          "background_save": true
        },
        "id": "0MOnS4rkhlzf"
      },
      "outputs": [],
      "source": [
        "!pip install jovian --upgrade --quiet"
      ]
    },
    {
      "cell_type": "code",
      "execution_count": null,
      "metadata": {
        "colab": {
          "background_save": true
        },
        "id": "W_0JM_rzhlzf"
      },
      "outputs": [],
      "source": [
        "import jovian"
      ]
    },
    {
      "cell_type": "code",
      "execution_count": null,
      "metadata": {
        "colab": {
          "background_save": true
        },
        "id": "QAn-bbb0hlzg",
        "outputId": "7734aaef-68b5-4702-f556-511e4d2e7f81"
      },
      "outputs": [
        {
          "name": "stdout",
          "output_type": "stream",
          "text": [
            "[jovian] Detected Colab notebook...\u001b[0m\n",
            "[jovian] Please enter your API key ( from https://jovian.ai/ ):\u001b[0m\n",
            "API KEY: [jovian] Uploading colab notebook to Jovian...\u001b[0m\n",
            "Committed successfully! https://jovian.ai/programeralebrije/new-york-taxi-fare-predictions\n"
          ]
        },
        {
          "data": {
            "application/vnd.google.colaboratory.intrinsic+json": {
              "type": "string"
            },
            "text/plain": [
              "'https://jovian.ai/programeralebrije/new-york-taxi-fare-predictions'"
            ]
          },
          "execution_count": null,
          "metadata": {},
          "output_type": "execute_result"
        }
      ],
      "source": [
        "# Execute this to save new versions of the notebook\n",
        "jovian.commit(project=\"new-york-taxi-fare-predictions\")"
      ]
    },
    {
      "cell_type": "markdown",
      "metadata": {
        "id": "DX7BX0pHpW-p"
      },
      "source": [
        "### Outline of the project\n",
        "1. Downlaod the dataset\n",
        "2. Explore and analyze the dataset\n",
        "3. Prepare the dataset for ML training \n",
        "4. Train Hardcoded and baseline models \n",
        "5. Make predictions and submit to Kaggle\n",
        "6. Perform feature engeneering \n",
        "7. Train and evaluate different models \n",
        "8. Tune Hyperparameters for the best models \n",
        "9. Train on a GPU with the entire dataset \n",
        "10. Document and publish the project online "
      ]
    },
    {
      "cell_type": "markdown",
      "metadata": {
        "id": "yDKBbVYIrT4q"
      },
      "source": [
        "# 1. Downlad the dataset \n",
        "\n",
        "Steps:\n",
        "- Install required libraries\n",
        "- Download data from Kaggle\n",
        "- View dataset files \n",
        "- Load trianing set with Pandas\n",
        "- Load test set with Pandas"
      ]
    },
    {
      "cell_type": "markdown",
      "metadata": {
        "id": "Mo2-S56mDcHd"
      },
      "source": [
        "# Install required libraries"
      ]
    },
    {
      "cell_type": "code",
      "execution_count": null,
      "metadata": {
        "colab": {
          "background_save": true
        },
        "id": "QXVkRQs9hlzg"
      },
      "outputs": [],
      "source": [
        "!pip install jovian opendatasets pandas numpy scikit-learn xgboost --quiet"
      ]
    },
    {
      "cell_type": "code",
      "execution_count": null,
      "metadata": {
        "colab": {
          "background_save": true
        },
        "id": "hQgsIZxdDxqQ"
      },
      "outputs": [],
      "source": [
        "import jovian "
      ]
    },
    {
      "cell_type": "code",
      "execution_count": null,
      "metadata": {
        "colab": {
          "background_save": true
        },
        "id": "6StOoK1aEGVF",
        "outputId": "faf9b5d8-f7aa-455e-c598-51a464082d1c"
      },
      "outputs": [
        {
          "name": "stdout",
          "output_type": "stream",
          "text": [
            "[jovian] Detected Colab notebook...\u001b[0m\n",
            "[jovian] Uploading colab notebook to Jovian...\u001b[0m\n",
            "Committed successfully! https://jovian.ai/programeralebrije/new-york-taxi-fare-predictions\n"
          ]
        },
        {
          "data": {
            "application/vnd.google.colaboratory.intrinsic+json": {
              "type": "string"
            },
            "text/plain": [
              "'https://jovian.ai/programeralebrije/new-york-taxi-fare-predictions'"
            ]
          },
          "execution_count": null,
          "metadata": {},
          "output_type": "execute_result"
        }
      ],
      "source": [
        "jovian.commit()"
      ]
    },
    {
      "cell_type": "markdown",
      "metadata": {
        "id": "QXb9Tl8wEhyx"
      },
      "source": [
        "# Download data from Kaggle "
      ]
    },
    {
      "cell_type": "code",
      "execution_count": null,
      "metadata": {
        "colab": {
          "background_save": true
        },
        "id": "ovsSy8PGEHpq"
      },
      "outputs": [],
      "source": [
        "import opendatasets as od"
      ]
    },
    {
      "cell_type": "code",
      "execution_count": null,
      "metadata": {
        "colab": {
          "background_save": true
        },
        "id": "OyfJIx2dEuWG"
      },
      "outputs": [],
      "source": [
        "dataset_url = 'https://www.kaggle.com/c/new-york-city-taxi-fare-prediction'"
      ]
    },
    {
      "cell_type": "code",
      "execution_count": 27,
      "metadata": {
        "id": "hfO-FoCXHwzI",
        "colab": {
          "base_uri": "https://localhost:8080/"
        },
        "outputId": "aae002a2-1ebf-45f0-b12f-c2b720c4e18c"
      },
      "outputs": [
        {
          "output_type": "stream",
          "name": "stdout",
          "text": [
            "Please provide your Kaggle credentials to download this dataset. Learn more: http://bit.ly/kaggle-creds\n",
            "Your Kaggle username: Your Kaggle Key: ··········\n",
            "Downloading new-york-city-taxi-fare-prediction.zip to ./new-york-city-taxi-fare-prediction\n"
          ]
        },
        {
          "output_type": "stream",
          "name": "stderr",
          "text": [
            "100%|██████████| 1.56G/1.56G [00:11<00:00, 142MB/s]\n"
          ]
        },
        {
          "output_type": "stream",
          "name": "stdout",
          "text": [
            "\n",
            "Extracting archive ./new-york-city-taxi-fare-prediction/new-york-city-taxi-fare-prediction.zip to ./new-york-city-taxi-fare-prediction\n"
          ]
        }
      ],
      "source": [
        "od.download(dataset_url)"
      ]
    },
    {
      "cell_type": "code",
      "execution_count": 28,
      "metadata": {
        "id": "NvW2FyYVH3Rz"
      },
      "outputs": [],
      "source": [
        "data_dir = './new-york-city-taxi-fare-prediction'"
      ]
    },
    {
      "cell_type": "markdown",
      "metadata": {
        "id": "mG_kAKYgmMN7"
      },
      "source": [
        "##View Dataset Files"
      ]
    },
    {
      "cell_type": "code",
      "execution_count": 29,
      "metadata": {
        "id": "_gbX1qHFmw9R",
        "colab": {
          "base_uri": "https://localhost:8080/"
        },
        "outputId": "8243f39d-93fd-499a-d561-3b754ff5b40d"
      },
      "outputs": [
        {
          "output_type": "stream",
          "name": "stdout",
          "text": [
            "total 5.4G\n",
            "-rw-r--r-- 1 root root  486 Jan 24 21:08 GCP-Coupons-Instructions.rtf\n",
            "-rw-r--r-- 1 root root 336K Jan 24 21:08 sample_submission.csv\n",
            "-rw-r--r-- 1 root root 960K Jan 24 21:08 test.csv\n",
            "-rw-r--r-- 1 root root 5.4G Jan 24 21:11 train.csv\n"
          ]
        }
      ],
      "source": [
        "# List of files with size\n",
        "!ls -lh {data_dir}"
      ]
    },
    {
      "cell_type": "code",
      "execution_count": 30,
      "metadata": {
        "id": "mEK0CTAkohIv",
        "colab": {
          "base_uri": "https://localhost:8080/"
        },
        "outputId": "f749fbf5-c892-4d41-b840-eccfa09a300d"
      },
      "outputs": [
        {
          "output_type": "stream",
          "name": "stdout",
          "text": [
            "wc: invalid option -- '1'\n",
            "Try 'wc --help' for more information.\n"
          ]
        }
      ],
      "source": [
        "!wc -1 {data_dir}/train.csv"
      ]
    },
    {
      "cell_type": "code",
      "execution_count": 32,
      "metadata": {
        "id": "_WbnFwvooJ8W",
        "colab": {
          "base_uri": "https://localhost:8080/"
        },
        "outputId": "b898b3e8-778c-40f0-ebfc-014fdf372833"
      },
      "outputs": [
        {
          "output_type": "stream",
          "name": "stdout",
          "text": [
            "key,fare_amount,pickup_datetime,pickup_longitude,pickup_latitude,dropoff_longitude,dropoff_latitude,passenger_count\r\n",
            "2009-06-15 17:26:21.0000001,4.5,2009-06-15 17:26:21 UTC,-73.844311,40.721319,-73.84161,40.712278,1\r\n",
            "2010-01-05 16:52:16.0000002,16.9,2010-01-05 16:52:16 UTC,-74.016048,40.711303,-73.979268,40.782004,1\r\n",
            "2011-08-18 00:35:00.00000049,5.7,2011-08-18 00:35:00 UTC,-73.982738,40.76127,-73.991242,40.750562,2\r\n",
            "2012-04-21 04:30:42.0000001,7.7,2012-04-21 04:30:42 UTC,-73.98713,40.733143,-73.991567,40.758092,1\r\n",
            "2010-03-09 07:51:00.000000135,5.3,2010-03-09 07:51:00 UTC,-73.968095,40.768008,-73.956655,40.783762,1\r\n",
            "2011-01-06 09:50:45.0000002,12.1,2011-01-06 09:50:45 UTC,-74.000964,40.73163,-73.972892,40.758233,1\r\n",
            "2012-11-20 20:35:00.0000001,7.5,2012-11-20 20:35:00 UTC,-73.980002,40.751662,-73.973802,40.764842,1\r\n",
            "2012-01-04 17:22:00.00000081,16.5,2012-01-04 17:22:00 UTC,-73.9513,40.774138,-73.990095,40.751048,1\r\n",
            "2012-12-03 13:10:00.000000125,9,2012-12-03 13:10:00 UTC,-74.006462,40.726713,-73.993078,40.731628,1\r\n"
          ]
        }
      ],
      "source": [
        "# Training set\n",
        "!head {data_dir}/train.csv"
      ]
    },
    {
      "cell_type": "code",
      "execution_count": 33,
      "metadata": {
        "id": "hWeIfSzNoJya",
        "colab": {
          "base_uri": "https://localhost:8080/"
        },
        "outputId": "669dbdf9-23a6-4850-9d00-f4d1304e6e5e"
      },
      "outputs": [
        {
          "output_type": "stream",
          "name": "stdout",
          "text": [
            "key,pickup_datetime,pickup_longitude,pickup_latitude,dropoff_longitude,dropoff_latitude,passenger_count\r\n",
            "2015-01-27 13:08:24.0000002,2015-01-27 13:08:24 UTC,-73.973320007324219,40.7638053894043,-73.981430053710938,40.74383544921875,1\r\n",
            "2015-01-27 13:08:24.0000003,2015-01-27 13:08:24 UTC,-73.986862182617188,40.719383239746094,-73.998886108398438,40.739200592041016,1\r\n",
            "2011-10-08 11:53:44.0000002,2011-10-08 11:53:44 UTC,-73.982524,40.75126,-73.979654,40.746139,1\r\n",
            "2012-12-01 21:12:12.0000002,2012-12-01 21:12:12 UTC,-73.98116,40.767807,-73.990448,40.751635,1\r\n",
            "2012-12-01 21:12:12.0000003,2012-12-01 21:12:12 UTC,-73.966046,40.789775,-73.988565,40.744427,1\r\n",
            "2012-12-01 21:12:12.0000005,2012-12-01 21:12:12 UTC,-73.960983,40.765547,-73.979177,40.740053,1\r\n",
            "2011-10-06 12:10:20.0000001,2011-10-06 12:10:20 UTC,-73.949013,40.773204,-73.959622,40.770893,1\r\n",
            "2011-10-06 12:10:20.0000003,2011-10-06 12:10:20 UTC,-73.777282,40.646636,-73.985083,40.759368,1\r\n",
            "2011-10-06 12:10:20.0000002,2011-10-06 12:10:20 UTC,-74.014099,40.709638,-73.995106,40.741365,1\r\n"
          ]
        }
      ],
      "source": [
        "# Test set\n",
        "!head {data_dir}/test.csv"
      ]
    },
    {
      "cell_type": "markdown",
      "metadata": {
        "id": "qU9P2cixqHgz"
      },
      "source": [
        "Test Data Set is missing Fare amout, this set is not be use for predictions ."
      ]
    },
    {
      "cell_type": "code",
      "execution_count": 34,
      "metadata": {
        "id": "6a2syTe_oJnd",
        "colab": {
          "base_uri": "https://localhost:8080/"
        },
        "outputId": "2d133170-e0e9-4952-a868-2a5eba6baab7"
      },
      "outputs": [
        {
          "output_type": "stream",
          "name": "stdout",
          "text": [
            "key,fare_amount\n",
            "2015-01-27 13:08:24.0000002,11.35\n",
            "2015-01-27 13:08:24.0000003,11.35\n",
            "2011-10-08 11:53:44.0000002,11.35\n",
            "2012-12-01 21:12:12.0000002,11.35\n",
            "2012-12-01 21:12:12.0000003,11.35\n",
            "2012-12-01 21:12:12.0000005,11.35\n",
            "2011-10-06 12:10:20.0000001,11.35\n",
            "2011-10-06 12:10:20.0000003,11.35\n",
            "2011-10-06 12:10:20.0000002,11.35\n"
          ]
        }
      ],
      "source": [
        "# Sample submission file\n",
        "!head {data_dir}/sample_submission.csv"
      ]
    },
    {
      "cell_type": "code",
      "execution_count": 35,
      "metadata": {
        "id": "pflLVEHzpyeZ",
        "colab": {
          "base_uri": "https://localhost:8080/"
        },
        "outputId": "3c6ddfd0-4ebe-41a4-b27f-b6d9fff35104"
      },
      "outputs": [
        {
          "output_type": "stream",
          "name": "stdout",
          "text": [
            "55423856 ./new-york-city-taxi-fare-prediction/train.csv\n"
          ]
        }
      ],
      "source": [
        "# No. of lines in training set\n",
        "!wc -l {data_dir}/train.csv"
      ]
    },
    {
      "cell_type": "code",
      "execution_count": 36,
      "metadata": {
        "id": "9B2o5Cy9qYzt",
        "colab": {
          "base_uri": "https://localhost:8080/"
        },
        "outputId": "09110c1f-7546-4046-efb1-4b8c4345d0b0"
      },
      "outputs": [
        {
          "output_type": "stream",
          "name": "stdout",
          "text": [
            "9914 ./new-york-city-taxi-fare-prediction/test.csv\n"
          ]
        }
      ],
      "source": [
        "# No. of lines in test set\n",
        "!wc -l {data_dir}/test.csv"
      ]
    },
    {
      "cell_type": "code",
      "execution_count": 37,
      "metadata": {
        "id": "mY1F_dQZrMOF",
        "colab": {
          "base_uri": "https://localhost:8080/"
        },
        "outputId": "000cfc9e-64dc-4820-9d39-2282a572bfb4"
      },
      "outputs": [
        {
          "output_type": "stream",
          "name": "stdout",
          "text": [
            "9915 ./new-york-city-taxi-fare-prediction/sample_submission.csv\n"
          ]
        }
      ],
      "source": [
        "# No. of lines in submission file\n",
        "!wc -l {data_dir}/sample_submission.csv"
      ]
    },
    {
      "cell_type": "markdown",
      "metadata": {
        "id": "sc2Eng0XvU01"
      },
      "source": [
        "**# No. of lines in training set**"
      ]
    },
    {
      "cell_type": "code",
      "execution_count": 38,
      "metadata": {
        "id": "S-lW9xopvI8c",
        "colab": {
          "base_uri": "https://localhost:8080/"
        },
        "outputId": "7e0ee6dc-753d-4c81-b359-871078f9a473"
      },
      "outputs": [
        {
          "output_type": "stream",
          "name": "stdout",
          "text": [
            "55423856 ./new-york-city-taxi-fare-prediction/train.csv\n"
          ]
        }
      ],
      "source": [
        "!wc -l {data_dir}/train.csv"
      ]
    },
    {
      "cell_type": "markdown",
      "metadata": {
        "id": "16srMfBNvq6s"
      },
      "source": [
        "**# No. of lines in submission file**"
      ]
    },
    {
      "cell_type": "code",
      "execution_count": 39,
      "metadata": {
        "id": "_RxddcalvgH1",
        "colab": {
          "base_uri": "https://localhost:8080/"
        },
        "outputId": "f1f26bd3-9158-45c5-dc83-1c4b5af06dc6"
      },
      "outputs": [
        {
          "output_type": "stream",
          "name": "stdout",
          "text": [
            "9914 ./new-york-city-taxi-fare-prediction/test.csv\n"
          ]
        }
      ],
      "source": [
        "!wc -l {data_dir}/test.csv"
      ]
    },
    {
      "cell_type": "markdown",
      "metadata": {
        "id": "e7gQnzjjv5jk"
      },
      "source": [
        "**# No. of lines in test set**"
      ]
    },
    {
      "cell_type": "code",
      "execution_count": 40,
      "metadata": {
        "id": "frxpipIWv1OL",
        "colab": {
          "base_uri": "https://localhost:8080/"
        },
        "outputId": "0ac4518f-64d0-4f93-e2ed-00e32a51d1a4"
      },
      "outputs": [
        {
          "output_type": "stream",
          "name": "stdout",
          "text": [
            "9914 ./new-york-city-taxi-fare-prediction/test.csv\n"
          ]
        }
      ],
      "source": [
        "!wc -l {data_dir}/test.csv"
      ]
    },
    {
      "cell_type": "markdown",
      "metadata": {
        "id": "OqMuyTpzrXww"
      },
      "source": [
        "Observations:\n",
        "\n",
        "* This is a supervised learning \n",
        "regression problem\n",
        "* Training data is 5.5 GB in size\n",
        "* Training data has 5.5 million rows\n",
        "* Test set is much smaller (< 10,000 rows)\n",
        "* The training set has 8 columns:\n",
        "   * key (a unique identifier)\n",
        "   * fare_amount (target column)\n",
        "   * pickup_datetime\n",
        "   * pickup_longitude\n",
        "   * pickup_latitude\n",
        "   * dropoff_longitude\n",
        "   * dropoff_latitude\n",
        "   * passenger_count\n",
        "* The test set has all columns except the target column fare_amount.\n",
        "* The submission file should contain the key and fare_amount for each test sample."
      ]
    },
    {
      "cell_type": "code",
      "execution_count": 41,
      "metadata": {
        "id": "Leu5s5ROrWBD",
        "colab": {
          "base_uri": "https://localhost:8080/",
          "height": 107
        },
        "outputId": "3232434a-09c8-4c07-cb01-7e9d79349b5a"
      },
      "outputs": [
        {
          "output_type": "stream",
          "name": "stdout",
          "text": [
            "[jovian] Detected Colab notebook...\u001b[0m\n",
            "[jovian] Uploading colab notebook to Jovian...\u001b[0m\n",
            "Committed successfully! https://jovian.ai/programeralebrije/new-york-taxi-fare-predictions\n"
          ]
        },
        {
          "output_type": "execute_result",
          "data": {
            "application/vnd.google.colaboratory.intrinsic+json": {
              "type": "string"
            },
            "text/plain": [
              "'https://jovian.ai/programeralebrije/new-york-taxi-fare-predictions'"
            ]
          },
          "metadata": {},
          "execution_count": 41
        }
      ],
      "source": [
        "jovian.commit()"
      ]
    },
    {
      "cell_type": "markdown",
      "metadata": {
        "id": "vqkardaS1ZCg"
      },
      "source": [
        "##  1.- Loading Training Set"
      ]
    },
    {
      "cell_type": "markdown",
      "metadata": {
        "id": "xKcokxxa1ITx"
      },
      "source": [
        "Loading the entire dataset into Pandas is going to be slow, so we can use the following optimizations:\n",
        "\n",
        " * Ignore the key column\n",
        " * Parse pickup datetime while loading data\n",
        " * Specify data types for other columns\n",
        "   * float32 for geo coordinates\n",
        "   * float32 for fare amount\n",
        "   * uint8 for passenger count\n",
        "* Work with a 1% sample of the data (~500k rows)\n",
        "We can apply these optimizations while using pd.read_csv"
      ]
    },
    {
      "cell_type": "code",
      "execution_count": 42,
      "metadata": {
        "id": "fx8_l8Y3rOaY"
      },
      "outputs": [],
      "source": [
        "import pandas as pd\n",
        "import random"
      ]
    },
    {
      "cell_type": "code",
      "execution_count": 49,
      "metadata": {
        "id": "DrPQheed1hKM"
      },
      "outputs": [],
      "source": [
        "sample_frac = 0.03"
      ]
    },
    {
      "cell_type": "code",
      "execution_count": 44,
      "metadata": {
        "id": "k2DjZous3C7k"
      },
      "outputs": [],
      "source": [
        "selected_cols = 'fare_amount,pickup_datetime,pickup_longitude,pickup_latitude,dropoff_longitude,dropoff_latitude,passenger_count'.split(',')\n",
        "dtypes = {\n",
        "    'fare_amount': 'float32',\n",
        "    'pickup_longitude': 'float32',\n",
        "    'pickup_latitude': 'float32',\n",
        "    'dropoff_longitude': 'float32',\n",
        "    'passenger_count': 'float32'\n",
        "}"
      ]
    },
    {
      "cell_type": "code",
      "execution_count": 45,
      "metadata": {
        "id": "HH1qUSSL3Etj",
        "colab": {
          "base_uri": "https://localhost:8080/"
        },
        "outputId": "9c937bf4-4546-4a20-ab31-82d1b6ad8038"
      },
      "outputs": [
        {
          "output_type": "execute_result",
          "data": {
            "text/plain": [
              "['fare_amount',\n",
              " 'pickup_datetime',\n",
              " 'pickup_longitude',\n",
              " 'pickup_latitude',\n",
              " 'dropoff_longitude',\n",
              " 'dropoff_latitude',\n",
              " 'passenger_count']"
            ]
          },
          "metadata": {},
          "execution_count": 45
        }
      ],
      "source": [
        "selected_cols"
      ]
    },
    {
      "cell_type": "code",
      "execution_count": 46,
      "metadata": {
        "id": "u70P83dq35vL"
      },
      "outputs": [],
      "source": [
        "import random"
      ]
    },
    {
      "cell_type": "code",
      "execution_count": 47,
      "metadata": {
        "id": "0aOhNVoW4DsM",
        "colab": {
          "base_uri": "https://localhost:8080/"
        },
        "outputId": "d1099b69-1709-48d9-d369-58b238b0e4b0"
      },
      "outputs": [
        {
          "output_type": "execute_result",
          "data": {
            "text/plain": [
              "0.025010755222666936"
            ]
          },
          "metadata": {},
          "execution_count": 47
        }
      ],
      "source": [
        "random.random(\n",
        "    \n",
        ")"
      ]
    },
    {
      "cell_type": "code",
      "execution_count": 50,
      "metadata": {
        "id": "32QzZnL53JqJ"
      },
      "outputs": [],
      "source": [
        "\n",
        "dtypes = {\n",
        "    'fare_amount': 'float32',\n",
        "    'pickup_longitude': 'float32',\n",
        "    'pickup_latitude': 'float32',\n",
        "    'dropoff_longitude': 'float32',\n",
        "    'passenger_count': 'float32'\n",
        "}\n",
        "\n",
        "def skip_row(row_idx):\n",
        "    if row_idx == 0:\n",
        "        return False\n",
        "    return random.random() > sample_frac\n",
        "\n",
        "random.seed(42)\n",
        "df = pd.read_csv(data_dir+\"/train.csv\", \n",
        "                 usecols=selected_cols, \n",
        "                 dtype=dtypes, \n",
        "                 parse_dates=['pickup_datetime'], \n",
        "                 skiprows=skip_row)"
      ]
    },
    {
      "cell_type": "markdown",
      "source": [
        "CPU times: user 5min 19s, sys: 1.04 s, total: 5min 19s\n",
        "Wall time: 5min 19s"
      ],
      "metadata": {
        "id": "mwX54wuJACsj"
      }
    },
    {
      "cell_type": "code",
      "source": [
        "df"
      ],
      "metadata": {
        "colab": {
          "base_uri": "https://localhost:8080/",
          "height": 661
        },
        "id": "1wuIBm0tABTo",
        "outputId": "bf3f81ba-bd88-44b1-d72f-895190a5845d"
      },
      "execution_count": 51,
      "outputs": [
        {
          "output_type": "execute_result",
          "data": {
            "text/html": [
              "\n",
              "  <div id=\"df-3209cedd-be0d-4047-ae35-b19b570c30d8\">\n",
              "    <div class=\"colab-df-container\">\n",
              "      <div>\n",
              "<style scoped>\n",
              "    .dataframe tbody tr th:only-of-type {\n",
              "        vertical-align: middle;\n",
              "    }\n",
              "\n",
              "    .dataframe tbody tr th {\n",
              "        vertical-align: top;\n",
              "    }\n",
              "\n",
              "    .dataframe thead th {\n",
              "        text-align: right;\n",
              "    }\n",
              "</style>\n",
              "<table border=\"1\" class=\"dataframe\">\n",
              "  <thead>\n",
              "    <tr style=\"text-align: right;\">\n",
              "      <th></th>\n",
              "      <th>fare_amount</th>\n",
              "      <th>pickup_datetime</th>\n",
              "      <th>pickup_longitude</th>\n",
              "      <th>pickup_latitude</th>\n",
              "      <th>dropoff_longitude</th>\n",
              "      <th>dropoff_latitude</th>\n",
              "      <th>passenger_count</th>\n",
              "    </tr>\n",
              "  </thead>\n",
              "  <tbody>\n",
              "    <tr>\n",
              "      <th>0</th>\n",
              "      <td>16.9</td>\n",
              "      <td>2010-01-05 16:52:16+00:00</td>\n",
              "      <td>-74.016045</td>\n",
              "      <td>40.711304</td>\n",
              "      <td>-73.979271</td>\n",
              "      <td>40.782004</td>\n",
              "      <td>1.0</td>\n",
              "    </tr>\n",
              "    <tr>\n",
              "      <th>1</th>\n",
              "      <td>8.9</td>\n",
              "      <td>2009-09-02 01:11:00+00:00</td>\n",
              "      <td>-73.980659</td>\n",
              "      <td>40.733871</td>\n",
              "      <td>-73.991539</td>\n",
              "      <td>40.758138</td>\n",
              "      <td>2.0</td>\n",
              "    </tr>\n",
              "    <tr>\n",
              "      <th>2</th>\n",
              "      <td>4.1</td>\n",
              "      <td>2009-11-06 01:04:03+00:00</td>\n",
              "      <td>-73.991600</td>\n",
              "      <td>40.744713</td>\n",
              "      <td>-73.983078</td>\n",
              "      <td>40.744682</td>\n",
              "      <td>2.0</td>\n",
              "    </tr>\n",
              "    <tr>\n",
              "      <th>3</th>\n",
              "      <td>4.0</td>\n",
              "      <td>2014-12-06 20:36:22+00:00</td>\n",
              "      <td>-73.979813</td>\n",
              "      <td>40.751904</td>\n",
              "      <td>-73.979446</td>\n",
              "      <td>40.755481</td>\n",
              "      <td>1.0</td>\n",
              "    </tr>\n",
              "    <tr>\n",
              "      <th>4</th>\n",
              "      <td>10.0</td>\n",
              "      <td>2014-11-12 12:40:29+00:00</td>\n",
              "      <td>-74.002579</td>\n",
              "      <td>40.739571</td>\n",
              "      <td>-73.994583</td>\n",
              "      <td>40.760682</td>\n",
              "      <td>1.0</td>\n",
              "    </tr>\n",
              "    <tr>\n",
              "      <th>...</th>\n",
              "      <td>...</td>\n",
              "      <td>...</td>\n",
              "      <td>...</td>\n",
              "      <td>...</td>\n",
              "      <td>...</td>\n",
              "      <td>...</td>\n",
              "      <td>...</td>\n",
              "    </tr>\n",
              "    <tr>\n",
              "      <th>1661726</th>\n",
              "      <td>14.5</td>\n",
              "      <td>2013-01-27 12:41:00+00:00</td>\n",
              "      <td>-74.012115</td>\n",
              "      <td>40.706635</td>\n",
              "      <td>-73.988724</td>\n",
              "      <td>40.756217</td>\n",
              "      <td>1.0</td>\n",
              "    </tr>\n",
              "    <tr>\n",
              "      <th>1661727</th>\n",
              "      <td>7.5</td>\n",
              "      <td>2013-03-02 03:13:05+00:00</td>\n",
              "      <td>-74.002953</td>\n",
              "      <td>40.728493</td>\n",
              "      <td>-73.985329</td>\n",
              "      <td>40.726105</td>\n",
              "      <td>1.0</td>\n",
              "    </tr>\n",
              "    <tr>\n",
              "      <th>1661728</th>\n",
              "      <td>6.0</td>\n",
              "      <td>2014-10-18 07:51:00+00:00</td>\n",
              "      <td>-73.997681</td>\n",
              "      <td>40.724380</td>\n",
              "      <td>-73.994148</td>\n",
              "      <td>40.717797</td>\n",
              "      <td>1.0</td>\n",
              "    </tr>\n",
              "    <tr>\n",
              "      <th>1661729</th>\n",
              "      <td>8.0</td>\n",
              "      <td>2013-12-21 14:03:00+00:00</td>\n",
              "      <td>-73.976486</td>\n",
              "      <td>40.765919</td>\n",
              "      <td>-73.991524</td>\n",
              "      <td>40.759857</td>\n",
              "      <td>6.0</td>\n",
              "    </tr>\n",
              "    <tr>\n",
              "      <th>1661730</th>\n",
              "      <td>10.5</td>\n",
              "      <td>2010-08-10 11:19:42+00:00</td>\n",
              "      <td>-73.974640</td>\n",
              "      <td>40.787758</td>\n",
              "      <td>-74.001518</td>\n",
              "      <td>40.762081</td>\n",
              "      <td>1.0</td>\n",
              "    </tr>\n",
              "  </tbody>\n",
              "</table>\n",
              "<p>1661731 rows × 7 columns</p>\n",
              "</div>\n",
              "      <button class=\"colab-df-convert\" onclick=\"convertToInteractive('df-3209cedd-be0d-4047-ae35-b19b570c30d8')\"\n",
              "              title=\"Convert this dataframe to an interactive table.\"\n",
              "              style=\"display:none;\">\n",
              "        \n",
              "  <svg xmlns=\"http://www.w3.org/2000/svg\" height=\"24px\"viewBox=\"0 0 24 24\"\n",
              "       width=\"24px\">\n",
              "    <path d=\"M0 0h24v24H0V0z\" fill=\"none\"/>\n",
              "    <path d=\"M18.56 5.44l.94 2.06.94-2.06 2.06-.94-2.06-.94-.94-2.06-.94 2.06-2.06.94zm-11 1L8.5 8.5l.94-2.06 2.06-.94-2.06-.94L8.5 2.5l-.94 2.06-2.06.94zm10 10l.94 2.06.94-2.06 2.06-.94-2.06-.94-.94-2.06-.94 2.06-2.06.94z\"/><path d=\"M17.41 7.96l-1.37-1.37c-.4-.4-.92-.59-1.43-.59-.52 0-1.04.2-1.43.59L10.3 9.45l-7.72 7.72c-.78.78-.78 2.05 0 2.83L4 21.41c.39.39.9.59 1.41.59.51 0 1.02-.2 1.41-.59l7.78-7.78 2.81-2.81c.8-.78.8-2.07 0-2.86zM5.41 20L4 18.59l7.72-7.72 1.47 1.35L5.41 20z\"/>\n",
              "  </svg>\n",
              "      </button>\n",
              "      \n",
              "  <style>\n",
              "    .colab-df-container {\n",
              "      display:flex;\n",
              "      flex-wrap:wrap;\n",
              "      gap: 12px;\n",
              "    }\n",
              "\n",
              "    .colab-df-convert {\n",
              "      background-color: #E8F0FE;\n",
              "      border: none;\n",
              "      border-radius: 50%;\n",
              "      cursor: pointer;\n",
              "      display: none;\n",
              "      fill: #1967D2;\n",
              "      height: 32px;\n",
              "      padding: 0 0 0 0;\n",
              "      width: 32px;\n",
              "    }\n",
              "\n",
              "    .colab-df-convert:hover {\n",
              "      background-color: #E2EBFA;\n",
              "      box-shadow: 0px 1px 2px rgba(60, 64, 67, 0.3), 0px 1px 3px 1px rgba(60, 64, 67, 0.15);\n",
              "      fill: #174EA6;\n",
              "    }\n",
              "\n",
              "    [theme=dark] .colab-df-convert {\n",
              "      background-color: #3B4455;\n",
              "      fill: #D2E3FC;\n",
              "    }\n",
              "\n",
              "    [theme=dark] .colab-df-convert:hover {\n",
              "      background-color: #434B5C;\n",
              "      box-shadow: 0px 1px 3px 1px rgba(0, 0, 0, 0.15);\n",
              "      filter: drop-shadow(0px 1px 2px rgba(0, 0, 0, 0.3));\n",
              "      fill: #FFFFFF;\n",
              "    }\n",
              "  </style>\n",
              "\n",
              "      <script>\n",
              "        const buttonEl =\n",
              "          document.querySelector('#df-3209cedd-be0d-4047-ae35-b19b570c30d8 button.colab-df-convert');\n",
              "        buttonEl.style.display =\n",
              "          google.colab.kernel.accessAllowed ? 'block' : 'none';\n",
              "\n",
              "        async function convertToInteractive(key) {\n",
              "          const element = document.querySelector('#df-3209cedd-be0d-4047-ae35-b19b570c30d8');\n",
              "          const dataTable =\n",
              "            await google.colab.kernel.invokeFunction('convertToInteractive',\n",
              "                                                     [key], {});\n",
              "          if (!dataTable) return;\n",
              "\n",
              "          const docLinkHtml = 'Like what you see? Visit the ' +\n",
              "            '<a target=\"_blank\" href=https://colab.research.google.com/notebooks/data_table.ipynb>data table notebook</a>'\n",
              "            + ' to learn more about interactive tables.';\n",
              "          element.innerHTML = '';\n",
              "          dataTable['output_type'] = 'display_data';\n",
              "          await google.colab.output.renderOutput(dataTable, element);\n",
              "          const docLink = document.createElement('div');\n",
              "          docLink.innerHTML = docLinkHtml;\n",
              "          element.appendChild(docLink);\n",
              "        }\n",
              "      </script>\n",
              "    </div>\n",
              "  </div>\n",
              "  "
            ],
            "text/plain": [
              "         fare_amount  ... passenger_count\n",
              "0               16.9  ...             1.0\n",
              "1                8.9  ...             2.0\n",
              "2                4.1  ...             2.0\n",
              "3                4.0  ...             1.0\n",
              "4               10.0  ...             1.0\n",
              "...              ...  ...             ...\n",
              "1661726         14.5  ...             1.0\n",
              "1661727          7.5  ...             1.0\n",
              "1661728          6.0  ...             1.0\n",
              "1661729          8.0  ...             6.0\n",
              "1661730         10.5  ...             1.0\n",
              "\n",
              "[1661731 rows x 7 columns]"
            ]
          },
          "metadata": {},
          "execution_count": 51
        }
      ]
    },
    {
      "cell_type": "code",
      "execution_count": 52,
      "metadata": {
        "id": "eU-T66VP3t20"
      },
      "outputs": [],
      "source": [
        "test_df = pd.read_csv(data_dir+'/test.csv', dtype=dtypes, parse_dates=['pickup_datetime'])"
      ]
    },
    {
      "cell_type": "code",
      "source": [
        "test_df"
      ],
      "metadata": {
        "colab": {
          "base_uri": "https://localhost:8080/",
          "height": 661
        },
        "id": "n0RKCr6mAhtJ",
        "outputId": "48902dbe-6702-4bc0-e7ac-4a8a1d118bd7"
      },
      "execution_count": 53,
      "outputs": [
        {
          "output_type": "execute_result",
          "data": {
            "text/html": [
              "\n",
              "  <div id=\"df-0012d20a-a538-48fd-a99b-d0df71ddb5e2\">\n",
              "    <div class=\"colab-df-container\">\n",
              "      <div>\n",
              "<style scoped>\n",
              "    .dataframe tbody tr th:only-of-type {\n",
              "        vertical-align: middle;\n",
              "    }\n",
              "\n",
              "    .dataframe tbody tr th {\n",
              "        vertical-align: top;\n",
              "    }\n",
              "\n",
              "    .dataframe thead th {\n",
              "        text-align: right;\n",
              "    }\n",
              "</style>\n",
              "<table border=\"1\" class=\"dataframe\">\n",
              "  <thead>\n",
              "    <tr style=\"text-align: right;\">\n",
              "      <th></th>\n",
              "      <th>key</th>\n",
              "      <th>pickup_datetime</th>\n",
              "      <th>pickup_longitude</th>\n",
              "      <th>pickup_latitude</th>\n",
              "      <th>dropoff_longitude</th>\n",
              "      <th>dropoff_latitude</th>\n",
              "      <th>passenger_count</th>\n",
              "    </tr>\n",
              "  </thead>\n",
              "  <tbody>\n",
              "    <tr>\n",
              "      <th>0</th>\n",
              "      <td>2015-01-27 13:08:24.0000002</td>\n",
              "      <td>2015-01-27 13:08:24+00:00</td>\n",
              "      <td>-73.973320</td>\n",
              "      <td>40.763805</td>\n",
              "      <td>-73.981430</td>\n",
              "      <td>40.743835</td>\n",
              "      <td>1.0</td>\n",
              "    </tr>\n",
              "    <tr>\n",
              "      <th>1</th>\n",
              "      <td>2015-01-27 13:08:24.0000003</td>\n",
              "      <td>2015-01-27 13:08:24+00:00</td>\n",
              "      <td>-73.986862</td>\n",
              "      <td>40.719383</td>\n",
              "      <td>-73.998886</td>\n",
              "      <td>40.739201</td>\n",
              "      <td>1.0</td>\n",
              "    </tr>\n",
              "    <tr>\n",
              "      <th>2</th>\n",
              "      <td>2011-10-08 11:53:44.0000002</td>\n",
              "      <td>2011-10-08 11:53:44+00:00</td>\n",
              "      <td>-73.982521</td>\n",
              "      <td>40.751259</td>\n",
              "      <td>-73.979652</td>\n",
              "      <td>40.746139</td>\n",
              "      <td>1.0</td>\n",
              "    </tr>\n",
              "    <tr>\n",
              "      <th>3</th>\n",
              "      <td>2012-12-01 21:12:12.0000002</td>\n",
              "      <td>2012-12-01 21:12:12+00:00</td>\n",
              "      <td>-73.981163</td>\n",
              "      <td>40.767807</td>\n",
              "      <td>-73.990448</td>\n",
              "      <td>40.751635</td>\n",
              "      <td>1.0</td>\n",
              "    </tr>\n",
              "    <tr>\n",
              "      <th>4</th>\n",
              "      <td>2012-12-01 21:12:12.0000003</td>\n",
              "      <td>2012-12-01 21:12:12+00:00</td>\n",
              "      <td>-73.966049</td>\n",
              "      <td>40.789776</td>\n",
              "      <td>-73.988564</td>\n",
              "      <td>40.744427</td>\n",
              "      <td>1.0</td>\n",
              "    </tr>\n",
              "    <tr>\n",
              "      <th>...</th>\n",
              "      <td>...</td>\n",
              "      <td>...</td>\n",
              "      <td>...</td>\n",
              "      <td>...</td>\n",
              "      <td>...</td>\n",
              "      <td>...</td>\n",
              "      <td>...</td>\n",
              "    </tr>\n",
              "    <tr>\n",
              "      <th>9909</th>\n",
              "      <td>2015-05-10 12:37:51.0000002</td>\n",
              "      <td>2015-05-10 12:37:51+00:00</td>\n",
              "      <td>-73.968124</td>\n",
              "      <td>40.796997</td>\n",
              "      <td>-73.955643</td>\n",
              "      <td>40.780388</td>\n",
              "      <td>6.0</td>\n",
              "    </tr>\n",
              "    <tr>\n",
              "      <th>9910</th>\n",
              "      <td>2015-01-12 17:05:51.0000001</td>\n",
              "      <td>2015-01-12 17:05:51+00:00</td>\n",
              "      <td>-73.945511</td>\n",
              "      <td>40.803600</td>\n",
              "      <td>-73.960213</td>\n",
              "      <td>40.776371</td>\n",
              "      <td>6.0</td>\n",
              "    </tr>\n",
              "    <tr>\n",
              "      <th>9911</th>\n",
              "      <td>2015-04-19 20:44:15.0000001</td>\n",
              "      <td>2015-04-19 20:44:15+00:00</td>\n",
              "      <td>-73.991600</td>\n",
              "      <td>40.726608</td>\n",
              "      <td>-73.789742</td>\n",
              "      <td>40.647011</td>\n",
              "      <td>6.0</td>\n",
              "    </tr>\n",
              "    <tr>\n",
              "      <th>9912</th>\n",
              "      <td>2015-01-31 01:05:19.0000005</td>\n",
              "      <td>2015-01-31 01:05:19+00:00</td>\n",
              "      <td>-73.985573</td>\n",
              "      <td>40.735432</td>\n",
              "      <td>-73.939178</td>\n",
              "      <td>40.801731</td>\n",
              "      <td>6.0</td>\n",
              "    </tr>\n",
              "    <tr>\n",
              "      <th>9913</th>\n",
              "      <td>2015-01-18 14:06:23.0000006</td>\n",
              "      <td>2015-01-18 14:06:23+00:00</td>\n",
              "      <td>-73.988022</td>\n",
              "      <td>40.754070</td>\n",
              "      <td>-74.000282</td>\n",
              "      <td>40.759220</td>\n",
              "      <td>6.0</td>\n",
              "    </tr>\n",
              "  </tbody>\n",
              "</table>\n",
              "<p>9914 rows × 7 columns</p>\n",
              "</div>\n",
              "      <button class=\"colab-df-convert\" onclick=\"convertToInteractive('df-0012d20a-a538-48fd-a99b-d0df71ddb5e2')\"\n",
              "              title=\"Convert this dataframe to an interactive table.\"\n",
              "              style=\"display:none;\">\n",
              "        \n",
              "  <svg xmlns=\"http://www.w3.org/2000/svg\" height=\"24px\"viewBox=\"0 0 24 24\"\n",
              "       width=\"24px\">\n",
              "    <path d=\"M0 0h24v24H0V0z\" fill=\"none\"/>\n",
              "    <path d=\"M18.56 5.44l.94 2.06.94-2.06 2.06-.94-2.06-.94-.94-2.06-.94 2.06-2.06.94zm-11 1L8.5 8.5l.94-2.06 2.06-.94-2.06-.94L8.5 2.5l-.94 2.06-2.06.94zm10 10l.94 2.06.94-2.06 2.06-.94-2.06-.94-.94-2.06-.94 2.06-2.06.94z\"/><path d=\"M17.41 7.96l-1.37-1.37c-.4-.4-.92-.59-1.43-.59-.52 0-1.04.2-1.43.59L10.3 9.45l-7.72 7.72c-.78.78-.78 2.05 0 2.83L4 21.41c.39.39.9.59 1.41.59.51 0 1.02-.2 1.41-.59l7.78-7.78 2.81-2.81c.8-.78.8-2.07 0-2.86zM5.41 20L4 18.59l7.72-7.72 1.47 1.35L5.41 20z\"/>\n",
              "  </svg>\n",
              "      </button>\n",
              "      \n",
              "  <style>\n",
              "    .colab-df-container {\n",
              "      display:flex;\n",
              "      flex-wrap:wrap;\n",
              "      gap: 12px;\n",
              "    }\n",
              "\n",
              "    .colab-df-convert {\n",
              "      background-color: #E8F0FE;\n",
              "      border: none;\n",
              "      border-radius: 50%;\n",
              "      cursor: pointer;\n",
              "      display: none;\n",
              "      fill: #1967D2;\n",
              "      height: 32px;\n",
              "      padding: 0 0 0 0;\n",
              "      width: 32px;\n",
              "    }\n",
              "\n",
              "    .colab-df-convert:hover {\n",
              "      background-color: #E2EBFA;\n",
              "      box-shadow: 0px 1px 2px rgba(60, 64, 67, 0.3), 0px 1px 3px 1px rgba(60, 64, 67, 0.15);\n",
              "      fill: #174EA6;\n",
              "    }\n",
              "\n",
              "    [theme=dark] .colab-df-convert {\n",
              "      background-color: #3B4455;\n",
              "      fill: #D2E3FC;\n",
              "    }\n",
              "\n",
              "    [theme=dark] .colab-df-convert:hover {\n",
              "      background-color: #434B5C;\n",
              "      box-shadow: 0px 1px 3px 1px rgba(0, 0, 0, 0.15);\n",
              "      filter: drop-shadow(0px 1px 2px rgba(0, 0, 0, 0.3));\n",
              "      fill: #FFFFFF;\n",
              "    }\n",
              "  </style>\n",
              "\n",
              "      <script>\n",
              "        const buttonEl =\n",
              "          document.querySelector('#df-0012d20a-a538-48fd-a99b-d0df71ddb5e2 button.colab-df-convert');\n",
              "        buttonEl.style.display =\n",
              "          google.colab.kernel.accessAllowed ? 'block' : 'none';\n",
              "\n",
              "        async function convertToInteractive(key) {\n",
              "          const element = document.querySelector('#df-0012d20a-a538-48fd-a99b-d0df71ddb5e2');\n",
              "          const dataTable =\n",
              "            await google.colab.kernel.invokeFunction('convertToInteractive',\n",
              "                                                     [key], {});\n",
              "          if (!dataTable) return;\n",
              "\n",
              "          const docLinkHtml = 'Like what you see? Visit the ' +\n",
              "            '<a target=\"_blank\" href=https://colab.research.google.com/notebooks/data_table.ipynb>data table notebook</a>'\n",
              "            + ' to learn more about interactive tables.';\n",
              "          element.innerHTML = '';\n",
              "          dataTable['output_type'] = 'display_data';\n",
              "          await google.colab.output.renderOutput(dataTable, element);\n",
              "          const docLink = document.createElement('div');\n",
              "          docLink.innerHTML = docLinkHtml;\n",
              "          element.appendChild(docLink);\n",
              "        }\n",
              "      </script>\n",
              "    </div>\n",
              "  </div>\n",
              "  "
            ],
            "text/plain": [
              "                              key  ... passenger_count\n",
              "0     2015-01-27 13:08:24.0000002  ...             1.0\n",
              "1     2015-01-27 13:08:24.0000003  ...             1.0\n",
              "2     2011-10-08 11:53:44.0000002  ...             1.0\n",
              "3     2012-12-01 21:12:12.0000002  ...             1.0\n",
              "4     2012-12-01 21:12:12.0000003  ...             1.0\n",
              "...                           ...  ...             ...\n",
              "9909  2015-05-10 12:37:51.0000002  ...             6.0\n",
              "9910  2015-01-12 17:05:51.0000001  ...             6.0\n",
              "9911  2015-04-19 20:44:15.0000001  ...             6.0\n",
              "9912  2015-01-31 01:05:19.0000005  ...             6.0\n",
              "9913  2015-01-18 14:06:23.0000006  ...             6.0\n",
              "\n",
              "[9914 rows x 7 columns]"
            ]
          },
          "metadata": {},
          "execution_count": 53
        }
      ]
    },
    {
      "cell_type": "code",
      "source": [
        "jovian.commit()"
      ],
      "metadata": {
        "colab": {
          "base_uri": "https://localhost:8080/",
          "height": 107
        },
        "id": "snNy1mgCAjoW",
        "outputId": "c7a5e524-8ffc-40bb-d03f-fee433519087"
      },
      "execution_count": 54,
      "outputs": [
        {
          "output_type": "stream",
          "name": "stdout",
          "text": [
            "[jovian] Detected Colab notebook...\u001b[0m\n",
            "[jovian] Uploading colab notebook to Jovian...\u001b[0m\n",
            "Committed successfully! https://jovian.ai/programeralebrije/new-york-taxi-fare-predictions\n"
          ]
        },
        {
          "output_type": "execute_result",
          "data": {
            "application/vnd.google.colaboratory.intrinsic+json": {
              "type": "string"
            },
            "text/plain": [
              "'https://jovian.ai/programeralebrije/new-york-taxi-fare-predictions'"
            ]
          },
          "metadata": {},
          "execution_count": 54
        }
      ]
    },
    {
      "cell_type": "markdown",
      "source": [
        "## 2.- Explore the Dataset"
      ],
      "metadata": {
        "id": "5X_qi2p0A9nO"
      }
    },
    {
      "cell_type": "markdown",
      "source": [
        "* Basic info about training set\n",
        "* Basic info about test set\n",
        "* Exploratory data analysis & visualization\n",
        "* Ask & answer questions"
      ],
      "metadata": {
        "id": "kp87hqyHFI7_"
      }
    },
    {
      "cell_type": "markdown",
      "source": [
        "## Training Set\n"
      ],
      "metadata": {
        "id": "9xPJkvpIFZD3"
      }
    },
    {
      "cell_type": "code",
      "source": [
        "df.info()"
      ],
      "metadata": {
        "colab": {
          "base_uri": "https://localhost:8080/"
        },
        "id": "RJwdULbwApyQ",
        "outputId": "76bff7e6-af2e-4c49-d088-678649d306a8"
      },
      "execution_count": 55,
      "outputs": [
        {
          "output_type": "stream",
          "name": "stdout",
          "text": [
            "<class 'pandas.core.frame.DataFrame'>\n",
            "RangeIndex: 1661731 entries, 0 to 1661730\n",
            "Data columns (total 7 columns):\n",
            " #   Column             Non-Null Count    Dtype              \n",
            "---  ------             --------------    -----              \n",
            " 0   fare_amount        1661731 non-null  float32            \n",
            " 1   pickup_datetime    1661731 non-null  datetime64[ns, UTC]\n",
            " 2   pickup_longitude   1661731 non-null  float32            \n",
            " 3   pickup_latitude    1661731 non-null  float32            \n",
            " 4   dropoff_longitude  1661717 non-null  float32            \n",
            " 5   dropoff_latitude   1661717 non-null  float64            \n",
            " 6   passenger_count    1661731 non-null  float32            \n",
            "dtypes: datetime64[ns, UTC](1), float32(5), float64(1)\n",
            "memory usage: 57.1 MB\n"
          ]
        }
      ]
    },
    {
      "cell_type": "code",
      "source": [
        "df.describe()"
      ],
      "metadata": {
        "colab": {
          "base_uri": "https://localhost:8080/",
          "height": 294
        },
        "id": "81T9kxjWFedF",
        "outputId": "b28879a2-be81-4856-f9f7-e9f2431ea2e0"
      },
      "execution_count": 56,
      "outputs": [
        {
          "output_type": "execute_result",
          "data": {
            "text/html": [
              "\n",
              "  <div id=\"df-a9a001e0-0fa1-4cce-931a-2b7001d906b3\">\n",
              "    <div class=\"colab-df-container\">\n",
              "      <div>\n",
              "<style scoped>\n",
              "    .dataframe tbody tr th:only-of-type {\n",
              "        vertical-align: middle;\n",
              "    }\n",
              "\n",
              "    .dataframe tbody tr th {\n",
              "        vertical-align: top;\n",
              "    }\n",
              "\n",
              "    .dataframe thead th {\n",
              "        text-align: right;\n",
              "    }\n",
              "</style>\n",
              "<table border=\"1\" class=\"dataframe\">\n",
              "  <thead>\n",
              "    <tr style=\"text-align: right;\">\n",
              "      <th></th>\n",
              "      <th>fare_amount</th>\n",
              "      <th>pickup_longitude</th>\n",
              "      <th>pickup_latitude</th>\n",
              "      <th>dropoff_longitude</th>\n",
              "      <th>dropoff_latitude</th>\n",
              "      <th>passenger_count</th>\n",
              "    </tr>\n",
              "  </thead>\n",
              "  <tbody>\n",
              "    <tr>\n",
              "      <th>count</th>\n",
              "      <td>1.661731e+06</td>\n",
              "      <td>1.661731e+06</td>\n",
              "      <td>1.661731e+06</td>\n",
              "      <td>1.661717e+06</td>\n",
              "      <td>1.661717e+06</td>\n",
              "      <td>1.661731e+06</td>\n",
              "    </tr>\n",
              "    <tr>\n",
              "      <th>mean</th>\n",
              "      <td>1.134016e+01</td>\n",
              "      <td>-7.126932e+01</td>\n",
              "      <td>3.940133e+01</td>\n",
              "      <td>-7.126912e+01</td>\n",
              "      <td>3.991955e+01</td>\n",
              "      <td>1.685489e+00</td>\n",
              "    </tr>\n",
              "    <tr>\n",
              "      <th>std</th>\n",
              "      <td>9.830639e+00</td>\n",
              "      <td>1.274979e+01</td>\n",
              "      <td>1.048062e+01</td>\n",
              "      <td>1.297621e+01</td>\n",
              "      <td>1.029647e+01</td>\n",
              "      <td>1.334168e+00</td>\n",
              "    </tr>\n",
              "    <tr>\n",
              "      <th>min</th>\n",
              "      <td>-3.000000e+02</td>\n",
              "      <td>-3.439245e+03</td>\n",
              "      <td>-3.474112e+03</td>\n",
              "      <td>-3.367929e+03</td>\n",
              "      <td>-3.474112e+03</td>\n",
              "      <td>0.000000e+00</td>\n",
              "    </tr>\n",
              "    <tr>\n",
              "      <th>25%</th>\n",
              "      <td>6.000000e+00</td>\n",
              "      <td>-7.399203e+01</td>\n",
              "      <td>4.073491e+01</td>\n",
              "      <td>-7.399140e+01</td>\n",
              "      <td>4.073399e+01</td>\n",
              "      <td>1.000000e+00</td>\n",
              "    </tr>\n",
              "    <tr>\n",
              "      <th>50%</th>\n",
              "      <td>8.500000e+00</td>\n",
              "      <td>-7.398180e+01</td>\n",
              "      <td>4.075266e+01</td>\n",
              "      <td>-7.398017e+01</td>\n",
              "      <td>4.075313e+01</td>\n",
              "      <td>1.000000e+00</td>\n",
              "    </tr>\n",
              "    <tr>\n",
              "      <th>75%</th>\n",
              "      <td>1.250000e+01</td>\n",
              "      <td>-7.396710e+01</td>\n",
              "      <td>4.076711e+01</td>\n",
              "      <td>-7.396368e+01</td>\n",
              "      <td>4.076806e+01</td>\n",
              "      <td>2.000000e+00</td>\n",
              "    </tr>\n",
              "    <tr>\n",
              "      <th>max</th>\n",
              "      <td>1.097480e+03</td>\n",
              "      <td>3.442185e+03</td>\n",
              "      <td>3.347260e+03</td>\n",
              "      <td>3.442185e+03</td>\n",
              "      <td>3.351403e+03</td>\n",
              "      <td>2.080000e+02</td>\n",
              "    </tr>\n",
              "  </tbody>\n",
              "</table>\n",
              "</div>\n",
              "      <button class=\"colab-df-convert\" onclick=\"convertToInteractive('df-a9a001e0-0fa1-4cce-931a-2b7001d906b3')\"\n",
              "              title=\"Convert this dataframe to an interactive table.\"\n",
              "              style=\"display:none;\">\n",
              "        \n",
              "  <svg xmlns=\"http://www.w3.org/2000/svg\" height=\"24px\"viewBox=\"0 0 24 24\"\n",
              "       width=\"24px\">\n",
              "    <path d=\"M0 0h24v24H0V0z\" fill=\"none\"/>\n",
              "    <path d=\"M18.56 5.44l.94 2.06.94-2.06 2.06-.94-2.06-.94-.94-2.06-.94 2.06-2.06.94zm-11 1L8.5 8.5l.94-2.06 2.06-.94-2.06-.94L8.5 2.5l-.94 2.06-2.06.94zm10 10l.94 2.06.94-2.06 2.06-.94-2.06-.94-.94-2.06-.94 2.06-2.06.94z\"/><path d=\"M17.41 7.96l-1.37-1.37c-.4-.4-.92-.59-1.43-.59-.52 0-1.04.2-1.43.59L10.3 9.45l-7.72 7.72c-.78.78-.78 2.05 0 2.83L4 21.41c.39.39.9.59 1.41.59.51 0 1.02-.2 1.41-.59l7.78-7.78 2.81-2.81c.8-.78.8-2.07 0-2.86zM5.41 20L4 18.59l7.72-7.72 1.47 1.35L5.41 20z\"/>\n",
              "  </svg>\n",
              "      </button>\n",
              "      \n",
              "  <style>\n",
              "    .colab-df-container {\n",
              "      display:flex;\n",
              "      flex-wrap:wrap;\n",
              "      gap: 12px;\n",
              "    }\n",
              "\n",
              "    .colab-df-convert {\n",
              "      background-color: #E8F0FE;\n",
              "      border: none;\n",
              "      border-radius: 50%;\n",
              "      cursor: pointer;\n",
              "      display: none;\n",
              "      fill: #1967D2;\n",
              "      height: 32px;\n",
              "      padding: 0 0 0 0;\n",
              "      width: 32px;\n",
              "    }\n",
              "\n",
              "    .colab-df-convert:hover {\n",
              "      background-color: #E2EBFA;\n",
              "      box-shadow: 0px 1px 2px rgba(60, 64, 67, 0.3), 0px 1px 3px 1px rgba(60, 64, 67, 0.15);\n",
              "      fill: #174EA6;\n",
              "    }\n",
              "\n",
              "    [theme=dark] .colab-df-convert {\n",
              "      background-color: #3B4455;\n",
              "      fill: #D2E3FC;\n",
              "    }\n",
              "\n",
              "    [theme=dark] .colab-df-convert:hover {\n",
              "      background-color: #434B5C;\n",
              "      box-shadow: 0px 1px 3px 1px rgba(0, 0, 0, 0.15);\n",
              "      filter: drop-shadow(0px 1px 2px rgba(0, 0, 0, 0.3));\n",
              "      fill: #FFFFFF;\n",
              "    }\n",
              "  </style>\n",
              "\n",
              "      <script>\n",
              "        const buttonEl =\n",
              "          document.querySelector('#df-a9a001e0-0fa1-4cce-931a-2b7001d906b3 button.colab-df-convert');\n",
              "        buttonEl.style.display =\n",
              "          google.colab.kernel.accessAllowed ? 'block' : 'none';\n",
              "\n",
              "        async function convertToInteractive(key) {\n",
              "          const element = document.querySelector('#df-a9a001e0-0fa1-4cce-931a-2b7001d906b3');\n",
              "          const dataTable =\n",
              "            await google.colab.kernel.invokeFunction('convertToInteractive',\n",
              "                                                     [key], {});\n",
              "          if (!dataTable) return;\n",
              "\n",
              "          const docLinkHtml = 'Like what you see? Visit the ' +\n",
              "            '<a target=\"_blank\" href=https://colab.research.google.com/notebooks/data_table.ipynb>data table notebook</a>'\n",
              "            + ' to learn more about interactive tables.';\n",
              "          element.innerHTML = '';\n",
              "          dataTable['output_type'] = 'display_data';\n",
              "          await google.colab.output.renderOutput(dataTable, element);\n",
              "          const docLink = document.createElement('div');\n",
              "          docLink.innerHTML = docLinkHtml;\n",
              "          element.appendChild(docLink);\n",
              "        }\n",
              "      </script>\n",
              "    </div>\n",
              "  </div>\n",
              "  "
            ],
            "text/plain": [
              "        fare_amount  pickup_longitude  ...  dropoff_latitude  passenger_count\n",
              "count  1.661731e+06      1.661731e+06  ...      1.661717e+06     1.661731e+06\n",
              "mean   1.134016e+01     -7.126932e+01  ...      3.991955e+01     1.685489e+00\n",
              "std    9.830639e+00      1.274979e+01  ...      1.029647e+01     1.334168e+00\n",
              "min   -3.000000e+02     -3.439245e+03  ...     -3.474112e+03     0.000000e+00\n",
              "25%    6.000000e+00     -7.399203e+01  ...      4.073399e+01     1.000000e+00\n",
              "50%    8.500000e+00     -7.398180e+01  ...      4.075313e+01     1.000000e+00\n",
              "75%    1.250000e+01     -7.396710e+01  ...      4.076806e+01     2.000000e+00\n",
              "max    1.097480e+03      3.442185e+03  ...      3.351403e+03     2.080000e+02\n",
              "\n",
              "[8 rows x 6 columns]"
            ]
          },
          "metadata": {},
          "execution_count": 56
        }
      ]
    },
    {
      "cell_type": "code",
      "source": [
        "df.pickup_datetime.min(), df.pickup_datetime.max()"
      ],
      "metadata": {
        "colab": {
          "base_uri": "https://localhost:8080/"
        },
        "id": "u6LmKrknF4o_",
        "outputId": "59f48556-6acb-41ec-85ad-f570a9e090cb"
      },
      "execution_count": 57,
      "outputs": [
        {
          "output_type": "execute_result",
          "data": {
            "text/plain": [
              "(Timestamp('2009-01-01 00:11:46+0000', tz='UTC'),\n",
              " Timestamp('2015-06-30 23:59:54+0000', tz='UTC'))"
            ]
          },
          "metadata": {},
          "execution_count": 57
        }
      ]
    },
    {
      "cell_type": "markdown",
      "source": [
        "Observations about training data:\n",
        "\n",
        "- 1,661,731 rows, as expected\n",
        "- No missing data (in the sample)\n",
        "- `fare_amount` ranges from \\$-300.0 to \\$1097.0 \n",
        "- `passenger_count` ranges from 0 to 208 \n",
        "- Dates range from 1st Jan 2009 to 30th June 2015\n",
        "- The dataset takes up ~57 MB of space in the RAM\n",
        "\n",
        "We may need to deal with outliers and data entry errors before we train our model."
      ],
      "metadata": {
        "id": "WDNHb510i4t6"
      }
    },
    {
      "cell_type": "markdown",
      "source": [
        "# Test Set"
      ],
      "metadata": {
        "id": "JDKqGNKOjkHn"
      }
    },
    {
      "cell_type": "code",
      "source": [
        "test_df.info()"
      ],
      "metadata": {
        "colab": {
          "base_uri": "https://localhost:8080/"
        },
        "id": "53b1uRQYKdIw",
        "outputId": "e25b87bd-8dab-47e8-c783-728e58e81539"
      },
      "execution_count": 58,
      "outputs": [
        {
          "output_type": "stream",
          "name": "stdout",
          "text": [
            "<class 'pandas.core.frame.DataFrame'>\n",
            "RangeIndex: 9914 entries, 0 to 9913\n",
            "Data columns (total 7 columns):\n",
            " #   Column             Non-Null Count  Dtype              \n",
            "---  ------             --------------  -----              \n",
            " 0   key                9914 non-null   object             \n",
            " 1   pickup_datetime    9914 non-null   datetime64[ns, UTC]\n",
            " 2   pickup_longitude   9914 non-null   float32            \n",
            " 3   pickup_latitude    9914 non-null   float32            \n",
            " 4   dropoff_longitude  9914 non-null   float32            \n",
            " 5   dropoff_latitude   9914 non-null   float64            \n",
            " 6   passenger_count    9914 non-null   float32            \n",
            "dtypes: datetime64[ns, UTC](1), float32(4), float64(1), object(1)\n",
            "memory usage: 387.4+ KB\n"
          ]
        }
      ]
    },
    {
      "cell_type": "code",
      "source": [
        "test_df.describe()"
      ],
      "metadata": {
        "colab": {
          "base_uri": "https://localhost:8080/",
          "height": 364
        },
        "id": "3z4-4MYvjon1",
        "outputId": "9ba50267-fa56-4889-f538-194970607fd7"
      },
      "execution_count": 59,
      "outputs": [
        {
          "output_type": "execute_result",
          "data": {
            "text/html": [
              "\n",
              "  <div id=\"df-b04c028a-4afa-44a2-b374-99fa7cc70760\">\n",
              "    <div class=\"colab-df-container\">\n",
              "      <div>\n",
              "<style scoped>\n",
              "    .dataframe tbody tr th:only-of-type {\n",
              "        vertical-align: middle;\n",
              "    }\n",
              "\n",
              "    .dataframe tbody tr th {\n",
              "        vertical-align: top;\n",
              "    }\n",
              "\n",
              "    .dataframe thead th {\n",
              "        text-align: right;\n",
              "    }\n",
              "</style>\n",
              "<table border=\"1\" class=\"dataframe\">\n",
              "  <thead>\n",
              "    <tr style=\"text-align: right;\">\n",
              "      <th></th>\n",
              "      <th>pickup_longitude</th>\n",
              "      <th>pickup_latitude</th>\n",
              "      <th>dropoff_longitude</th>\n",
              "      <th>dropoff_latitude</th>\n",
              "      <th>passenger_count</th>\n",
              "    </tr>\n",
              "  </thead>\n",
              "  <tbody>\n",
              "    <tr>\n",
              "      <th>count</th>\n",
              "      <td>9914.000000</td>\n",
              "      <td>9914.000000</td>\n",
              "      <td>9914.000000</td>\n",
              "      <td>9914.000000</td>\n",
              "      <td>9914.000000</td>\n",
              "    </tr>\n",
              "    <tr>\n",
              "      <th>mean</th>\n",
              "      <td>-73.976181</td>\n",
              "      <td>40.750954</td>\n",
              "      <td>-73.974945</td>\n",
              "      <td>40.751743</td>\n",
              "      <td>1.671273</td>\n",
              "    </tr>\n",
              "    <tr>\n",
              "      <th>std</th>\n",
              "      <td>0.042799</td>\n",
              "      <td>0.033542</td>\n",
              "      <td>0.039093</td>\n",
              "      <td>0.035435</td>\n",
              "      <td>1.278756</td>\n",
              "    </tr>\n",
              "    <tr>\n",
              "      <th>min</th>\n",
              "      <td>-74.252190</td>\n",
              "      <td>40.573143</td>\n",
              "      <td>-74.263245</td>\n",
              "      <td>40.568973</td>\n",
              "      <td>1.000000</td>\n",
              "    </tr>\n",
              "    <tr>\n",
              "      <th>25%</th>\n",
              "      <td>-73.992500</td>\n",
              "      <td>40.736125</td>\n",
              "      <td>-73.991249</td>\n",
              "      <td>40.735254</td>\n",
              "      <td>1.000000</td>\n",
              "    </tr>\n",
              "    <tr>\n",
              "      <th>50%</th>\n",
              "      <td>-73.982327</td>\n",
              "      <td>40.753052</td>\n",
              "      <td>-73.980015</td>\n",
              "      <td>40.754065</td>\n",
              "      <td>1.000000</td>\n",
              "    </tr>\n",
              "    <tr>\n",
              "      <th>75%</th>\n",
              "      <td>-73.968012</td>\n",
              "      <td>40.767113</td>\n",
              "      <td>-73.964062</td>\n",
              "      <td>40.768757</td>\n",
              "      <td>2.000000</td>\n",
              "    </tr>\n",
              "    <tr>\n",
              "      <th>max</th>\n",
              "      <td>-72.986534</td>\n",
              "      <td>41.709557</td>\n",
              "      <td>-72.990967</td>\n",
              "      <td>41.696683</td>\n",
              "      <td>6.000000</td>\n",
              "    </tr>\n",
              "  </tbody>\n",
              "</table>\n",
              "</div>\n",
              "      <button class=\"colab-df-convert\" onclick=\"convertToInteractive('df-b04c028a-4afa-44a2-b374-99fa7cc70760')\"\n",
              "              title=\"Convert this dataframe to an interactive table.\"\n",
              "              style=\"display:none;\">\n",
              "        \n",
              "  <svg xmlns=\"http://www.w3.org/2000/svg\" height=\"24px\"viewBox=\"0 0 24 24\"\n",
              "       width=\"24px\">\n",
              "    <path d=\"M0 0h24v24H0V0z\" fill=\"none\"/>\n",
              "    <path d=\"M18.56 5.44l.94 2.06.94-2.06 2.06-.94-2.06-.94-.94-2.06-.94 2.06-2.06.94zm-11 1L8.5 8.5l.94-2.06 2.06-.94-2.06-.94L8.5 2.5l-.94 2.06-2.06.94zm10 10l.94 2.06.94-2.06 2.06-.94-2.06-.94-.94-2.06-.94 2.06-2.06.94z\"/><path d=\"M17.41 7.96l-1.37-1.37c-.4-.4-.92-.59-1.43-.59-.52 0-1.04.2-1.43.59L10.3 9.45l-7.72 7.72c-.78.78-.78 2.05 0 2.83L4 21.41c.39.39.9.59 1.41.59.51 0 1.02-.2 1.41-.59l7.78-7.78 2.81-2.81c.8-.78.8-2.07 0-2.86zM5.41 20L4 18.59l7.72-7.72 1.47 1.35L5.41 20z\"/>\n",
              "  </svg>\n",
              "      </button>\n",
              "      \n",
              "  <style>\n",
              "    .colab-df-container {\n",
              "      display:flex;\n",
              "      flex-wrap:wrap;\n",
              "      gap: 12px;\n",
              "    }\n",
              "\n",
              "    .colab-df-convert {\n",
              "      background-color: #E8F0FE;\n",
              "      border: none;\n",
              "      border-radius: 50%;\n",
              "      cursor: pointer;\n",
              "      display: none;\n",
              "      fill: #1967D2;\n",
              "      height: 32px;\n",
              "      padding: 0 0 0 0;\n",
              "      width: 32px;\n",
              "    }\n",
              "\n",
              "    .colab-df-convert:hover {\n",
              "      background-color: #E2EBFA;\n",
              "      box-shadow: 0px 1px 2px rgba(60, 64, 67, 0.3), 0px 1px 3px 1px rgba(60, 64, 67, 0.15);\n",
              "      fill: #174EA6;\n",
              "    }\n",
              "\n",
              "    [theme=dark] .colab-df-convert {\n",
              "      background-color: #3B4455;\n",
              "      fill: #D2E3FC;\n",
              "    }\n",
              "\n",
              "    [theme=dark] .colab-df-convert:hover {\n",
              "      background-color: #434B5C;\n",
              "      box-shadow: 0px 1px 3px 1px rgba(0, 0, 0, 0.15);\n",
              "      filter: drop-shadow(0px 1px 2px rgba(0, 0, 0, 0.3));\n",
              "      fill: #FFFFFF;\n",
              "    }\n",
              "  </style>\n",
              "\n",
              "      <script>\n",
              "        const buttonEl =\n",
              "          document.querySelector('#df-b04c028a-4afa-44a2-b374-99fa7cc70760 button.colab-df-convert');\n",
              "        buttonEl.style.display =\n",
              "          google.colab.kernel.accessAllowed ? 'block' : 'none';\n",
              "\n",
              "        async function convertToInteractive(key) {\n",
              "          const element = document.querySelector('#df-b04c028a-4afa-44a2-b374-99fa7cc70760');\n",
              "          const dataTable =\n",
              "            await google.colab.kernel.invokeFunction('convertToInteractive',\n",
              "                                                     [key], {});\n",
              "          if (!dataTable) return;\n",
              "\n",
              "          const docLinkHtml = 'Like what you see? Visit the ' +\n",
              "            '<a target=\"_blank\" href=https://colab.research.google.com/notebooks/data_table.ipynb>data table notebook</a>'\n",
              "            + ' to learn more about interactive tables.';\n",
              "          element.innerHTML = '';\n",
              "          dataTable['output_type'] = 'display_data';\n",
              "          await google.colab.output.renderOutput(dataTable, element);\n",
              "          const docLink = document.createElement('div');\n",
              "          docLink.innerHTML = docLinkHtml;\n",
              "          element.appendChild(docLink);\n",
              "        }\n",
              "      </script>\n",
              "    </div>\n",
              "  </div>\n",
              "  "
            ],
            "text/plain": [
              "       pickup_longitude  pickup_latitude  ...  dropoff_latitude  passenger_count\n",
              "count       9914.000000      9914.000000  ...       9914.000000      9914.000000\n",
              "mean         -73.976181        40.750954  ...         40.751743         1.671273\n",
              "std            0.042799         0.033542  ...          0.035435         1.278756\n",
              "min          -74.252190        40.573143  ...         40.568973         1.000000\n",
              "25%          -73.992500        40.736125  ...         40.735254         1.000000\n",
              "50%          -73.982327        40.753052  ...         40.754065         1.000000\n",
              "75%          -73.968012        40.767113  ...         40.768757         2.000000\n",
              "max          -72.986534        41.709557  ...         41.696683         6.000000\n",
              "\n",
              "[8 rows x 5 columns]"
            ]
          },
          "metadata": {},
          "execution_count": 59
        }
      ]
    },
    {
      "cell_type": "code",
      "source": [
        "test_df.pickup_datetime.min(), test_df.pickup_datetime.max()"
      ],
      "metadata": {
        "colab": {
          "base_uri": "https://localhost:8080/"
        },
        "id": "dJ7mV30rjsa_",
        "outputId": "16a3b2af-9295-4115-bf47-ea40a3dd5e42"
      },
      "execution_count": 60,
      "outputs": [
        {
          "output_type": "execute_result",
          "data": {
            "text/plain": [
              "(Timestamp('2009-01-01 11:04:24+0000', tz='UTC'),\n",
              " Timestamp('2015-06-30 20:03:50+0000', tz='UTC'))"
            ]
          },
          "metadata": {},
          "execution_count": 60
        }
      ]
    },
    {
      "cell_type": "markdown",
      "source": [
        "Some observations about the test set:\n",
        "\n",
        "- 9914 rows of data\n",
        "- No missing values\n",
        "- No obvious data entry errors\n",
        "- 1 to 6 passengers (we can limit training data to this range)\n",
        "- Latitudes lie between 40 and 42\n",
        "- Longitudes lie between -75 and -72\n",
        "- Pickup dates range from Jan 1st 2009 to Jun  30th 2015 (same as training set)\n",
        "\n",
        "We can use the ranges of the test set to drop outliers/invalid data from the training set."
      ],
      "metadata": {
        "id": "iKW9rainj1fN"
      }
    },
    {
      "cell_type": "code",
      "source": [
        "jovian.commit()"
      ],
      "metadata": {
        "colab": {
          "base_uri": "https://localhost:8080/",
          "height": 107
        },
        "id": "T-SezuFyjwbo",
        "outputId": "97301669-e0ca-4d2f-8851-22ae602abf0c"
      },
      "execution_count": 61,
      "outputs": [
        {
          "output_type": "stream",
          "name": "stdout",
          "text": [
            "[jovian] Detected Colab notebook...\u001b[0m\n",
            "[jovian] Uploading colab notebook to Jovian...\u001b[0m\n",
            "Committed successfully! https://jovian.ai/programeralebrije/new-york-taxi-fare-predictions\n"
          ]
        },
        {
          "output_type": "execute_result",
          "data": {
            "application/vnd.google.colaboratory.intrinsic+json": {
              "type": "string"
            },
            "text/plain": [
              "'https://jovian.ai/programeralebrije/new-york-taxi-fare-predictions'"
            ]
          },
          "metadata": {},
          "execution_count": 61
        }
      ]
    },
    {
      "cell_type": "code",
      "source": [
        ""
      ],
      "metadata": {
        "id": "Ufn0q1jsj7qj"
      },
      "execution_count": null,
      "outputs": []
    }
  ],
  "metadata": {
    "colab": {
      "collapsed_sections": [],
      "name": "new-york-taxi-fare-predictions.ipynb",
      "provenance": [],
      "toc_visible": true,
      "include_colab_link": true
    },
    "kernelspec": {
      "display_name": "Python 3",
      "language": "python",
      "name": "python3"
    },
    "language_info": {
      "codemirror_mode": {
        "name": "ipython",
        "version": 3
      },
      "file_extension": ".py",
      "mimetype": "text/x-python",
      "name": "python",
      "nbconvert_exporter": "python",
      "pygments_lexer": "ipython3",
      "version": "3.7.6"
    }
  },
  "nbformat": 4,
  "nbformat_minor": 0
}