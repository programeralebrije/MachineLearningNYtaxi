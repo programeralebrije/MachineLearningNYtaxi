{
  "cells": [
    {
      "cell_type": "markdown",
      "metadata": {
        "id": "view-in-github",
        "colab_type": "text"
      },
      "source": [
        "<a href=\"https://colab.research.google.com/github/programeralebrije/MachineLearningNYtaxi/blob/main/new_york_taxi_fare_predictions.ipynb\" target=\"_parent\"><img src=\"https://colab.research.google.com/assets/colab-badge.svg\" alt=\"Open In Colab\"/></a>"
      ]
    },
    {
      "cell_type": "code",
      "execution_count": 3,
      "metadata": {
        "colab": {
          "base_uri": "https://localhost:8080/"
        },
        "id": "qbMIXGw-JN8x",
        "outputId": "1d0678ca-adc5-41a6-9130-bc6286213764"
      },
      "outputs": [
        {
          "output_type": "stream",
          "name": "stdout",
          "text": [
            "\u001b[?25l\r\u001b[K     |████▊                           | 10 kB 29.1 MB/s eta 0:00:01\r\u001b[K     |█████████▌                      | 20 kB 30.3 MB/s eta 0:00:01\r\u001b[K     |██████████████▎                 | 30 kB 19.7 MB/s eta 0:00:01\r\u001b[K     |███████████████████             | 40 kB 17.4 MB/s eta 0:00:01\r\u001b[K     |███████████████████████▉        | 51 kB 8.7 MB/s eta 0:00:01\r\u001b[K     |████████████████████████████▋   | 61 kB 10.1 MB/s eta 0:00:01\r\u001b[K     |████████████████████████████████| 68 kB 4.7 MB/s \n",
            "\u001b[?25h  Building wheel for uuid (setup.py) ... \u001b[?25l\u001b[?25hdone\n"
          ]
        }
      ],
      "source": [
        "# Jovian Commit Essentials\n",
        "# Please retain and execute this cell without modifying the contents for `jovian.commit` to work\n",
        "!pip install jovian --upgrade -q\n",
        "import jovian\n",
        "jovian.set_project('new-york-taxi-fare-predictions')\n",
        "jovian.set_colab_id('102pCN3oVvDHoazudeUcVW7bzSg5LR3Zp')"
      ]
    },
    {
      "cell_type": "markdown",
      "metadata": {
        "id": "1LoWBc78hlzd"
      },
      "source": [
        "# New York Taxi Fare Predictions "
      ]
    },
    {
      "cell_type": "code",
      "execution_count": 4,
      "metadata": {
        "id": "0MOnS4rkhlzf"
      },
      "outputs": [],
      "source": [
        "!pip install jovian --upgrade --quiet"
      ]
    },
    {
      "cell_type": "code",
      "execution_count": 5,
      "metadata": {
        "id": "W_0JM_rzhlzf"
      },
      "outputs": [],
      "source": [
        "import jovian"
      ]
    },
    {
      "cell_type": "code",
      "execution_count": 6,
      "metadata": {
        "colab": {
          "base_uri": "https://localhost:8080/",
          "height": 122
        },
        "id": "QAn-bbb0hlzg",
        "outputId": "5ef095a1-101a-463e-a287-2d764d1351b3"
      },
      "outputs": [
        {
          "output_type": "stream",
          "name": "stdout",
          "text": [
            "[jovian] Detected Colab notebook...\u001b[0m\n",
            "[jovian] Please enter your API key ( from https://jovian.ai/ ):\u001b[0m\n",
            "API KEY: ··········\n",
            "[jovian] Uploading colab notebook to Jovian...\u001b[0m\n",
            "Committed successfully! https://jovian.ai/larrazolovictoria/new-york-taxi-fare-predictions\n"
          ]
        },
        {
          "output_type": "execute_result",
          "data": {
            "application/vnd.google.colaboratory.intrinsic+json": {
              "type": "string"
            },
            "text/plain": [
              "'https://jovian.ai/larrazolovictoria/new-york-taxi-fare-predictions'"
            ]
          },
          "metadata": {},
          "execution_count": 6
        }
      ],
      "source": [
        "# Execute this to save new versions of the notebook\n",
        "jovian.commit(project=\"new-york-taxi-fare-predictions\")"
      ]
    },
    {
      "cell_type": "markdown",
      "metadata": {
        "id": "DX7BX0pHpW-p"
      },
      "source": [
        "### Outline of the project\n",
        "1. Downlaod the dataset\n",
        "2. Explore and analyze the dataset\n",
        "3. Prepare the dataset for ML training \n",
        "4. Train Hardcoded and baseline models \n",
        "5. Make predictions and submit to Kaggle\n",
        "6. Perform feature engeneering \n",
        "7. Train and evaluate different models \n",
        "8. Tune Hyperparameters for the best models \n",
        "9. Train on a GPU with the entire dataset \n",
        "10. Document and publish the project online "
      ]
    },
    {
      "cell_type": "markdown",
      "metadata": {
        "id": "yDKBbVYIrT4q"
      },
      "source": [
        "# 1. Downlad the dataset \n",
        "\n",
        "Steps:\n",
        "- Install required libraries\n",
        "- Download data from Kaggle\n",
        "- View dataset files \n",
        "- Load trianing set with Pandas\n",
        "- Load test set with Pandas"
      ]
    },
    {
      "cell_type": "markdown",
      "metadata": {
        "id": "Mo2-S56mDcHd"
      },
      "source": [
        "# Install required libraries"
      ]
    },
    {
      "cell_type": "code",
      "execution_count": 7,
      "metadata": {
        "id": "QXVkRQs9hlzg"
      },
      "outputs": [],
      "source": [
        "!pip install jovian opendatasets pandas numpy scikit-learn xgboost --quiet"
      ]
    },
    {
      "cell_type": "code",
      "execution_count": 8,
      "metadata": {
        "id": "hQgsIZxdDxqQ"
      },
      "outputs": [],
      "source": [
        "import jovian "
      ]
    },
    {
      "cell_type": "code",
      "execution_count": 9,
      "metadata": {
        "colab": {
          "base_uri": "https://localhost:8080/",
          "height": 87
        },
        "id": "6StOoK1aEGVF",
        "outputId": "4f45998d-d95a-4430-bf67-68c70847b298"
      },
      "outputs": [
        {
          "output_type": "stream",
          "name": "stdout",
          "text": [
            "[jovian] Detected Colab notebook...\u001b[0m\n",
            "[jovian] Uploading colab notebook to Jovian...\u001b[0m\n",
            "Committed successfully! https://jovian.ai/larrazolovictoria/new-york-taxi-fare-predictions\n"
          ]
        },
        {
          "output_type": "execute_result",
          "data": {
            "application/vnd.google.colaboratory.intrinsic+json": {
              "type": "string"
            },
            "text/plain": [
              "'https://jovian.ai/larrazolovictoria/new-york-taxi-fare-predictions'"
            ]
          },
          "metadata": {},
          "execution_count": 9
        }
      ],
      "source": [
        "jovian.commit()"
      ]
    },
    {
      "cell_type": "markdown",
      "metadata": {
        "id": "QXb9Tl8wEhyx"
      },
      "source": [
        "# Download data from Kaggle "
      ]
    },
    {
      "cell_type": "code",
      "execution_count": 10,
      "metadata": {
        "id": "ovsSy8PGEHpq"
      },
      "outputs": [],
      "source": [
        "import opendatasets as od"
      ]
    },
    {
      "cell_type": "code",
      "execution_count": 11,
      "metadata": {
        "id": "OyfJIx2dEuWG"
      },
      "outputs": [],
      "source": [
        "dataset_url = 'https://www.kaggle.com/c/new-york-city-taxi-fare-prediction'"
      ]
    },
    {
      "cell_type": "code",
      "execution_count": 12,
      "metadata": {
        "colab": {
          "base_uri": "https://localhost:8080/"
        },
        "id": "hfO-FoCXHwzI",
        "outputId": "1a30a21f-2f77-4ea1-8fbe-61a840113ca3"
      },
      "outputs": [
        {
          "metadata": {
            "tags": null
          },
          "name": "stdout",
          "output_type": "stream",
          "text": [
            "Please provide your Kaggle credentials to download this dataset. Learn more: http://bit.ly/kaggle-creds\n",
            "Your Kaggle username: Your Kaggle Key: Downloading new-york-city-taxi-fare-prediction.zip to ./new-york-city-taxi-fare-prediction\n"
          ]
        },
        {
          "metadata": {
            "tags": null
          },
          "name": "stderr",
          "output_type": "stream",
          "text": [
            "100%|██████████| 1.56G/1.56G [00:10<00:00, 161MB/s]\n"
          ]
        },
        {
          "metadata": {
            "tags": null
          },
          "name": "stdout",
          "output_type": "stream",
          "text": [
            "\n",
            "Extracting archive ./new-york-city-taxi-fare-prediction/new-york-city-taxi-fare-prediction.zip to ./new-york-city-taxi-fare-prediction\n"
          ]
        }
      ],
      "source": [
        "od.download(dataset_url)"
      ]
    },
    {
      "cell_type": "code",
      "execution_count": 13,
      "metadata": {
        "id": "NvW2FyYVH3Rz"
      },
      "outputs": [],
      "source": [
        "data_dir = './new-york-city-taxi-fare-prediction'"
      ]
    },
    {
      "cell_type": "markdown",
      "metadata": {
        "id": "mG_kAKYgmMN7"
      },
      "source": [
        "##View Dataset Files"
      ]
    },
    {
      "cell_type": "code",
      "execution_count": 14,
      "metadata": {
        "colab": {
          "base_uri": "https://localhost:8080/"
        },
        "id": "_gbX1qHFmw9R",
        "outputId": "12952bd6-d5c5-4745-cef9-4700cf2d75b7"
      },
      "outputs": [
        {
          "output_type": "stream",
          "name": "stdout",
          "text": [
            "total 5.4G\n",
            "-rw-r--r-- 1 root root  486 Jan 25 21:34 GCP-Coupons-Instructions.rtf\n",
            "-rw-r--r-- 1 root root 336K Jan 25 21:34 sample_submission.csv\n",
            "-rw-r--r-- 1 root root 960K Jan 25 21:34 test.csv\n",
            "-rw-r--r-- 1 root root 5.4G Jan 25 21:36 train.csv\n"
          ]
        }
      ],
      "source": [
        "# List of files with size\n",
        "!ls -lh {data_dir}"
      ]
    },
    {
      "cell_type": "code",
      "execution_count": 15,
      "metadata": {
        "colab": {
          "base_uri": "https://localhost:8080/"
        },
        "id": "mEK0CTAkohIv",
        "outputId": "9fdac4c2-90e2-4cfa-95d3-da3559d9d423"
      },
      "outputs": [
        {
          "output_type": "stream",
          "name": "stdout",
          "text": [
            "wc: invalid option -- '1'\n",
            "Try 'wc --help' for more information.\n"
          ]
        }
      ],
      "source": [
        "!wc -1 {data_dir}/train.csv"
      ]
    },
    {
      "cell_type": "code",
      "execution_count": 16,
      "metadata": {
        "colab": {
          "base_uri": "https://localhost:8080/"
        },
        "id": "_WbnFwvooJ8W",
        "outputId": "bbf5c330-2e77-4bf9-924d-06cbc4d0e9ff"
      },
      "outputs": [
        {
          "output_type": "stream",
          "name": "stdout",
          "text": [
            "key,fare_amount,pickup_datetime,pickup_longitude,pickup_latitude,dropoff_longitude,dropoff_latitude,passenger_count\r\n",
            "2009-06-15 17:26:21.0000001,4.5,2009-06-15 17:26:21 UTC,-73.844311,40.721319,-73.84161,40.712278,1\r\n",
            "2010-01-05 16:52:16.0000002,16.9,2010-01-05 16:52:16 UTC,-74.016048,40.711303,-73.979268,40.782004,1\r\n",
            "2011-08-18 00:35:00.00000049,5.7,2011-08-18 00:35:00 UTC,-73.982738,40.76127,-73.991242,40.750562,2\r\n",
            "2012-04-21 04:30:42.0000001,7.7,2012-04-21 04:30:42 UTC,-73.98713,40.733143,-73.991567,40.758092,1\r\n",
            "2010-03-09 07:51:00.000000135,5.3,2010-03-09 07:51:00 UTC,-73.968095,40.768008,-73.956655,40.783762,1\r\n",
            "2011-01-06 09:50:45.0000002,12.1,2011-01-06 09:50:45 UTC,-74.000964,40.73163,-73.972892,40.758233,1\r\n",
            "2012-11-20 20:35:00.0000001,7.5,2012-11-20 20:35:00 UTC,-73.980002,40.751662,-73.973802,40.764842,1\r\n",
            "2012-01-04 17:22:00.00000081,16.5,2012-01-04 17:22:00 UTC,-73.9513,40.774138,-73.990095,40.751048,1\r\n",
            "2012-12-03 13:10:00.000000125,9,2012-12-03 13:10:00 UTC,-74.006462,40.726713,-73.993078,40.731628,1\r\n"
          ]
        }
      ],
      "source": [
        "# Training set\n",
        "!head {data_dir}/train.csv"
      ]
    },
    {
      "cell_type": "code",
      "execution_count": 17,
      "metadata": {
        "colab": {
          "base_uri": "https://localhost:8080/"
        },
        "id": "hWeIfSzNoJya",
        "outputId": "e9f901c5-fa38-4055-ff9e-4723cf31c87e"
      },
      "outputs": [
        {
          "output_type": "stream",
          "name": "stdout",
          "text": [
            "key,pickup_datetime,pickup_longitude,pickup_latitude,dropoff_longitude,dropoff_latitude,passenger_count\r\n",
            "2015-01-27 13:08:24.0000002,2015-01-27 13:08:24 UTC,-73.973320007324219,40.7638053894043,-73.981430053710938,40.74383544921875,1\r\n",
            "2015-01-27 13:08:24.0000003,2015-01-27 13:08:24 UTC,-73.986862182617188,40.719383239746094,-73.998886108398438,40.739200592041016,1\r\n",
            "2011-10-08 11:53:44.0000002,2011-10-08 11:53:44 UTC,-73.982524,40.75126,-73.979654,40.746139,1\r\n",
            "2012-12-01 21:12:12.0000002,2012-12-01 21:12:12 UTC,-73.98116,40.767807,-73.990448,40.751635,1\r\n",
            "2012-12-01 21:12:12.0000003,2012-12-01 21:12:12 UTC,-73.966046,40.789775,-73.988565,40.744427,1\r\n",
            "2012-12-01 21:12:12.0000005,2012-12-01 21:12:12 UTC,-73.960983,40.765547,-73.979177,40.740053,1\r\n",
            "2011-10-06 12:10:20.0000001,2011-10-06 12:10:20 UTC,-73.949013,40.773204,-73.959622,40.770893,1\r\n",
            "2011-10-06 12:10:20.0000003,2011-10-06 12:10:20 UTC,-73.777282,40.646636,-73.985083,40.759368,1\r\n",
            "2011-10-06 12:10:20.0000002,2011-10-06 12:10:20 UTC,-74.014099,40.709638,-73.995106,40.741365,1\r\n"
          ]
        }
      ],
      "source": [
        "# Test set\n",
        "!head {data_dir}/test.csv"
      ]
    },
    {
      "cell_type": "markdown",
      "metadata": {
        "id": "qU9P2cixqHgz"
      },
      "source": [
        "Test Data Set is missing Fare amout, this set is not be use for predictions ."
      ]
    },
    {
      "cell_type": "code",
      "execution_count": 18,
      "metadata": {
        "colab": {
          "base_uri": "https://localhost:8080/"
        },
        "id": "6a2syTe_oJnd",
        "outputId": "f0bb6837-787b-4db0-a31c-082c94ae7f45"
      },
      "outputs": [
        {
          "output_type": "stream",
          "name": "stdout",
          "text": [
            "key,fare_amount\n",
            "2015-01-27 13:08:24.0000002,11.35\n",
            "2015-01-27 13:08:24.0000003,11.35\n",
            "2011-10-08 11:53:44.0000002,11.35\n",
            "2012-12-01 21:12:12.0000002,11.35\n",
            "2012-12-01 21:12:12.0000003,11.35\n",
            "2012-12-01 21:12:12.0000005,11.35\n",
            "2011-10-06 12:10:20.0000001,11.35\n",
            "2011-10-06 12:10:20.0000003,11.35\n",
            "2011-10-06 12:10:20.0000002,11.35\n"
          ]
        }
      ],
      "source": [
        "# Sample submission file\n",
        "!head {data_dir}/sample_submission.csv"
      ]
    },
    {
      "cell_type": "code",
      "execution_count": 19,
      "metadata": {
        "colab": {
          "base_uri": "https://localhost:8080/"
        },
        "id": "pflLVEHzpyeZ",
        "outputId": "185325a3-3978-44db-a04d-0d1ca893a14b"
      },
      "outputs": [
        {
          "output_type": "stream",
          "name": "stdout",
          "text": [
            "55423856 ./new-york-city-taxi-fare-prediction/train.csv\n"
          ]
        }
      ],
      "source": [
        "# No. of lines in training set\n",
        "!wc -l {data_dir}/train.csv"
      ]
    },
    {
      "cell_type": "code",
      "execution_count": 20,
      "metadata": {
        "colab": {
          "base_uri": "https://localhost:8080/"
        },
        "id": "9B2o5Cy9qYzt",
        "outputId": "e7a01e30-6245-4e1c-ab64-957a643c9f73"
      },
      "outputs": [
        {
          "output_type": "stream",
          "name": "stdout",
          "text": [
            "9914 ./new-york-city-taxi-fare-prediction/test.csv\n"
          ]
        }
      ],
      "source": [
        "# No. of lines in test set\n",
        "!wc -l {data_dir}/test.csv"
      ]
    },
    {
      "cell_type": "code",
      "execution_count": 21,
      "metadata": {
        "colab": {
          "base_uri": "https://localhost:8080/"
        },
        "id": "mY1F_dQZrMOF",
        "outputId": "fb5ae047-d226-4116-ec14-de97c7d16dc7"
      },
      "outputs": [
        {
          "output_type": "stream",
          "name": "stdout",
          "text": [
            "9915 ./new-york-city-taxi-fare-prediction/sample_submission.csv\n"
          ]
        }
      ],
      "source": [
        "# No. of lines in submission file\n",
        "!wc -l {data_dir}/sample_submission.csv"
      ]
    },
    {
      "cell_type": "markdown",
      "metadata": {
        "id": "sc2Eng0XvU01"
      },
      "source": [
        "**# No. of lines in training set**"
      ]
    },
    {
      "cell_type": "code",
      "execution_count": 22,
      "metadata": {
        "colab": {
          "base_uri": "https://localhost:8080/"
        },
        "id": "S-lW9xopvI8c",
        "outputId": "b3741397-c49a-4312-abc7-611e815fc656"
      },
      "outputs": [
        {
          "output_type": "stream",
          "name": "stdout",
          "text": [
            "55423856 ./new-york-city-taxi-fare-prediction/train.csv\n"
          ]
        }
      ],
      "source": [
        "!wc -l {data_dir}/train.csv"
      ]
    },
    {
      "cell_type": "markdown",
      "metadata": {
        "id": "16srMfBNvq6s"
      },
      "source": [
        "**# No. of lines in submission file**"
      ]
    },
    {
      "cell_type": "code",
      "execution_count": 23,
      "metadata": {
        "colab": {
          "base_uri": "https://localhost:8080/"
        },
        "id": "_RxddcalvgH1",
        "outputId": "28e463dc-7417-4429-afb5-81144e6735a5"
      },
      "outputs": [
        {
          "output_type": "stream",
          "name": "stdout",
          "text": [
            "9914 ./new-york-city-taxi-fare-prediction/test.csv\n"
          ]
        }
      ],
      "source": [
        "!wc -l {data_dir}/test.csv"
      ]
    },
    {
      "cell_type": "markdown",
      "metadata": {
        "id": "e7gQnzjjv5jk"
      },
      "source": [
        "**# No. of lines in test set**"
      ]
    },
    {
      "cell_type": "code",
      "execution_count": 24,
      "metadata": {
        "colab": {
          "base_uri": "https://localhost:8080/"
        },
        "id": "frxpipIWv1OL",
        "outputId": "ab663290-fb80-4909-c614-dfbab40ba490"
      },
      "outputs": [
        {
          "output_type": "stream",
          "name": "stdout",
          "text": [
            "9914 ./new-york-city-taxi-fare-prediction/test.csv\n"
          ]
        }
      ],
      "source": [
        "!wc -l {data_dir}/test.csv"
      ]
    },
    {
      "cell_type": "markdown",
      "metadata": {
        "id": "OqMuyTpzrXww"
      },
      "source": [
        "Observations:\n",
        "\n",
        "* This is a supervised learning \n",
        "regression problem\n",
        "* Training data is 5.5 GB in size\n",
        "* Training data has 5.5 million rows\n",
        "* Test set is much smaller (< 10,000 rows)\n",
        "* The training set has 8 columns:\n",
        "   * key (a unique identifier)\n",
        "   * fare_amount (target column)\n",
        "   * pickup_datetime\n",
        "   * pickup_longitude\n",
        "   * pickup_latitude\n",
        "   * dropoff_longitude\n",
        "   * dropoff_latitude\n",
        "   * passenger_count\n",
        "* The test set has all columns except the target column fare_amount.\n",
        "* The submission file should contain the key and fare_amount for each test sample."
      ]
    },
    {
      "cell_type": "code",
      "execution_count": 25,
      "metadata": {
        "colab": {
          "base_uri": "https://localhost:8080/",
          "height": 87
        },
        "id": "Leu5s5ROrWBD",
        "outputId": "c2fd783e-bee3-4baa-a6ba-f6a421d41192"
      },
      "outputs": [
        {
          "output_type": "stream",
          "name": "stdout",
          "text": [
            "[jovian] Detected Colab notebook...\u001b[0m\n",
            "[jovian] Uploading colab notebook to Jovian...\u001b[0m\n",
            "Committed successfully! https://jovian.ai/larrazolovictoria/new-york-taxi-fare-predictions\n"
          ]
        },
        {
          "output_type": "execute_result",
          "data": {
            "application/vnd.google.colaboratory.intrinsic+json": {
              "type": "string"
            },
            "text/plain": [
              "'https://jovian.ai/larrazolovictoria/new-york-taxi-fare-predictions'"
            ]
          },
          "metadata": {},
          "execution_count": 25
        }
      ],
      "source": [
        "jovian.commit()"
      ]
    },
    {
      "cell_type": "markdown",
      "metadata": {
        "id": "vqkardaS1ZCg"
      },
      "source": [
        "##  1.- Loading Training Set"
      ]
    },
    {
      "cell_type": "markdown",
      "metadata": {
        "id": "xKcokxxa1ITx"
      },
      "source": [
        "Loading the entire dataset into Pandas is going to be slow, so we can use the following optimizations:\n",
        "\n",
        " * Ignore the key column\n",
        " * Parse pickup datetime while loading data\n",
        " * Specify data types for other columns\n",
        "   * float32 for geo coordinates\n",
        "   * float32 for fare amount\n",
        "   * uint8 for passenger count\n",
        "* Work with a 1% sample of the data (~500k rows)\n",
        "We can apply these optimizations while using pd.read_csv"
      ]
    },
    {
      "cell_type": "code",
      "execution_count": 26,
      "metadata": {
        "id": "fx8_l8Y3rOaY"
      },
      "outputs": [],
      "source": [
        "import pandas as pd\n",
        "import random"
      ]
    },
    {
      "cell_type": "code",
      "execution_count": 27,
      "metadata": {
        "id": "DrPQheed1hKM"
      },
      "outputs": [],
      "source": [
        "sample_frac = 0.03"
      ]
    },
    {
      "cell_type": "code",
      "execution_count": 28,
      "metadata": {
        "id": "k2DjZous3C7k"
      },
      "outputs": [],
      "source": [
        "selected_cols = 'fare_amount,pickup_datetime,pickup_longitude,pickup_latitude,dropoff_longitude,dropoff_latitude,passenger_count'.split(',')\n",
        "dtypes = {\n",
        "    'fare_amount': 'float32',\n",
        "    'pickup_longitude': 'float32',\n",
        "    'pickup_latitude': 'float32',\n",
        "    'dropoff_longitude': 'float32',\n",
        "    'passenger_count': 'float32'\n",
        "}"
      ]
    },
    {
      "cell_type": "code",
      "execution_count": 29,
      "metadata": {
        "colab": {
          "base_uri": "https://localhost:8080/"
        },
        "id": "HH1qUSSL3Etj",
        "outputId": "fc57b513-a131-4ef7-ae7f-3fd5a5f82a9d"
      },
      "outputs": [
        {
          "output_type": "execute_result",
          "data": {
            "text/plain": [
              "['fare_amount',\n",
              " 'pickup_datetime',\n",
              " 'pickup_longitude',\n",
              " 'pickup_latitude',\n",
              " 'dropoff_longitude',\n",
              " 'dropoff_latitude',\n",
              " 'passenger_count']"
            ]
          },
          "metadata": {},
          "execution_count": 29
        }
      ],
      "source": [
        "selected_cols"
      ]
    },
    {
      "cell_type": "code",
      "execution_count": 30,
      "metadata": {
        "id": "u70P83dq35vL"
      },
      "outputs": [],
      "source": [
        "import random"
      ]
    },
    {
      "cell_type": "code",
      "execution_count": 31,
      "metadata": {
        "colab": {
          "base_uri": "https://localhost:8080/"
        },
        "id": "0aOhNVoW4DsM",
        "outputId": "f67165bf-a8ae-4d14-cd05-43cbcea5fd5c"
      },
      "outputs": [
        {
          "output_type": "execute_result",
          "data": {
            "text/plain": [
              "0.9590252677014304"
            ]
          },
          "metadata": {},
          "execution_count": 31
        }
      ],
      "source": [
        "random.random(\n",
        "    \n",
        ")"
      ]
    },
    {
      "cell_type": "code",
      "execution_count": 32,
      "metadata": {
        "id": "32QzZnL53JqJ"
      },
      "outputs": [],
      "source": [
        "\n",
        "dtypes = {\n",
        "    'fare_amount': 'float32',\n",
        "    'pickup_longitude': 'float32',\n",
        "    'pickup_latitude': 'float32',\n",
        "    'dropoff_longitude': 'float32',\n",
        "    'passenger_count': 'float32'\n",
        "}\n",
        "\n",
        "def skip_row(row_idx):\n",
        "    if row_idx == 0:\n",
        "        return False\n",
        "    return random.random() > sample_frac\n",
        "\n",
        "random.seed(42)\n",
        "df = pd.read_csv(data_dir+\"/train.csv\", \n",
        "                 usecols=selected_cols, \n",
        "                 dtype=dtypes, \n",
        "                 parse_dates=['pickup_datetime'], \n",
        "                 skiprows=skip_row)"
      ]
    },
    {
      "cell_type": "markdown",
      "metadata": {
        "id": "mwX54wuJACsj"
      },
      "source": [
        "CPU times: user 5min 19s, sys: 1.04 s, total: 5min 19s\n",
        "Wall time: 5min 19s"
      ]
    },
    {
      "cell_type": "code",
      "execution_count": 33,
      "metadata": {
        "colab": {
          "base_uri": "https://localhost:8080/",
          "height": 661
        },
        "id": "1wuIBm0tABTo",
        "outputId": "95eeb5ed-43ec-4bdd-d952-3bd0b061da1d"
      },
      "outputs": [
        {
          "output_type": "execute_result",
          "data": {
            "text/html": [
              "\n",
              "  <div id=\"df-ba2394ef-c515-4213-a68d-eb8049ba2f47\">\n",
              "    <div class=\"colab-df-container\">\n",
              "      <div>\n",
              "<style scoped>\n",
              "    .dataframe tbody tr th:only-of-type {\n",
              "        vertical-align: middle;\n",
              "    }\n",
              "\n",
              "    .dataframe tbody tr th {\n",
              "        vertical-align: top;\n",
              "    }\n",
              "\n",
              "    .dataframe thead th {\n",
              "        text-align: right;\n",
              "    }\n",
              "</style>\n",
              "<table border=\"1\" class=\"dataframe\">\n",
              "  <thead>\n",
              "    <tr style=\"text-align: right;\">\n",
              "      <th></th>\n",
              "      <th>fare_amount</th>\n",
              "      <th>pickup_datetime</th>\n",
              "      <th>pickup_longitude</th>\n",
              "      <th>pickup_latitude</th>\n",
              "      <th>dropoff_longitude</th>\n",
              "      <th>dropoff_latitude</th>\n",
              "      <th>passenger_count</th>\n",
              "    </tr>\n",
              "  </thead>\n",
              "  <tbody>\n",
              "    <tr>\n",
              "      <th>0</th>\n",
              "      <td>16.9</td>\n",
              "      <td>2010-01-05 16:52:16+00:00</td>\n",
              "      <td>-74.016045</td>\n",
              "      <td>40.711304</td>\n",
              "      <td>-73.979271</td>\n",
              "      <td>40.782004</td>\n",
              "      <td>1.0</td>\n",
              "    </tr>\n",
              "    <tr>\n",
              "      <th>1</th>\n",
              "      <td>8.9</td>\n",
              "      <td>2009-09-02 01:11:00+00:00</td>\n",
              "      <td>-73.980659</td>\n",
              "      <td>40.733871</td>\n",
              "      <td>-73.991539</td>\n",
              "      <td>40.758138</td>\n",
              "      <td>2.0</td>\n",
              "    </tr>\n",
              "    <tr>\n",
              "      <th>2</th>\n",
              "      <td>4.1</td>\n",
              "      <td>2009-11-06 01:04:03+00:00</td>\n",
              "      <td>-73.991600</td>\n",
              "      <td>40.744713</td>\n",
              "      <td>-73.983078</td>\n",
              "      <td>40.744682</td>\n",
              "      <td>2.0</td>\n",
              "    </tr>\n",
              "    <tr>\n",
              "      <th>3</th>\n",
              "      <td>4.0</td>\n",
              "      <td>2014-12-06 20:36:22+00:00</td>\n",
              "      <td>-73.979813</td>\n",
              "      <td>40.751904</td>\n",
              "      <td>-73.979446</td>\n",
              "      <td>40.755481</td>\n",
              "      <td>1.0</td>\n",
              "    </tr>\n",
              "    <tr>\n",
              "      <th>4</th>\n",
              "      <td>10.0</td>\n",
              "      <td>2014-11-12 12:40:29+00:00</td>\n",
              "      <td>-74.002579</td>\n",
              "      <td>40.739571</td>\n",
              "      <td>-73.994583</td>\n",
              "      <td>40.760682</td>\n",
              "      <td>1.0</td>\n",
              "    </tr>\n",
              "    <tr>\n",
              "      <th>...</th>\n",
              "      <td>...</td>\n",
              "      <td>...</td>\n",
              "      <td>...</td>\n",
              "      <td>...</td>\n",
              "      <td>...</td>\n",
              "      <td>...</td>\n",
              "      <td>...</td>\n",
              "    </tr>\n",
              "    <tr>\n",
              "      <th>1661726</th>\n",
              "      <td>14.5</td>\n",
              "      <td>2013-01-27 12:41:00+00:00</td>\n",
              "      <td>-74.012115</td>\n",
              "      <td>40.706635</td>\n",
              "      <td>-73.988724</td>\n",
              "      <td>40.756217</td>\n",
              "      <td>1.0</td>\n",
              "    </tr>\n",
              "    <tr>\n",
              "      <th>1661727</th>\n",
              "      <td>7.5</td>\n",
              "      <td>2013-03-02 03:13:05+00:00</td>\n",
              "      <td>-74.002953</td>\n",
              "      <td>40.728493</td>\n",
              "      <td>-73.985329</td>\n",
              "      <td>40.726105</td>\n",
              "      <td>1.0</td>\n",
              "    </tr>\n",
              "    <tr>\n",
              "      <th>1661728</th>\n",
              "      <td>6.0</td>\n",
              "      <td>2014-10-18 07:51:00+00:00</td>\n",
              "      <td>-73.997681</td>\n",
              "      <td>40.724380</td>\n",
              "      <td>-73.994148</td>\n",
              "      <td>40.717797</td>\n",
              "      <td>1.0</td>\n",
              "    </tr>\n",
              "    <tr>\n",
              "      <th>1661729</th>\n",
              "      <td>8.0</td>\n",
              "      <td>2013-12-21 14:03:00+00:00</td>\n",
              "      <td>-73.976486</td>\n",
              "      <td>40.765919</td>\n",
              "      <td>-73.991524</td>\n",
              "      <td>40.759857</td>\n",
              "      <td>6.0</td>\n",
              "    </tr>\n",
              "    <tr>\n",
              "      <th>1661730</th>\n",
              "      <td>10.5</td>\n",
              "      <td>2010-08-10 11:19:42+00:00</td>\n",
              "      <td>-73.974640</td>\n",
              "      <td>40.787758</td>\n",
              "      <td>-74.001518</td>\n",
              "      <td>40.762081</td>\n",
              "      <td>1.0</td>\n",
              "    </tr>\n",
              "  </tbody>\n",
              "</table>\n",
              "<p>1661731 rows × 7 columns</p>\n",
              "</div>\n",
              "      <button class=\"colab-df-convert\" onclick=\"convertToInteractive('df-ba2394ef-c515-4213-a68d-eb8049ba2f47')\"\n",
              "              title=\"Convert this dataframe to an interactive table.\"\n",
              "              style=\"display:none;\">\n",
              "        \n",
              "  <svg xmlns=\"http://www.w3.org/2000/svg\" height=\"24px\"viewBox=\"0 0 24 24\"\n",
              "       width=\"24px\">\n",
              "    <path d=\"M0 0h24v24H0V0z\" fill=\"none\"/>\n",
              "    <path d=\"M18.56 5.44l.94 2.06.94-2.06 2.06-.94-2.06-.94-.94-2.06-.94 2.06-2.06.94zm-11 1L8.5 8.5l.94-2.06 2.06-.94-2.06-.94L8.5 2.5l-.94 2.06-2.06.94zm10 10l.94 2.06.94-2.06 2.06-.94-2.06-.94-.94-2.06-.94 2.06-2.06.94z\"/><path d=\"M17.41 7.96l-1.37-1.37c-.4-.4-.92-.59-1.43-.59-.52 0-1.04.2-1.43.59L10.3 9.45l-7.72 7.72c-.78.78-.78 2.05 0 2.83L4 21.41c.39.39.9.59 1.41.59.51 0 1.02-.2 1.41-.59l7.78-7.78 2.81-2.81c.8-.78.8-2.07 0-2.86zM5.41 20L4 18.59l7.72-7.72 1.47 1.35L5.41 20z\"/>\n",
              "  </svg>\n",
              "      </button>\n",
              "      \n",
              "  <style>\n",
              "    .colab-df-container {\n",
              "      display:flex;\n",
              "      flex-wrap:wrap;\n",
              "      gap: 12px;\n",
              "    }\n",
              "\n",
              "    .colab-df-convert {\n",
              "      background-color: #E8F0FE;\n",
              "      border: none;\n",
              "      border-radius: 50%;\n",
              "      cursor: pointer;\n",
              "      display: none;\n",
              "      fill: #1967D2;\n",
              "      height: 32px;\n",
              "      padding: 0 0 0 0;\n",
              "      width: 32px;\n",
              "    }\n",
              "\n",
              "    .colab-df-convert:hover {\n",
              "      background-color: #E2EBFA;\n",
              "      box-shadow: 0px 1px 2px rgba(60, 64, 67, 0.3), 0px 1px 3px 1px rgba(60, 64, 67, 0.15);\n",
              "      fill: #174EA6;\n",
              "    }\n",
              "\n",
              "    [theme=dark] .colab-df-convert {\n",
              "      background-color: #3B4455;\n",
              "      fill: #D2E3FC;\n",
              "    }\n",
              "\n",
              "    [theme=dark] .colab-df-convert:hover {\n",
              "      background-color: #434B5C;\n",
              "      box-shadow: 0px 1px 3px 1px rgba(0, 0, 0, 0.15);\n",
              "      filter: drop-shadow(0px 1px 2px rgba(0, 0, 0, 0.3));\n",
              "      fill: #FFFFFF;\n",
              "    }\n",
              "  </style>\n",
              "\n",
              "      <script>\n",
              "        const buttonEl =\n",
              "          document.querySelector('#df-ba2394ef-c515-4213-a68d-eb8049ba2f47 button.colab-df-convert');\n",
              "        buttonEl.style.display =\n",
              "          google.colab.kernel.accessAllowed ? 'block' : 'none';\n",
              "\n",
              "        async function convertToInteractive(key) {\n",
              "          const element = document.querySelector('#df-ba2394ef-c515-4213-a68d-eb8049ba2f47');\n",
              "          const dataTable =\n",
              "            await google.colab.kernel.invokeFunction('convertToInteractive',\n",
              "                                                     [key], {});\n",
              "          if (!dataTable) return;\n",
              "\n",
              "          const docLinkHtml = 'Like what you see? Visit the ' +\n",
              "            '<a target=\"_blank\" href=https://colab.research.google.com/notebooks/data_table.ipynb>data table notebook</a>'\n",
              "            + ' to learn more about interactive tables.';\n",
              "          element.innerHTML = '';\n",
              "          dataTable['output_type'] = 'display_data';\n",
              "          await google.colab.output.renderOutput(dataTable, element);\n",
              "          const docLink = document.createElement('div');\n",
              "          docLink.innerHTML = docLinkHtml;\n",
              "          element.appendChild(docLink);\n",
              "        }\n",
              "      </script>\n",
              "    </div>\n",
              "  </div>\n",
              "  "
            ],
            "text/plain": [
              "         fare_amount  ... passenger_count\n",
              "0               16.9  ...             1.0\n",
              "1                8.9  ...             2.0\n",
              "2                4.1  ...             2.0\n",
              "3                4.0  ...             1.0\n",
              "4               10.0  ...             1.0\n",
              "...              ...  ...             ...\n",
              "1661726         14.5  ...             1.0\n",
              "1661727          7.5  ...             1.0\n",
              "1661728          6.0  ...             1.0\n",
              "1661729          8.0  ...             6.0\n",
              "1661730         10.5  ...             1.0\n",
              "\n",
              "[1661731 rows x 7 columns]"
            ]
          },
          "metadata": {},
          "execution_count": 33
        }
      ],
      "source": [
        "df"
      ]
    },
    {
      "cell_type": "code",
      "execution_count": 34,
      "metadata": {
        "id": "eU-T66VP3t20"
      },
      "outputs": [],
      "source": [
        "test_df = pd.read_csv(data_dir+'/test.csv', dtype=dtypes, parse_dates=['pickup_datetime'])"
      ]
    },
    {
      "cell_type": "code",
      "execution_count": 35,
      "metadata": {
        "colab": {
          "base_uri": "https://localhost:8080/",
          "height": 661
        },
        "id": "n0RKCr6mAhtJ",
        "outputId": "fa49dbb2-6bd5-4a6e-a718-c51c35e76c75"
      },
      "outputs": [
        {
          "output_type": "execute_result",
          "data": {
            "text/html": [
              "\n",
              "  <div id=\"df-332621e5-b016-4b73-9ca8-e75d94d54e04\">\n",
              "    <div class=\"colab-df-container\">\n",
              "      <div>\n",
              "<style scoped>\n",
              "    .dataframe tbody tr th:only-of-type {\n",
              "        vertical-align: middle;\n",
              "    }\n",
              "\n",
              "    .dataframe tbody tr th {\n",
              "        vertical-align: top;\n",
              "    }\n",
              "\n",
              "    .dataframe thead th {\n",
              "        text-align: right;\n",
              "    }\n",
              "</style>\n",
              "<table border=\"1\" class=\"dataframe\">\n",
              "  <thead>\n",
              "    <tr style=\"text-align: right;\">\n",
              "      <th></th>\n",
              "      <th>key</th>\n",
              "      <th>pickup_datetime</th>\n",
              "      <th>pickup_longitude</th>\n",
              "      <th>pickup_latitude</th>\n",
              "      <th>dropoff_longitude</th>\n",
              "      <th>dropoff_latitude</th>\n",
              "      <th>passenger_count</th>\n",
              "    </tr>\n",
              "  </thead>\n",
              "  <tbody>\n",
              "    <tr>\n",
              "      <th>0</th>\n",
              "      <td>2015-01-27 13:08:24.0000002</td>\n",
              "      <td>2015-01-27 13:08:24+00:00</td>\n",
              "      <td>-73.973320</td>\n",
              "      <td>40.763805</td>\n",
              "      <td>-73.981430</td>\n",
              "      <td>40.743835</td>\n",
              "      <td>1.0</td>\n",
              "    </tr>\n",
              "    <tr>\n",
              "      <th>1</th>\n",
              "      <td>2015-01-27 13:08:24.0000003</td>\n",
              "      <td>2015-01-27 13:08:24+00:00</td>\n",
              "      <td>-73.986862</td>\n",
              "      <td>40.719383</td>\n",
              "      <td>-73.998886</td>\n",
              "      <td>40.739201</td>\n",
              "      <td>1.0</td>\n",
              "    </tr>\n",
              "    <tr>\n",
              "      <th>2</th>\n",
              "      <td>2011-10-08 11:53:44.0000002</td>\n",
              "      <td>2011-10-08 11:53:44+00:00</td>\n",
              "      <td>-73.982521</td>\n",
              "      <td>40.751259</td>\n",
              "      <td>-73.979652</td>\n",
              "      <td>40.746139</td>\n",
              "      <td>1.0</td>\n",
              "    </tr>\n",
              "    <tr>\n",
              "      <th>3</th>\n",
              "      <td>2012-12-01 21:12:12.0000002</td>\n",
              "      <td>2012-12-01 21:12:12+00:00</td>\n",
              "      <td>-73.981163</td>\n",
              "      <td>40.767807</td>\n",
              "      <td>-73.990448</td>\n",
              "      <td>40.751635</td>\n",
              "      <td>1.0</td>\n",
              "    </tr>\n",
              "    <tr>\n",
              "      <th>4</th>\n",
              "      <td>2012-12-01 21:12:12.0000003</td>\n",
              "      <td>2012-12-01 21:12:12+00:00</td>\n",
              "      <td>-73.966049</td>\n",
              "      <td>40.789776</td>\n",
              "      <td>-73.988564</td>\n",
              "      <td>40.744427</td>\n",
              "      <td>1.0</td>\n",
              "    </tr>\n",
              "    <tr>\n",
              "      <th>...</th>\n",
              "      <td>...</td>\n",
              "      <td>...</td>\n",
              "      <td>...</td>\n",
              "      <td>...</td>\n",
              "      <td>...</td>\n",
              "      <td>...</td>\n",
              "      <td>...</td>\n",
              "    </tr>\n",
              "    <tr>\n",
              "      <th>9909</th>\n",
              "      <td>2015-05-10 12:37:51.0000002</td>\n",
              "      <td>2015-05-10 12:37:51+00:00</td>\n",
              "      <td>-73.968124</td>\n",
              "      <td>40.796997</td>\n",
              "      <td>-73.955643</td>\n",
              "      <td>40.780388</td>\n",
              "      <td>6.0</td>\n",
              "    </tr>\n",
              "    <tr>\n",
              "      <th>9910</th>\n",
              "      <td>2015-01-12 17:05:51.0000001</td>\n",
              "      <td>2015-01-12 17:05:51+00:00</td>\n",
              "      <td>-73.945511</td>\n",
              "      <td>40.803600</td>\n",
              "      <td>-73.960213</td>\n",
              "      <td>40.776371</td>\n",
              "      <td>6.0</td>\n",
              "    </tr>\n",
              "    <tr>\n",
              "      <th>9911</th>\n",
              "      <td>2015-04-19 20:44:15.0000001</td>\n",
              "      <td>2015-04-19 20:44:15+00:00</td>\n",
              "      <td>-73.991600</td>\n",
              "      <td>40.726608</td>\n",
              "      <td>-73.789742</td>\n",
              "      <td>40.647011</td>\n",
              "      <td>6.0</td>\n",
              "    </tr>\n",
              "    <tr>\n",
              "      <th>9912</th>\n",
              "      <td>2015-01-31 01:05:19.0000005</td>\n",
              "      <td>2015-01-31 01:05:19+00:00</td>\n",
              "      <td>-73.985573</td>\n",
              "      <td>40.735432</td>\n",
              "      <td>-73.939178</td>\n",
              "      <td>40.801731</td>\n",
              "      <td>6.0</td>\n",
              "    </tr>\n",
              "    <tr>\n",
              "      <th>9913</th>\n",
              "      <td>2015-01-18 14:06:23.0000006</td>\n",
              "      <td>2015-01-18 14:06:23+00:00</td>\n",
              "      <td>-73.988022</td>\n",
              "      <td>40.754070</td>\n",
              "      <td>-74.000282</td>\n",
              "      <td>40.759220</td>\n",
              "      <td>6.0</td>\n",
              "    </tr>\n",
              "  </tbody>\n",
              "</table>\n",
              "<p>9914 rows × 7 columns</p>\n",
              "</div>\n",
              "      <button class=\"colab-df-convert\" onclick=\"convertToInteractive('df-332621e5-b016-4b73-9ca8-e75d94d54e04')\"\n",
              "              title=\"Convert this dataframe to an interactive table.\"\n",
              "              style=\"display:none;\">\n",
              "        \n",
              "  <svg xmlns=\"http://www.w3.org/2000/svg\" height=\"24px\"viewBox=\"0 0 24 24\"\n",
              "       width=\"24px\">\n",
              "    <path d=\"M0 0h24v24H0V0z\" fill=\"none\"/>\n",
              "    <path d=\"M18.56 5.44l.94 2.06.94-2.06 2.06-.94-2.06-.94-.94-2.06-.94 2.06-2.06.94zm-11 1L8.5 8.5l.94-2.06 2.06-.94-2.06-.94L8.5 2.5l-.94 2.06-2.06.94zm10 10l.94 2.06.94-2.06 2.06-.94-2.06-.94-.94-2.06-.94 2.06-2.06.94z\"/><path d=\"M17.41 7.96l-1.37-1.37c-.4-.4-.92-.59-1.43-.59-.52 0-1.04.2-1.43.59L10.3 9.45l-7.72 7.72c-.78.78-.78 2.05 0 2.83L4 21.41c.39.39.9.59 1.41.59.51 0 1.02-.2 1.41-.59l7.78-7.78 2.81-2.81c.8-.78.8-2.07 0-2.86zM5.41 20L4 18.59l7.72-7.72 1.47 1.35L5.41 20z\"/>\n",
              "  </svg>\n",
              "      </button>\n",
              "      \n",
              "  <style>\n",
              "    .colab-df-container {\n",
              "      display:flex;\n",
              "      flex-wrap:wrap;\n",
              "      gap: 12px;\n",
              "    }\n",
              "\n",
              "    .colab-df-convert {\n",
              "      background-color: #E8F0FE;\n",
              "      border: none;\n",
              "      border-radius: 50%;\n",
              "      cursor: pointer;\n",
              "      display: none;\n",
              "      fill: #1967D2;\n",
              "      height: 32px;\n",
              "      padding: 0 0 0 0;\n",
              "      width: 32px;\n",
              "    }\n",
              "\n",
              "    .colab-df-convert:hover {\n",
              "      background-color: #E2EBFA;\n",
              "      box-shadow: 0px 1px 2px rgba(60, 64, 67, 0.3), 0px 1px 3px 1px rgba(60, 64, 67, 0.15);\n",
              "      fill: #174EA6;\n",
              "    }\n",
              "\n",
              "    [theme=dark] .colab-df-convert {\n",
              "      background-color: #3B4455;\n",
              "      fill: #D2E3FC;\n",
              "    }\n",
              "\n",
              "    [theme=dark] .colab-df-convert:hover {\n",
              "      background-color: #434B5C;\n",
              "      box-shadow: 0px 1px 3px 1px rgba(0, 0, 0, 0.15);\n",
              "      filter: drop-shadow(0px 1px 2px rgba(0, 0, 0, 0.3));\n",
              "      fill: #FFFFFF;\n",
              "    }\n",
              "  </style>\n",
              "\n",
              "      <script>\n",
              "        const buttonEl =\n",
              "          document.querySelector('#df-332621e5-b016-4b73-9ca8-e75d94d54e04 button.colab-df-convert');\n",
              "        buttonEl.style.display =\n",
              "          google.colab.kernel.accessAllowed ? 'block' : 'none';\n",
              "\n",
              "        async function convertToInteractive(key) {\n",
              "          const element = document.querySelector('#df-332621e5-b016-4b73-9ca8-e75d94d54e04');\n",
              "          const dataTable =\n",
              "            await google.colab.kernel.invokeFunction('convertToInteractive',\n",
              "                                                     [key], {});\n",
              "          if (!dataTable) return;\n",
              "\n",
              "          const docLinkHtml = 'Like what you see? Visit the ' +\n",
              "            '<a target=\"_blank\" href=https://colab.research.google.com/notebooks/data_table.ipynb>data table notebook</a>'\n",
              "            + ' to learn more about interactive tables.';\n",
              "          element.innerHTML = '';\n",
              "          dataTable['output_type'] = 'display_data';\n",
              "          await google.colab.output.renderOutput(dataTable, element);\n",
              "          const docLink = document.createElement('div');\n",
              "          docLink.innerHTML = docLinkHtml;\n",
              "          element.appendChild(docLink);\n",
              "        }\n",
              "      </script>\n",
              "    </div>\n",
              "  </div>\n",
              "  "
            ],
            "text/plain": [
              "                              key  ... passenger_count\n",
              "0     2015-01-27 13:08:24.0000002  ...             1.0\n",
              "1     2015-01-27 13:08:24.0000003  ...             1.0\n",
              "2     2011-10-08 11:53:44.0000002  ...             1.0\n",
              "3     2012-12-01 21:12:12.0000002  ...             1.0\n",
              "4     2012-12-01 21:12:12.0000003  ...             1.0\n",
              "...                           ...  ...             ...\n",
              "9909  2015-05-10 12:37:51.0000002  ...             6.0\n",
              "9910  2015-01-12 17:05:51.0000001  ...             6.0\n",
              "9911  2015-04-19 20:44:15.0000001  ...             6.0\n",
              "9912  2015-01-31 01:05:19.0000005  ...             6.0\n",
              "9913  2015-01-18 14:06:23.0000006  ...             6.0\n",
              "\n",
              "[9914 rows x 7 columns]"
            ]
          },
          "metadata": {},
          "execution_count": 35
        }
      ],
      "source": [
        "test_df"
      ]
    },
    {
      "cell_type": "code",
      "execution_count": 36,
      "metadata": {
        "colab": {
          "base_uri": "https://localhost:8080/",
          "height": 87
        },
        "id": "snNy1mgCAjoW",
        "outputId": "8eeac5eb-f83f-46ac-fc48-6f93475a3f96"
      },
      "outputs": [
        {
          "output_type": "stream",
          "name": "stdout",
          "text": [
            "[jovian] Detected Colab notebook...\u001b[0m\n",
            "[jovian] Uploading colab notebook to Jovian...\u001b[0m\n",
            "Committed successfully! https://jovian.ai/larrazolovictoria/new-york-taxi-fare-predictions\n"
          ]
        },
        {
          "output_type": "execute_result",
          "data": {
            "application/vnd.google.colaboratory.intrinsic+json": {
              "type": "string"
            },
            "text/plain": [
              "'https://jovian.ai/larrazolovictoria/new-york-taxi-fare-predictions'"
            ]
          },
          "metadata": {},
          "execution_count": 36
        }
      ],
      "source": [
        "jovian.commit()"
      ]
    },
    {
      "cell_type": "markdown",
      "metadata": {
        "id": "5X_qi2p0A9nO"
      },
      "source": [
        "## 2.- Explore the Dataset"
      ]
    },
    {
      "cell_type": "markdown",
      "metadata": {
        "id": "kp87hqyHFI7_"
      },
      "source": [
        "* Basic info about training set\n",
        "* Basic info about test set\n",
        "* Exploratory data analysis & visualization\n",
        "* Ask & answer questions"
      ]
    },
    {
      "cell_type": "markdown",
      "metadata": {
        "id": "9xPJkvpIFZD3"
      },
      "source": [
        "## Training Set\n"
      ]
    },
    {
      "cell_type": "code",
      "execution_count": 37,
      "metadata": {
        "colab": {
          "base_uri": "https://localhost:8080/"
        },
        "id": "RJwdULbwApyQ",
        "outputId": "69846786-0e2b-4e28-a0af-1d143b0d7762"
      },
      "outputs": [
        {
          "output_type": "stream",
          "name": "stdout",
          "text": [
            "<class 'pandas.core.frame.DataFrame'>\n",
            "RangeIndex: 1661731 entries, 0 to 1661730\n",
            "Data columns (total 7 columns):\n",
            " #   Column             Non-Null Count    Dtype              \n",
            "---  ------             --------------    -----              \n",
            " 0   fare_amount        1661731 non-null  float32            \n",
            " 1   pickup_datetime    1661731 non-null  datetime64[ns, UTC]\n",
            " 2   pickup_longitude   1661731 non-null  float32            \n",
            " 3   pickup_latitude    1661731 non-null  float32            \n",
            " 4   dropoff_longitude  1661717 non-null  float32            \n",
            " 5   dropoff_latitude   1661717 non-null  float64            \n",
            " 6   passenger_count    1661731 non-null  float32            \n",
            "dtypes: datetime64[ns, UTC](1), float32(5), float64(1)\n",
            "memory usage: 57.1 MB\n"
          ]
        }
      ],
      "source": [
        "df.info()"
      ]
    },
    {
      "cell_type": "code",
      "execution_count": 38,
      "metadata": {
        "colab": {
          "base_uri": "https://localhost:8080/",
          "height": 300
        },
        "id": "81T9kxjWFedF",
        "outputId": "bf22cdf5-e129-48eb-fe9d-de21b8d6ce69"
      },
      "outputs": [
        {
          "output_type": "execute_result",
          "data": {
            "text/html": [
              "\n",
              "  <div id=\"df-009d720d-558c-491e-a697-e14633ea631f\">\n",
              "    <div class=\"colab-df-container\">\n",
              "      <div>\n",
              "<style scoped>\n",
              "    .dataframe tbody tr th:only-of-type {\n",
              "        vertical-align: middle;\n",
              "    }\n",
              "\n",
              "    .dataframe tbody tr th {\n",
              "        vertical-align: top;\n",
              "    }\n",
              "\n",
              "    .dataframe thead th {\n",
              "        text-align: right;\n",
              "    }\n",
              "</style>\n",
              "<table border=\"1\" class=\"dataframe\">\n",
              "  <thead>\n",
              "    <tr style=\"text-align: right;\">\n",
              "      <th></th>\n",
              "      <th>fare_amount</th>\n",
              "      <th>pickup_longitude</th>\n",
              "      <th>pickup_latitude</th>\n",
              "      <th>dropoff_longitude</th>\n",
              "      <th>dropoff_latitude</th>\n",
              "      <th>passenger_count</th>\n",
              "    </tr>\n",
              "  </thead>\n",
              "  <tbody>\n",
              "    <tr>\n",
              "      <th>count</th>\n",
              "      <td>1.661731e+06</td>\n",
              "      <td>1.661731e+06</td>\n",
              "      <td>1.661731e+06</td>\n",
              "      <td>1.661717e+06</td>\n",
              "      <td>1.661717e+06</td>\n",
              "      <td>1.661731e+06</td>\n",
              "    </tr>\n",
              "    <tr>\n",
              "      <th>mean</th>\n",
              "      <td>1.134016e+01</td>\n",
              "      <td>-7.126932e+01</td>\n",
              "      <td>3.940133e+01</td>\n",
              "      <td>-7.126912e+01</td>\n",
              "      <td>3.991955e+01</td>\n",
              "      <td>1.685489e+00</td>\n",
              "    </tr>\n",
              "    <tr>\n",
              "      <th>std</th>\n",
              "      <td>9.830639e+00</td>\n",
              "      <td>1.274979e+01</td>\n",
              "      <td>1.048062e+01</td>\n",
              "      <td>1.297621e+01</td>\n",
              "      <td>1.029647e+01</td>\n",
              "      <td>1.334168e+00</td>\n",
              "    </tr>\n",
              "    <tr>\n",
              "      <th>min</th>\n",
              "      <td>-3.000000e+02</td>\n",
              "      <td>-3.439245e+03</td>\n",
              "      <td>-3.474112e+03</td>\n",
              "      <td>-3.367929e+03</td>\n",
              "      <td>-3.474112e+03</td>\n",
              "      <td>0.000000e+00</td>\n",
              "    </tr>\n",
              "    <tr>\n",
              "      <th>25%</th>\n",
              "      <td>6.000000e+00</td>\n",
              "      <td>-7.399203e+01</td>\n",
              "      <td>4.073491e+01</td>\n",
              "      <td>-7.399140e+01</td>\n",
              "      <td>4.073399e+01</td>\n",
              "      <td>1.000000e+00</td>\n",
              "    </tr>\n",
              "    <tr>\n",
              "      <th>50%</th>\n",
              "      <td>8.500000e+00</td>\n",
              "      <td>-7.398180e+01</td>\n",
              "      <td>4.075266e+01</td>\n",
              "      <td>-7.398017e+01</td>\n",
              "      <td>4.075313e+01</td>\n",
              "      <td>1.000000e+00</td>\n",
              "    </tr>\n",
              "    <tr>\n",
              "      <th>75%</th>\n",
              "      <td>1.250000e+01</td>\n",
              "      <td>-7.396710e+01</td>\n",
              "      <td>4.076711e+01</td>\n",
              "      <td>-7.396368e+01</td>\n",
              "      <td>4.076806e+01</td>\n",
              "      <td>2.000000e+00</td>\n",
              "    </tr>\n",
              "    <tr>\n",
              "      <th>max</th>\n",
              "      <td>1.097480e+03</td>\n",
              "      <td>3.442185e+03</td>\n",
              "      <td>3.347260e+03</td>\n",
              "      <td>3.442185e+03</td>\n",
              "      <td>3.351403e+03</td>\n",
              "      <td>2.080000e+02</td>\n",
              "    </tr>\n",
              "  </tbody>\n",
              "</table>\n",
              "</div>\n",
              "      <button class=\"colab-df-convert\" onclick=\"convertToInteractive('df-009d720d-558c-491e-a697-e14633ea631f')\"\n",
              "              title=\"Convert this dataframe to an interactive table.\"\n",
              "              style=\"display:none;\">\n",
              "        \n",
              "  <svg xmlns=\"http://www.w3.org/2000/svg\" height=\"24px\"viewBox=\"0 0 24 24\"\n",
              "       width=\"24px\">\n",
              "    <path d=\"M0 0h24v24H0V0z\" fill=\"none\"/>\n",
              "    <path d=\"M18.56 5.44l.94 2.06.94-2.06 2.06-.94-2.06-.94-.94-2.06-.94 2.06-2.06.94zm-11 1L8.5 8.5l.94-2.06 2.06-.94-2.06-.94L8.5 2.5l-.94 2.06-2.06.94zm10 10l.94 2.06.94-2.06 2.06-.94-2.06-.94-.94-2.06-.94 2.06-2.06.94z\"/><path d=\"M17.41 7.96l-1.37-1.37c-.4-.4-.92-.59-1.43-.59-.52 0-1.04.2-1.43.59L10.3 9.45l-7.72 7.72c-.78.78-.78 2.05 0 2.83L4 21.41c.39.39.9.59 1.41.59.51 0 1.02-.2 1.41-.59l7.78-7.78 2.81-2.81c.8-.78.8-2.07 0-2.86zM5.41 20L4 18.59l7.72-7.72 1.47 1.35L5.41 20z\"/>\n",
              "  </svg>\n",
              "      </button>\n",
              "      \n",
              "  <style>\n",
              "    .colab-df-container {\n",
              "      display:flex;\n",
              "      flex-wrap:wrap;\n",
              "      gap: 12px;\n",
              "    }\n",
              "\n",
              "    .colab-df-convert {\n",
              "      background-color: #E8F0FE;\n",
              "      border: none;\n",
              "      border-radius: 50%;\n",
              "      cursor: pointer;\n",
              "      display: none;\n",
              "      fill: #1967D2;\n",
              "      height: 32px;\n",
              "      padding: 0 0 0 0;\n",
              "      width: 32px;\n",
              "    }\n",
              "\n",
              "    .colab-df-convert:hover {\n",
              "      background-color: #E2EBFA;\n",
              "      box-shadow: 0px 1px 2px rgba(60, 64, 67, 0.3), 0px 1px 3px 1px rgba(60, 64, 67, 0.15);\n",
              "      fill: #174EA6;\n",
              "    }\n",
              "\n",
              "    [theme=dark] .colab-df-convert {\n",
              "      background-color: #3B4455;\n",
              "      fill: #D2E3FC;\n",
              "    }\n",
              "\n",
              "    [theme=dark] .colab-df-convert:hover {\n",
              "      background-color: #434B5C;\n",
              "      box-shadow: 0px 1px 3px 1px rgba(0, 0, 0, 0.15);\n",
              "      filter: drop-shadow(0px 1px 2px rgba(0, 0, 0, 0.3));\n",
              "      fill: #FFFFFF;\n",
              "    }\n",
              "  </style>\n",
              "\n",
              "      <script>\n",
              "        const buttonEl =\n",
              "          document.querySelector('#df-009d720d-558c-491e-a697-e14633ea631f button.colab-df-convert');\n",
              "        buttonEl.style.display =\n",
              "          google.colab.kernel.accessAllowed ? 'block' : 'none';\n",
              "\n",
              "        async function convertToInteractive(key) {\n",
              "          const element = document.querySelector('#df-009d720d-558c-491e-a697-e14633ea631f');\n",
              "          const dataTable =\n",
              "            await google.colab.kernel.invokeFunction('convertToInteractive',\n",
              "                                                     [key], {});\n",
              "          if (!dataTable) return;\n",
              "\n",
              "          const docLinkHtml = 'Like what you see? Visit the ' +\n",
              "            '<a target=\"_blank\" href=https://colab.research.google.com/notebooks/data_table.ipynb>data table notebook</a>'\n",
              "            + ' to learn more about interactive tables.';\n",
              "          element.innerHTML = '';\n",
              "          dataTable['output_type'] = 'display_data';\n",
              "          await google.colab.output.renderOutput(dataTable, element);\n",
              "          const docLink = document.createElement('div');\n",
              "          docLink.innerHTML = docLinkHtml;\n",
              "          element.appendChild(docLink);\n",
              "        }\n",
              "      </script>\n",
              "    </div>\n",
              "  </div>\n",
              "  "
            ],
            "text/plain": [
              "        fare_amount  pickup_longitude  ...  dropoff_latitude  passenger_count\n",
              "count  1.661731e+06      1.661731e+06  ...      1.661717e+06     1.661731e+06\n",
              "mean   1.134016e+01     -7.126932e+01  ...      3.991955e+01     1.685489e+00\n",
              "std    9.830639e+00      1.274979e+01  ...      1.029647e+01     1.334168e+00\n",
              "min   -3.000000e+02     -3.439245e+03  ...     -3.474112e+03     0.000000e+00\n",
              "25%    6.000000e+00     -7.399203e+01  ...      4.073399e+01     1.000000e+00\n",
              "50%    8.500000e+00     -7.398180e+01  ...      4.075313e+01     1.000000e+00\n",
              "75%    1.250000e+01     -7.396710e+01  ...      4.076806e+01     2.000000e+00\n",
              "max    1.097480e+03      3.442185e+03  ...      3.351403e+03     2.080000e+02\n",
              "\n",
              "[8 rows x 6 columns]"
            ]
          },
          "metadata": {},
          "execution_count": 38
        }
      ],
      "source": [
        "df.describe()"
      ]
    },
    {
      "cell_type": "code",
      "execution_count": 39,
      "metadata": {
        "colab": {
          "base_uri": "https://localhost:8080/"
        },
        "id": "u6LmKrknF4o_",
        "outputId": "315bfb93-7d2f-40cd-ba8b-8402d818dbe4"
      },
      "outputs": [
        {
          "output_type": "execute_result",
          "data": {
            "text/plain": [
              "(Timestamp('2009-01-01 00:11:46+0000', tz='UTC'),\n",
              " Timestamp('2015-06-30 23:59:54+0000', tz='UTC'))"
            ]
          },
          "metadata": {},
          "execution_count": 39
        }
      ],
      "source": [
        "df.pickup_datetime.min(), df.pickup_datetime.max()"
      ]
    },
    {
      "cell_type": "markdown",
      "metadata": {
        "id": "WDNHb510i4t6"
      },
      "source": [
        "Observations about training data:\n",
        "\n",
        "- 1,661,731 rows, as expected\n",
        "- No missing data (in the sample)\n",
        "- `fare_amount` ranges from \\$-300.0 to \\$1097.0 \n",
        "- `passenger_count` ranges from 0 to 208 \n",
        "- Dates range from 1st Jan 2009 to 30th June 2015\n",
        "- The dataset takes up ~57 MB of space in the RAM\n",
        "\n",
        "We may need to deal with outliers and data entry errors before we train our model."
      ]
    },
    {
      "cell_type": "markdown",
      "metadata": {
        "id": "JDKqGNKOjkHn"
      },
      "source": [
        "# Test Set"
      ]
    },
    {
      "cell_type": "code",
      "execution_count": 40,
      "metadata": {
        "colab": {
          "base_uri": "https://localhost:8080/"
        },
        "id": "53b1uRQYKdIw",
        "outputId": "f6f06808-5d6a-4ebe-dc0b-4daf38856e13"
      },
      "outputs": [
        {
          "output_type": "stream",
          "name": "stdout",
          "text": [
            "<class 'pandas.core.frame.DataFrame'>\n",
            "RangeIndex: 9914 entries, 0 to 9913\n",
            "Data columns (total 7 columns):\n",
            " #   Column             Non-Null Count  Dtype              \n",
            "---  ------             --------------  -----              \n",
            " 0   key                9914 non-null   object             \n",
            " 1   pickup_datetime    9914 non-null   datetime64[ns, UTC]\n",
            " 2   pickup_longitude   9914 non-null   float32            \n",
            " 3   pickup_latitude    9914 non-null   float32            \n",
            " 4   dropoff_longitude  9914 non-null   float32            \n",
            " 5   dropoff_latitude   9914 non-null   float64            \n",
            " 6   passenger_count    9914 non-null   float32            \n",
            "dtypes: datetime64[ns, UTC](1), float32(4), float64(1), object(1)\n",
            "memory usage: 387.4+ KB\n"
          ]
        }
      ],
      "source": [
        "test_df.info()"
      ]
    },
    {
      "cell_type": "code",
      "execution_count": 41,
      "metadata": {
        "colab": {
          "base_uri": "https://localhost:8080/",
          "height": 300
        },
        "id": "3z4-4MYvjon1",
        "outputId": "31938c8a-33ce-4896-bd32-049b4424f668"
      },
      "outputs": [
        {
          "output_type": "execute_result",
          "data": {
            "text/html": [
              "\n",
              "  <div id=\"df-2151fad8-7a2e-4fc5-81f9-14384446ac9e\">\n",
              "    <div class=\"colab-df-container\">\n",
              "      <div>\n",
              "<style scoped>\n",
              "    .dataframe tbody tr th:only-of-type {\n",
              "        vertical-align: middle;\n",
              "    }\n",
              "\n",
              "    .dataframe tbody tr th {\n",
              "        vertical-align: top;\n",
              "    }\n",
              "\n",
              "    .dataframe thead th {\n",
              "        text-align: right;\n",
              "    }\n",
              "</style>\n",
              "<table border=\"1\" class=\"dataframe\">\n",
              "  <thead>\n",
              "    <tr style=\"text-align: right;\">\n",
              "      <th></th>\n",
              "      <th>pickup_longitude</th>\n",
              "      <th>pickup_latitude</th>\n",
              "      <th>dropoff_longitude</th>\n",
              "      <th>dropoff_latitude</th>\n",
              "      <th>passenger_count</th>\n",
              "    </tr>\n",
              "  </thead>\n",
              "  <tbody>\n",
              "    <tr>\n",
              "      <th>count</th>\n",
              "      <td>9914.000000</td>\n",
              "      <td>9914.000000</td>\n",
              "      <td>9914.000000</td>\n",
              "      <td>9914.000000</td>\n",
              "      <td>9914.000000</td>\n",
              "    </tr>\n",
              "    <tr>\n",
              "      <th>mean</th>\n",
              "      <td>-73.976181</td>\n",
              "      <td>40.750954</td>\n",
              "      <td>-73.974945</td>\n",
              "      <td>40.751743</td>\n",
              "      <td>1.671273</td>\n",
              "    </tr>\n",
              "    <tr>\n",
              "      <th>std</th>\n",
              "      <td>0.042799</td>\n",
              "      <td>0.033542</td>\n",
              "      <td>0.039093</td>\n",
              "      <td>0.035435</td>\n",
              "      <td>1.278756</td>\n",
              "    </tr>\n",
              "    <tr>\n",
              "      <th>min</th>\n",
              "      <td>-74.252190</td>\n",
              "      <td>40.573143</td>\n",
              "      <td>-74.263245</td>\n",
              "      <td>40.568973</td>\n",
              "      <td>1.000000</td>\n",
              "    </tr>\n",
              "    <tr>\n",
              "      <th>25%</th>\n",
              "      <td>-73.992500</td>\n",
              "      <td>40.736125</td>\n",
              "      <td>-73.991249</td>\n",
              "      <td>40.735254</td>\n",
              "      <td>1.000000</td>\n",
              "    </tr>\n",
              "    <tr>\n",
              "      <th>50%</th>\n",
              "      <td>-73.982327</td>\n",
              "      <td>40.753052</td>\n",
              "      <td>-73.980015</td>\n",
              "      <td>40.754065</td>\n",
              "      <td>1.000000</td>\n",
              "    </tr>\n",
              "    <tr>\n",
              "      <th>75%</th>\n",
              "      <td>-73.968012</td>\n",
              "      <td>40.767113</td>\n",
              "      <td>-73.964062</td>\n",
              "      <td>40.768757</td>\n",
              "      <td>2.000000</td>\n",
              "    </tr>\n",
              "    <tr>\n",
              "      <th>max</th>\n",
              "      <td>-72.986534</td>\n",
              "      <td>41.709557</td>\n",
              "      <td>-72.990967</td>\n",
              "      <td>41.696683</td>\n",
              "      <td>6.000000</td>\n",
              "    </tr>\n",
              "  </tbody>\n",
              "</table>\n",
              "</div>\n",
              "      <button class=\"colab-df-convert\" onclick=\"convertToInteractive('df-2151fad8-7a2e-4fc5-81f9-14384446ac9e')\"\n",
              "              title=\"Convert this dataframe to an interactive table.\"\n",
              "              style=\"display:none;\">\n",
              "        \n",
              "  <svg xmlns=\"http://www.w3.org/2000/svg\" height=\"24px\"viewBox=\"0 0 24 24\"\n",
              "       width=\"24px\">\n",
              "    <path d=\"M0 0h24v24H0V0z\" fill=\"none\"/>\n",
              "    <path d=\"M18.56 5.44l.94 2.06.94-2.06 2.06-.94-2.06-.94-.94-2.06-.94 2.06-2.06.94zm-11 1L8.5 8.5l.94-2.06 2.06-.94-2.06-.94L8.5 2.5l-.94 2.06-2.06.94zm10 10l.94 2.06.94-2.06 2.06-.94-2.06-.94-.94-2.06-.94 2.06-2.06.94z\"/><path d=\"M17.41 7.96l-1.37-1.37c-.4-.4-.92-.59-1.43-.59-.52 0-1.04.2-1.43.59L10.3 9.45l-7.72 7.72c-.78.78-.78 2.05 0 2.83L4 21.41c.39.39.9.59 1.41.59.51 0 1.02-.2 1.41-.59l7.78-7.78 2.81-2.81c.8-.78.8-2.07 0-2.86zM5.41 20L4 18.59l7.72-7.72 1.47 1.35L5.41 20z\"/>\n",
              "  </svg>\n",
              "      </button>\n",
              "      \n",
              "  <style>\n",
              "    .colab-df-container {\n",
              "      display:flex;\n",
              "      flex-wrap:wrap;\n",
              "      gap: 12px;\n",
              "    }\n",
              "\n",
              "    .colab-df-convert {\n",
              "      background-color: #E8F0FE;\n",
              "      border: none;\n",
              "      border-radius: 50%;\n",
              "      cursor: pointer;\n",
              "      display: none;\n",
              "      fill: #1967D2;\n",
              "      height: 32px;\n",
              "      padding: 0 0 0 0;\n",
              "      width: 32px;\n",
              "    }\n",
              "\n",
              "    .colab-df-convert:hover {\n",
              "      background-color: #E2EBFA;\n",
              "      box-shadow: 0px 1px 2px rgba(60, 64, 67, 0.3), 0px 1px 3px 1px rgba(60, 64, 67, 0.15);\n",
              "      fill: #174EA6;\n",
              "    }\n",
              "\n",
              "    [theme=dark] .colab-df-convert {\n",
              "      background-color: #3B4455;\n",
              "      fill: #D2E3FC;\n",
              "    }\n",
              "\n",
              "    [theme=dark] .colab-df-convert:hover {\n",
              "      background-color: #434B5C;\n",
              "      box-shadow: 0px 1px 3px 1px rgba(0, 0, 0, 0.15);\n",
              "      filter: drop-shadow(0px 1px 2px rgba(0, 0, 0, 0.3));\n",
              "      fill: #FFFFFF;\n",
              "    }\n",
              "  </style>\n",
              "\n",
              "      <script>\n",
              "        const buttonEl =\n",
              "          document.querySelector('#df-2151fad8-7a2e-4fc5-81f9-14384446ac9e button.colab-df-convert');\n",
              "        buttonEl.style.display =\n",
              "          google.colab.kernel.accessAllowed ? 'block' : 'none';\n",
              "\n",
              "        async function convertToInteractive(key) {\n",
              "          const element = document.querySelector('#df-2151fad8-7a2e-4fc5-81f9-14384446ac9e');\n",
              "          const dataTable =\n",
              "            await google.colab.kernel.invokeFunction('convertToInteractive',\n",
              "                                                     [key], {});\n",
              "          if (!dataTable) return;\n",
              "\n",
              "          const docLinkHtml = 'Like what you see? Visit the ' +\n",
              "            '<a target=\"_blank\" href=https://colab.research.google.com/notebooks/data_table.ipynb>data table notebook</a>'\n",
              "            + ' to learn more about interactive tables.';\n",
              "          element.innerHTML = '';\n",
              "          dataTable['output_type'] = 'display_data';\n",
              "          await google.colab.output.renderOutput(dataTable, element);\n",
              "          const docLink = document.createElement('div');\n",
              "          docLink.innerHTML = docLinkHtml;\n",
              "          element.appendChild(docLink);\n",
              "        }\n",
              "      </script>\n",
              "    </div>\n",
              "  </div>\n",
              "  "
            ],
            "text/plain": [
              "       pickup_longitude  pickup_latitude  ...  dropoff_latitude  passenger_count\n",
              "count       9914.000000      9914.000000  ...       9914.000000      9914.000000\n",
              "mean         -73.976181        40.750954  ...         40.751743         1.671273\n",
              "std            0.042799         0.033542  ...          0.035435         1.278756\n",
              "min          -74.252190        40.573143  ...         40.568973         1.000000\n",
              "25%          -73.992500        40.736125  ...         40.735254         1.000000\n",
              "50%          -73.982327        40.753052  ...         40.754065         1.000000\n",
              "75%          -73.968012        40.767113  ...         40.768757         2.000000\n",
              "max          -72.986534        41.709557  ...         41.696683         6.000000\n",
              "\n",
              "[8 rows x 5 columns]"
            ]
          },
          "metadata": {},
          "execution_count": 41
        }
      ],
      "source": [
        "test_df.describe()"
      ]
    },
    {
      "cell_type": "code",
      "execution_count": 42,
      "metadata": {
        "colab": {
          "base_uri": "https://localhost:8080/"
        },
        "id": "dJ7mV30rjsa_",
        "outputId": "afa2ceb3-0738-4a51-80a5-3ac64095a673"
      },
      "outputs": [
        {
          "output_type": "execute_result",
          "data": {
            "text/plain": [
              "(Timestamp('2009-01-01 11:04:24+0000', tz='UTC'),\n",
              " Timestamp('2015-06-30 20:03:50+0000', tz='UTC'))"
            ]
          },
          "metadata": {},
          "execution_count": 42
        }
      ],
      "source": [
        "test_df.pickup_datetime.min(), test_df.pickup_datetime.max()"
      ]
    },
    {
      "cell_type": "markdown",
      "metadata": {
        "id": "iKW9rainj1fN"
      },
      "source": [
        "Some observations about the test set:\n",
        "\n",
        "- 9914 rows of data\n",
        "- No missing values\n",
        "- No obvious data entry errors\n",
        "- 1 to 6 passengers (we can limit training data to this range)\n",
        "- Latitudes lie between 40 and 42\n",
        "- Longitudes lie between -75 and -72\n",
        "- Pickup dates range from Jan 1st 2009 to Jun  30th 2015 (same as training set)\n",
        "\n",
        "We can use the ranges of the test set to drop outliers/invalid data from the training set."
      ]
    },
    {
      "cell_type": "code",
      "execution_count": 43,
      "metadata": {
        "colab": {
          "base_uri": "https://localhost:8080/",
          "height": 87
        },
        "id": "T-SezuFyjwbo",
        "outputId": "a5cb6015-d680-48d8-ddd4-32fa270e300e"
      },
      "outputs": [
        {
          "output_type": "stream",
          "name": "stdout",
          "text": [
            "[jovian] Detected Colab notebook...\u001b[0m\n",
            "[jovian] Uploading colab notebook to Jovian...\u001b[0m\n",
            "Committed successfully! https://jovian.ai/larrazolovictoria/new-york-taxi-fare-predictions\n"
          ]
        },
        {
          "output_type": "execute_result",
          "data": {
            "application/vnd.google.colaboratory.intrinsic+json": {
              "type": "string"
            },
            "text/plain": [
              "'https://jovian.ai/larrazolovictoria/new-york-taxi-fare-predictions'"
            ]
          },
          "metadata": {},
          "execution_count": 43
        }
      ],
      "source": [
        "jovian.commit()"
      ]
    },
    {
      "cell_type": "markdown",
      "metadata": {
        "id": "Cid1EtYSkfpt"
      },
      "source": [
        "### Exploratory Data Analysis and Visualization\n",
        "\n",
        "\n"
      ]
    },
    {
      "cell_type": "markdown",
      "metadata": {
        "id": "AY20F-YQkn4I"
      },
      "source": [
        "### Ask & Answer Questions\n",
        "\n",
        "\n",
        "1. What is the busiest day of the week?\n",
        "2. What is the busiest time of the day?\n",
        "3. In which month are fares the highest?\n",
        "4. Which pickup locations have the highest fares?\n",
        "5. Which drop locations have the highest fares?\n",
        "6. What is the average ride distance?\n",
        "\n",
        "EDA + asking questions will help you develop a deeper understand of the data and give you ideas for feature engineering."
      ]
    },
    {
      "cell_type": "code",
      "execution_count": 44,
      "metadata": {
        "id": "zBTi3llmpaAK"
      },
      "outputs": [],
      "source": [
        "import seaborn as sns"
      ]
    },
    {
      "cell_type": "code",
      "execution_count": 45,
      "metadata": {
        "id": "v4efFHuApcXR"
      },
      "outputs": [],
      "source": [
        "sns.set_style(\"darkgrid\")"
      ]
    },
    {
      "cell_type": "code",
      "execution_count": 46,
      "metadata": {
        "colab": {
          "base_uri": "https://localhost:8080/",
          "height": 354
        },
        "id": "Ufn0q1jsj7qj",
        "outputId": "80baf929-3878-4c4b-d36f-07c4a1b4f362"
      },
      "outputs": [
        {
          "output_type": "stream",
          "name": "stderr",
          "text": [
            "/usr/local/lib/python3.7/dist-packages/seaborn/distributions.py:2619: FutureWarning: `distplot` is a deprecated function and will be removed in a future version. Please adapt your code to use either `displot` (a figure-level function with similar flexibility) or `histplot` (an axes-level function for histograms).\n",
            "  warnings.warn(msg, FutureWarning)\n"
          ]
        },
        {
          "output_type": "execute_result",
          "data": {
            "text/plain": [
              "<matplotlib.axes._subplots.AxesSubplot at 0x7fcaa2059690>"
            ]
          },
          "metadata": {},
          "execution_count": 46
        },
        {
          "output_type": "display_data",
          "data": {
            "image/png": "[encoded data removed]",
            "text/plain": [
              "<Figure size 432x288 with 1 Axes>"
            ]
          },
          "metadata": {}
        }
      ],
      "source": [
        "sns.distplot(df.passenger_count, bins=24, kde=False, norm_hist=True)"
      ]
    },
    {
      "cell_type": "code",
      "execution_count": 47,
      "metadata": {
        "id": "y2-AMIWppUr9"
      },
      "outputs": [],
      "source": [
        "sample_df = df.sample(int(0.1 * len(df)))"
      ]
    },
    {
      "cell_type": "code",
      "execution_count": 48,
      "metadata": {
        "colab": {
          "base_uri": "https://localhost:8080/",
          "height": 297
        },
        "id": "MT85cfuppwDv",
        "outputId": "4a7f7beb-fbe7-4b91-9f48-f246e286ddf6"
      },
      "outputs": [
        {
          "output_type": "execute_result",
          "data": {
            "text/plain": [
              "<matplotlib.axes._subplots.AxesSubplot at 0x7fcaa1f64550>"
            ]
          },
          "metadata": {},
          "execution_count": 48
        },
        {
          "output_type": "display_data",
          "data": {
            "image/png": "[encoded data removed]",
            "text/plain": [
              "<Figure size 432x288 with 1 Axes>"
            ]
          },
          "metadata": {}
        }
      ],
      "source": [
        "sns.scatterplot(x=sample_df.pickup_longitude, y=sample_df.dropoff_longitude, size=0.003)"
      ]
    },
    {
      "cell_type": "code",
      "execution_count": 49,
      "metadata": {
        "id": "tqpaxQX_qATT"
      },
      "outputs": [],
      "source": [
        "import folium"
      ]
    },
    {
      "cell_type": "code",
      "execution_count": 50,
      "metadata": {
        "colab": {
          "base_uri": "https://localhost:8080/"
        },
        "id": "ZnCiTBjEqexH",
        "outputId": "d196122a-b9c0-4f02-d219-2f2f503b8b1e"
      },
      "outputs": [
        {
          "output_type": "execute_result",
          "data": {
            "text/plain": [
              "(0          40.711304\n",
              " 1          40.733871\n",
              " 2          40.744713\n",
              " 3          40.751904\n",
              " 4          40.739571\n",
              "              ...    \n",
              " 1661726    40.706635\n",
              " 1661727    40.728493\n",
              " 1661728    40.724380\n",
              " 1661729    40.765919\n",
              " 1661730    40.787758\n",
              " Name: pickup_latitude, Length: 1661731, dtype: float32,\n",
              " -73.97927,\n",
              " 40.782004,\n",
              " -73.97927)"
            ]
          },
          "metadata": {},
          "execution_count": 50
        }
      ],
      "source": [
        "lat_pick, lon_pick, lat_dro, lon_pick = df.pickup_latitude, df.pickup_longitude[0], df.dropoff_latitude[0], df.dropoff_longitude[0], \n",
        "lat_pick, lon_pick, lat_dro, lon_pick,"
      ]
    },
    {
      "cell_type": "code",
      "execution_count": 51,
      "metadata": {
        "colab": {
          "base_uri": "https://localhost:8080/"
        },
        "id": "M-zNekUbqnzr",
        "outputId": "1c71f88f-45a1-4521-8ca6-11aba5f1ea34"
      },
      "outputs": [
        {
          "output_type": "stream",
          "name": "stdout",
          "text": [
            "1029726   -73.992531\n",
            "854949    -73.992981\n",
            "781973    -73.988518\n",
            "1525336   -73.926353\n",
            "1396849   -73.992310\n",
            "             ...    \n",
            "579744    -73.959541\n",
            "1559751   -73.988274\n",
            "1439440     0.000000\n",
            "1661216   -74.004112\n",
            "1015376   -73.981255\n",
            "Name: pickup_longitude, Length: 100, dtype: float32\n",
            "1029726    40.742492\n",
            "854949     40.776142\n",
            "781973     40.799540\n",
            "1525336    40.749851\n",
            "1396849    40.760410\n",
            "             ...    \n",
            "579744     40.765606\n",
            "1559751    40.728851\n",
            "1439440     0.000000\n",
            "1661216    40.782525\n",
            "1015376    40.760112\n",
            "Name: dropoff_latitude, Length: 100, dtype: float64\n",
            "1029726    40.724514\n",
            "854949     40.730026\n",
            "781973     40.764355\n",
            "1525336    40.745461\n",
            "1396849    40.749603\n",
            "             ...    \n",
            "579744     40.768089\n",
            "1559751    40.737595\n",
            "1439440     0.000000\n",
            "1661216    40.742626\n",
            "1015376    40.741516\n",
            "Name: pickup_latitude, Length: 100, dtype: float32\n",
            "1029726   -74.004250\n",
            "854949    -73.962257\n",
            "781973    -73.955017\n",
            "1525336   -73.896873\n",
            "1396849   -73.977646\n",
            "             ...    \n",
            "579744    -73.966904\n",
            "1559751   -73.984428\n",
            "1439440     0.000000\n",
            "1661216   -73.976654\n",
            "1015376   -73.967850\n",
            "Name: dropoff_longitude, Length: 100, dtype: float32\n"
          ]
        }
      ],
      "source": [
        "for x in df[['pickup_longitude', 'dropoff_latitude', 'pickup_latitude', 'dropoff_longitude']].sample(100).iteritems():\n",
        "    print(x[1])"
      ]
    },
    {
      "cell_type": "code",
      "execution_count": 52,
      "metadata": {
        "colab": {
          "base_uri": "https://localhost:8080/"
        },
        "id": "2TmyJs0krUFt",
        "outputId": "09e4a879-9dba-4631-fb7c-6b60e2824be9"
      },
      "outputs": [
        {
          "output_type": "execute_result",
          "data": {
            "text/plain": [
              "<zip at 0x7fcaa1f4ecd0>"
            ]
          },
          "metadata": {},
          "execution_count": 52
        }
      ],
      "source": [
        "zip(list(df.pickup_longitude), list(df.dropoff_latitude), list(df.pickup_latitude), list(df.dropoff_longitude))"
      ]
    },
    {
      "cell_type": "code",
      "execution_count": 53,
      "metadata": {
        "id": "sOQrkzc2rfwC"
      },
      "outputs": [],
      "source": [
        "from folium.plugins import HeatMap"
      ]
    },
    {
      "cell_type": "code",
      "execution_count": 54,
      "metadata": {
        "id": "qvF-MFtNrlK-"
      },
      "outputs": [],
      "source": [
        "sample_df = df.sample(int(0.001 * len(df)))\n",
        "lat_lon_pairs = list(zip(list(df.pickup_longitude), list(df.dropoff_latitude), list(df.pickup_latitude), list(df.dropoff_longitude)))"
      ]
    },
    {
      "cell_type": "code",
      "execution_count": null,
      "metadata": {
        "id": "nJPX_fSfryUF"
      },
      "outputs": [],
      "source": [
        "map = folium.Map()\n",
        "HeatMap(lat_lon_pairs).add_to(map)\n",
        "map"
      ]
    },
    {
      "cell_type": "code",
      "execution_count": 56,
      "metadata": {
        "colab": {
          "base_uri": "https://localhost:8080/",
          "height": 87
        },
        "id": "vbeiQ2Smw3nM",
        "outputId": "e9661d9e-0ef9-4a54-c1f9-435c7e232c37"
      },
      "outputs": [
        {
          "output_type": "stream",
          "name": "stdout",
          "text": [
            "[jovian] Detected Colab notebook...\u001b[0m\n",
            "[jovian] Uploading colab notebook to Jovian...\u001b[0m\n",
            "Committed successfully! https://jovian.ai/larrazolovictoria/new-york-taxi-fare-predictions\n"
          ]
        },
        {
          "output_type": "execute_result",
          "data": {
            "application/vnd.google.colaboratory.intrinsic+json": {
              "type": "string"
            },
            "text/plain": [
              "'https://jovian.ai/larrazolovictoria/new-york-taxi-fare-predictions'"
            ]
          },
          "metadata": {},
          "execution_count": 56
        }
      ],
      "source": [
        "jovian.commit()"
      ]
    },
    {
      "cell_type": "markdown",
      "metadata": {
        "id": "xfaGBMu9lczl"
      },
      "source": [
        "## 3. Prepare Dataset for Training\n",
        "\n",
        "- Split Training & Validation Set\n",
        "- Fill/Remove Missing Values\n",
        "- Extract Inputs & Outputs\n",
        "   - Training\n",
        "   - Validation\n",
        "   - Test"
      ]
    },
    {
      "cell_type": "markdown",
      "metadata": {
        "id": "VT1ZIxWllgyg"
      },
      "source": [
        "### Split Training & Validation Set\n",
        "\n",
        "We'll set aside 20% of the training data as the validation set, to evaluate the models we train on previously unseen data. \n",
        "\n",
        "Since the test set and training set have the same date ranges, we can pick a random 20% fraction."
      ]
    },
    {
      "cell_type": "code",
      "execution_count": 57,
      "metadata": {
        "id": "W9XXituVxDJa"
      },
      "outputs": [],
      "source": [
        "from sklearn.model_selection import train_test_split"
      ]
    },
    {
      "cell_type": "code",
      "execution_count": 58,
      "metadata": {
        "id": "fYUDDfK3xp2Y"
      },
      "outputs": [],
      "source": [
        "train_df, val_df = train_test_split(df, test_size=0.2, random_state=42)"
      ]
    },
    {
      "cell_type": "code",
      "execution_count": 59,
      "metadata": {
        "colab": {
          "base_uri": "https://localhost:8080/"
        },
        "id": "MjAXKSQMltjx",
        "outputId": "9b2a086e-8814-4972-bbcc-7a6251a308ef"
      },
      "outputs": [
        {
          "output_type": "execute_result",
          "data": {
            "text/plain": [
              "(1329384, 332347)"
            ]
          },
          "metadata": {},
          "execution_count": 59
        }
      ],
      "source": [
        "len(train_df), len(val_df)"
      ]
    },
    {
      "cell_type": "markdown",
      "metadata": {
        "id": "CBH4vYhLlzId"
      },
      "source": [
        "### Fill/Remove Missing Values\n",
        "\n",
        "There are no missing values in our sample, but if there were, we could simply drop the rows with missing values instead of trying to fill them (since we have a lot of training data)>"
      ]
    },
    {
      "cell_type": "code",
      "execution_count": 60,
      "metadata": {
        "id": "zqSFCsvKlv_B"
      },
      "outputs": [],
      "source": [
        "train_df = train_df.dropna()\n",
        "val_df = val_df.dropna()"
      ]
    },
    {
      "cell_type": "markdown",
      "metadata": {
        "id": "R9W4nvr4l4Q7"
      },
      "source": [
        "### Extract Inputs and Outputs"
      ]
    },
    {
      "cell_type": "code",
      "execution_count": 61,
      "metadata": {
        "colab": {
          "base_uri": "https://localhost:8080/"
        },
        "id": "iHEU25Wfl19z",
        "outputId": "7d065df5-c484-4183-bd5d-6ea4a267c2db"
      },
      "outputs": [
        {
          "output_type": "execute_result",
          "data": {
            "text/plain": [
              "Index(['fare_amount', 'pickup_datetime', 'pickup_longitude', 'pickup_latitude',\n",
              "       'dropoff_longitude', 'dropoff_latitude', 'passenger_count'],\n",
              "      dtype='object')"
            ]
          },
          "metadata": {},
          "execution_count": 61
        }
      ],
      "source": [
        "df.columns"
      ]
    },
    {
      "cell_type": "code",
      "execution_count": 62,
      "metadata": {
        "id": "Y6WCzQr1l8FV"
      },
      "outputs": [],
      "source": [
        "input_cols = ['pickup_longitude', 'pickup_latitude', 'dropoff_longitude', 'dropoff_latitude', 'passenger_count']"
      ]
    },
    {
      "cell_type": "code",
      "execution_count": 63,
      "metadata": {
        "id": "hOCXvhvbl_Po"
      },
      "outputs": [],
      "source": [
        "target_col = 'fare_amount'"
      ]
    },
    {
      "cell_type": "markdown",
      "metadata": {
        "id": "LxGbjXrRmE3O"
      },
      "source": [
        "#### Training"
      ]
    },
    {
      "cell_type": "code",
      "execution_count": 64,
      "metadata": {
        "id": "h_-0lz5OmCev"
      },
      "outputs": [],
      "source": [
        "train_inputs = train_df[input_cols]\n"
      ]
    },
    {
      "cell_type": "code",
      "execution_count": 65,
      "metadata": {
        "id": "__sbKMEwmIYm"
      },
      "outputs": [],
      "source": [
        "train_targets = train_df[target_col]"
      ]
    },
    {
      "cell_type": "code",
      "execution_count": 66,
      "metadata": {
        "colab": {
          "base_uri": "https://localhost:8080/",
          "height": 424
        },
        "id": "fQjg7UH8mK2b",
        "outputId": "c1545d24-bf28-44b5-f920-92ea9d78ef05"
      },
      "outputs": [
        {
          "output_type": "execute_result",
          "data": {
            "text/html": [
              "\n",
              "  <div id=\"df-b9f7c356-1150-4ad0-a63f-a6bb31f089ce\">\n",
              "    <div class=\"colab-df-container\">\n",
              "      <div>\n",
              "<style scoped>\n",
              "    .dataframe tbody tr th:only-of-type {\n",
              "        vertical-align: middle;\n",
              "    }\n",
              "\n",
              "    .dataframe tbody tr th {\n",
              "        vertical-align: top;\n",
              "    }\n",
              "\n",
              "    .dataframe thead th {\n",
              "        text-align: right;\n",
              "    }\n",
              "</style>\n",
              "<table border=\"1\" class=\"dataframe\">\n",
              "  <thead>\n",
              "    <tr style=\"text-align: right;\">\n",
              "      <th></th>\n",
              "      <th>pickup_longitude</th>\n",
              "      <th>pickup_latitude</th>\n",
              "      <th>dropoff_longitude</th>\n",
              "      <th>dropoff_latitude</th>\n",
              "      <th>passenger_count</th>\n",
              "    </tr>\n",
              "  </thead>\n",
              "  <tbody>\n",
              "    <tr>\n",
              "      <th>1344710</th>\n",
              "      <td>-73.986603</td>\n",
              "      <td>40.777008</td>\n",
              "      <td>-73.983513</td>\n",
              "      <td>40.762397</td>\n",
              "      <td>2.0</td>\n",
              "    </tr>\n",
              "    <tr>\n",
              "      <th>881046</th>\n",
              "      <td>-73.982513</td>\n",
              "      <td>40.775196</td>\n",
              "      <td>-73.985092</td>\n",
              "      <td>40.769452</td>\n",
              "      <td>5.0</td>\n",
              "    </tr>\n",
              "    <tr>\n",
              "      <th>484486</th>\n",
              "      <td>-73.988365</td>\n",
              "      <td>40.737541</td>\n",
              "      <td>-73.990646</td>\n",
              "      <td>40.756027</td>\n",
              "      <td>1.0</td>\n",
              "    </tr>\n",
              "    <tr>\n",
              "      <th>560794</th>\n",
              "      <td>-73.991158</td>\n",
              "      <td>40.749142</td>\n",
              "      <td>-73.982712</td>\n",
              "      <td>40.756865</td>\n",
              "      <td>1.0</td>\n",
              "    </tr>\n",
              "    <tr>\n",
              "      <th>1422663</th>\n",
              "      <td>-73.980354</td>\n",
              "      <td>40.780384</td>\n",
              "      <td>-73.955025</td>\n",
              "      <td>40.800145</td>\n",
              "      <td>1.0</td>\n",
              "    </tr>\n",
              "    <tr>\n",
              "      <th>...</th>\n",
              "      <td>...</td>\n",
              "      <td>...</td>\n",
              "      <td>...</td>\n",
              "      <td>...</td>\n",
              "      <td>...</td>\n",
              "    </tr>\n",
              "    <tr>\n",
              "      <th>259178</th>\n",
              "      <td>-73.962624</td>\n",
              "      <td>40.763153</td>\n",
              "      <td>-73.973259</td>\n",
              "      <td>40.750961</td>\n",
              "      <td>1.0</td>\n",
              "    </tr>\n",
              "    <tr>\n",
              "      <th>1414414</th>\n",
              "      <td>-73.985069</td>\n",
              "      <td>40.758743</td>\n",
              "      <td>-73.990257</td>\n",
              "      <td>40.754697</td>\n",
              "      <td>1.0</td>\n",
              "    </tr>\n",
              "    <tr>\n",
              "      <th>131932</th>\n",
              "      <td>-73.983635</td>\n",
              "      <td>40.738041</td>\n",
              "      <td>-73.969292</td>\n",
              "      <td>40.768489</td>\n",
              "      <td>3.0</td>\n",
              "    </tr>\n",
              "    <tr>\n",
              "      <th>671155</th>\n",
              "      <td>-73.966866</td>\n",
              "      <td>40.756706</td>\n",
              "      <td>-73.980789</td>\n",
              "      <td>40.749471</td>\n",
              "      <td>1.0</td>\n",
              "    </tr>\n",
              "    <tr>\n",
              "      <th>121958</th>\n",
              "      <td>-73.975594</td>\n",
              "      <td>40.756962</td>\n",
              "      <td>-73.981903</td>\n",
              "      <td>40.768477</td>\n",
              "      <td>1.0</td>\n",
              "    </tr>\n",
              "  </tbody>\n",
              "</table>\n",
              "<p>1329371 rows × 5 columns</p>\n",
              "</div>\n",
              "      <button class=\"colab-df-convert\" onclick=\"convertToInteractive('df-b9f7c356-1150-4ad0-a63f-a6bb31f089ce')\"\n",
              "              title=\"Convert this dataframe to an interactive table.\"\n",
              "              style=\"display:none;\">\n",
              "        \n",
              "  <svg xmlns=\"http://www.w3.org/2000/svg\" height=\"24px\"viewBox=\"0 0 24 24\"\n",
              "       width=\"24px\">\n",
              "    <path d=\"M0 0h24v24H0V0z\" fill=\"none\"/>\n",
              "    <path d=\"M18.56 5.44l.94 2.06.94-2.06 2.06-.94-2.06-.94-.94-2.06-.94 2.06-2.06.94zm-11 1L8.5 8.5l.94-2.06 2.06-.94-2.06-.94L8.5 2.5l-.94 2.06-2.06.94zm10 10l.94 2.06.94-2.06 2.06-.94-2.06-.94-.94-2.06-.94 2.06-2.06.94z\"/><path d=\"M17.41 7.96l-1.37-1.37c-.4-.4-.92-.59-1.43-.59-.52 0-1.04.2-1.43.59L10.3 9.45l-7.72 7.72c-.78.78-.78 2.05 0 2.83L4 21.41c.39.39.9.59 1.41.59.51 0 1.02-.2 1.41-.59l7.78-7.78 2.81-2.81c.8-.78.8-2.07 0-2.86zM5.41 20L4 18.59l7.72-7.72 1.47 1.35L5.41 20z\"/>\n",
              "  </svg>\n",
              "      </button>\n",
              "      \n",
              "  <style>\n",
              "    .colab-df-container {\n",
              "      display:flex;\n",
              "      flex-wrap:wrap;\n",
              "      gap: 12px;\n",
              "    }\n",
              "\n",
              "    .colab-df-convert {\n",
              "      background-color: #E8F0FE;\n",
              "      border: none;\n",
              "      border-radius: 50%;\n",
              "      cursor: pointer;\n",
              "      display: none;\n",
              "      fill: #1967D2;\n",
              "      height: 32px;\n",
              "      padding: 0 0 0 0;\n",
              "      width: 32px;\n",
              "    }\n",
              "\n",
              "    .colab-df-convert:hover {\n",
              "      background-color: #E2EBFA;\n",
              "      box-shadow: 0px 1px 2px rgba(60, 64, 67, 0.3), 0px 1px 3px 1px rgba(60, 64, 67, 0.15);\n",
              "      fill: #174EA6;\n",
              "    }\n",
              "\n",
              "    [theme=dark] .colab-df-convert {\n",
              "      background-color: #3B4455;\n",
              "      fill: #D2E3FC;\n",
              "    }\n",
              "\n",
              "    [theme=dark] .colab-df-convert:hover {\n",
              "      background-color: #434B5C;\n",
              "      box-shadow: 0px 1px 3px 1px rgba(0, 0, 0, 0.15);\n",
              "      filter: drop-shadow(0px 1px 2px rgba(0, 0, 0, 0.3));\n",
              "      fill: #FFFFFF;\n",
              "    }\n",
              "  </style>\n",
              "\n",
              "      <script>\n",
              "        const buttonEl =\n",
              "          document.querySelector('#df-b9f7c356-1150-4ad0-a63f-a6bb31f089ce button.colab-df-convert');\n",
              "        buttonEl.style.display =\n",
              "          google.colab.kernel.accessAllowed ? 'block' : 'none';\n",
              "\n",
              "        async function convertToInteractive(key) {\n",
              "          const element = document.querySelector('#df-b9f7c356-1150-4ad0-a63f-a6bb31f089ce');\n",
              "          const dataTable =\n",
              "            await google.colab.kernel.invokeFunction('convertToInteractive',\n",
              "                                                     [key], {});\n",
              "          if (!dataTable) return;\n",
              "\n",
              "          const docLinkHtml = 'Like what you see? Visit the ' +\n",
              "            '<a target=\"_blank\" href=https://colab.research.google.com/notebooks/data_table.ipynb>data table notebook</a>'\n",
              "            + ' to learn more about interactive tables.';\n",
              "          element.innerHTML = '';\n",
              "          dataTable['output_type'] = 'display_data';\n",
              "          await google.colab.output.renderOutput(dataTable, element);\n",
              "          const docLink = document.createElement('div');\n",
              "          docLink.innerHTML = docLinkHtml;\n",
              "          element.appendChild(docLink);\n",
              "        }\n",
              "      </script>\n",
              "    </div>\n",
              "  </div>\n",
              "  "
            ],
            "text/plain": [
              "         pickup_longitude  pickup_latitude  ...  dropoff_latitude  passenger_count\n",
              "1344710        -73.986603        40.777008  ...         40.762397              2.0\n",
              "881046         -73.982513        40.775196  ...         40.769452              5.0\n",
              "484486         -73.988365        40.737541  ...         40.756027              1.0\n",
              "560794         -73.991158        40.749142  ...         40.756865              1.0\n",
              "1422663        -73.980354        40.780384  ...         40.800145              1.0\n",
              "...                   ...              ...  ...               ...              ...\n",
              "259178         -73.962624        40.763153  ...         40.750961              1.0\n",
              "1414414        -73.985069        40.758743  ...         40.754697              1.0\n",
              "131932         -73.983635        40.738041  ...         40.768489              3.0\n",
              "671155         -73.966866        40.756706  ...         40.749471              1.0\n",
              "121958         -73.975594        40.756962  ...         40.768477              1.0\n",
              "\n",
              "[1329371 rows x 5 columns]"
            ]
          },
          "metadata": {},
          "execution_count": 66
        }
      ],
      "source": [
        "train_inputs"
      ]
    },
    {
      "cell_type": "code",
      "execution_count": 67,
      "metadata": {
        "colab": {
          "base_uri": "https://localhost:8080/"
        },
        "id": "pxIlcJBumMtj",
        "outputId": "985e69a6-0d79-4bda-a98d-53354798d4f7"
      },
      "outputs": [
        {
          "output_type": "execute_result",
          "data": {
            "text/plain": [
              "1344710     7.000000\n",
              "881046      4.500000\n",
              "484486      6.500000\n",
              "560794     25.299999\n",
              "1422663     7.300000\n",
              "             ...    \n",
              "259178      6.500000\n",
              "1414414    40.500000\n",
              "131932      7.700000\n",
              "671155      8.500000\n",
              "121958      9.500000\n",
              "Name: fare_amount, Length: 1329371, dtype: float32"
            ]
          },
          "metadata": {},
          "execution_count": 67
        }
      ],
      "source": [
        "train_targets"
      ]
    },
    {
      "cell_type": "markdown",
      "metadata": {
        "id": "cHtP0HGymZdl"
      },
      "source": [
        "#### Validation"
      ]
    },
    {
      "cell_type": "code",
      "execution_count": 68,
      "metadata": {
        "id": "kGhy-MpwmTUX"
      },
      "outputs": [],
      "source": [
        "val_inputs = val_df[input_cols]"
      ]
    },
    {
      "cell_type": "code",
      "execution_count": 69,
      "metadata": {
        "id": "LIwl_bR_mbmz"
      },
      "outputs": [],
      "source": [
        "val_targets = val_df[target_col]"
      ]
    },
    {
      "cell_type": "code",
      "execution_count": 70,
      "metadata": {
        "colab": {
          "base_uri": "https://localhost:8080/",
          "height": 424
        },
        "id": "CPaDefRsmdRy",
        "outputId": "a0cdc015-f3a3-46bb-bebe-928b2ad64586"
      },
      "outputs": [
        {
          "output_type": "execute_result",
          "data": {
            "text/html": [
              "\n",
              "  <div id=\"df-6933694e-e9d6-4681-9efd-3c2fcd783566\">\n",
              "    <div class=\"colab-df-container\">\n",
              "      <div>\n",
              "<style scoped>\n",
              "    .dataframe tbody tr th:only-of-type {\n",
              "        vertical-align: middle;\n",
              "    }\n",
              "\n",
              "    .dataframe tbody tr th {\n",
              "        vertical-align: top;\n",
              "    }\n",
              "\n",
              "    .dataframe thead th {\n",
              "        text-align: right;\n",
              "    }\n",
              "</style>\n",
              "<table border=\"1\" class=\"dataframe\">\n",
              "  <thead>\n",
              "    <tr style=\"text-align: right;\">\n",
              "      <th></th>\n",
              "      <th>pickup_longitude</th>\n",
              "      <th>pickup_latitude</th>\n",
              "      <th>dropoff_longitude</th>\n",
              "      <th>dropoff_latitude</th>\n",
              "      <th>passenger_count</th>\n",
              "    </tr>\n",
              "  </thead>\n",
              "  <tbody>\n",
              "    <tr>\n",
              "      <th>1030404</th>\n",
              "      <td>-73.965759</td>\n",
              "      <td>40.773941</td>\n",
              "      <td>-73.955383</td>\n",
              "      <td>40.775158</td>\n",
              "      <td>2.0</td>\n",
              "    </tr>\n",
              "    <tr>\n",
              "      <th>799486</th>\n",
              "      <td>-73.947441</td>\n",
              "      <td>40.783585</td>\n",
              "      <td>-73.969872</td>\n",
              "      <td>40.756139</td>\n",
              "      <td>1.0</td>\n",
              "    </tr>\n",
              "    <tr>\n",
              "      <th>951362</th>\n",
              "      <td>-73.975182</td>\n",
              "      <td>40.733097</td>\n",
              "      <td>-73.994156</td>\n",
              "      <td>40.686237</td>\n",
              "      <td>1.0</td>\n",
              "    </tr>\n",
              "    <tr>\n",
              "      <th>175104</th>\n",
              "      <td>-73.989113</td>\n",
              "      <td>40.748135</td>\n",
              "      <td>-73.989113</td>\n",
              "      <td>40.748135</td>\n",
              "      <td>1.0</td>\n",
              "    </tr>\n",
              "    <tr>\n",
              "      <th>1241223</th>\n",
              "      <td>-73.921646</td>\n",
              "      <td>40.767036</td>\n",
              "      <td>-73.914055</td>\n",
              "      <td>40.759014</td>\n",
              "      <td>1.0</td>\n",
              "    </tr>\n",
              "    <tr>\n",
              "      <th>...</th>\n",
              "      <td>...</td>\n",
              "      <td>...</td>\n",
              "      <td>...</td>\n",
              "      <td>...</td>\n",
              "      <td>...</td>\n",
              "    </tr>\n",
              "    <tr>\n",
              "      <th>1404707</th>\n",
              "      <td>-73.977676</td>\n",
              "      <td>40.746468</td>\n",
              "      <td>-73.962479</td>\n",
              "      <td>40.766637</td>\n",
              "      <td>1.0</td>\n",
              "    </tr>\n",
              "    <tr>\n",
              "      <th>14648</th>\n",
              "      <td>-73.977531</td>\n",
              "      <td>40.758072</td>\n",
              "      <td>-73.951759</td>\n",
              "      <td>40.769729</td>\n",
              "      <td>1.0</td>\n",
              "    </tr>\n",
              "    <tr>\n",
              "      <th>1635888</th>\n",
              "      <td>-73.956017</td>\n",
              "      <td>40.785038</td>\n",
              "      <td>-73.964355</td>\n",
              "      <td>40.768023</td>\n",
              "      <td>1.0</td>\n",
              "    </tr>\n",
              "    <tr>\n",
              "      <th>683077</th>\n",
              "      <td>-73.789238</td>\n",
              "      <td>40.646133</td>\n",
              "      <td>-73.970551</td>\n",
              "      <td>40.756647</td>\n",
              "      <td>5.0</td>\n",
              "    </tr>\n",
              "    <tr>\n",
              "      <th>1377148</th>\n",
              "      <td>-74.010979</td>\n",
              "      <td>40.710999</td>\n",
              "      <td>-73.999542</td>\n",
              "      <td>40.723388</td>\n",
              "      <td>1.0</td>\n",
              "    </tr>\n",
              "  </tbody>\n",
              "</table>\n",
              "<p>332346 rows × 5 columns</p>\n",
              "</div>\n",
              "      <button class=\"colab-df-convert\" onclick=\"convertToInteractive('df-6933694e-e9d6-4681-9efd-3c2fcd783566')\"\n",
              "              title=\"Convert this dataframe to an interactive table.\"\n",
              "              style=\"display:none;\">\n",
              "        \n",
              "  <svg xmlns=\"http://www.w3.org/2000/svg\" height=\"24px\"viewBox=\"0 0 24 24\"\n",
              "       width=\"24px\">\n",
              "    <path d=\"M0 0h24v24H0V0z\" fill=\"none\"/>\n",
              "    <path d=\"M18.56 5.44l.94 2.06.94-2.06 2.06-.94-2.06-.94-.94-2.06-.94 2.06-2.06.94zm-11 1L8.5 8.5l.94-2.06 2.06-.94-2.06-.94L8.5 2.5l-.94 2.06-2.06.94zm10 10l.94 2.06.94-2.06 2.06-.94-2.06-.94-.94-2.06-.94 2.06-2.06.94z\"/><path d=\"M17.41 7.96l-1.37-1.37c-.4-.4-.92-.59-1.43-.59-.52 0-1.04.2-1.43.59L10.3 9.45l-7.72 7.72c-.78.78-.78 2.05 0 2.83L4 21.41c.39.39.9.59 1.41.59.51 0 1.02-.2 1.41-.59l7.78-7.78 2.81-2.81c.8-.78.8-2.07 0-2.86zM5.41 20L4 18.59l7.72-7.72 1.47 1.35L5.41 20z\"/>\n",
              "  </svg>\n",
              "      </button>\n",
              "      \n",
              "  <style>\n",
              "    .colab-df-container {\n",
              "      display:flex;\n",
              "      flex-wrap:wrap;\n",
              "      gap: 12px;\n",
              "    }\n",
              "\n",
              "    .colab-df-convert {\n",
              "      background-color: #E8F0FE;\n",
              "      border: none;\n",
              "      border-radius: 50%;\n",
              "      cursor: pointer;\n",
              "      display: none;\n",
              "      fill: #1967D2;\n",
              "      height: 32px;\n",
              "      padding: 0 0 0 0;\n",
              "      width: 32px;\n",
              "    }\n",
              "\n",
              "    .colab-df-convert:hover {\n",
              "      background-color: #E2EBFA;\n",
              "      box-shadow: 0px 1px 2px rgba(60, 64, 67, 0.3), 0px 1px 3px 1px rgba(60, 64, 67, 0.15);\n",
              "      fill: #174EA6;\n",
              "    }\n",
              "\n",
              "    [theme=dark] .colab-df-convert {\n",
              "      background-color: #3B4455;\n",
              "      fill: #D2E3FC;\n",
              "    }\n",
              "\n",
              "    [theme=dark] .colab-df-convert:hover {\n",
              "      background-color: #434B5C;\n",
              "      box-shadow: 0px 1px 3px 1px rgba(0, 0, 0, 0.15);\n",
              "      filter: drop-shadow(0px 1px 2px rgba(0, 0, 0, 0.3));\n",
              "      fill: #FFFFFF;\n",
              "    }\n",
              "  </style>\n",
              "\n",
              "      <script>\n",
              "        const buttonEl =\n",
              "          document.querySelector('#df-6933694e-e9d6-4681-9efd-3c2fcd783566 button.colab-df-convert');\n",
              "        buttonEl.style.display =\n",
              "          google.colab.kernel.accessAllowed ? 'block' : 'none';\n",
              "\n",
              "        async function convertToInteractive(key) {\n",
              "          const element = document.querySelector('#df-6933694e-e9d6-4681-9efd-3c2fcd783566');\n",
              "          const dataTable =\n",
              "            await google.colab.kernel.invokeFunction('convertToInteractive',\n",
              "                                                     [key], {});\n",
              "          if (!dataTable) return;\n",
              "\n",
              "          const docLinkHtml = 'Like what you see? Visit the ' +\n",
              "            '<a target=\"_blank\" href=https://colab.research.google.com/notebooks/data_table.ipynb>data table notebook</a>'\n",
              "            + ' to learn more about interactive tables.';\n",
              "          element.innerHTML = '';\n",
              "          dataTable['output_type'] = 'display_data';\n",
              "          await google.colab.output.renderOutput(dataTable, element);\n",
              "          const docLink = document.createElement('div');\n",
              "          docLink.innerHTML = docLinkHtml;\n",
              "          element.appendChild(docLink);\n",
              "        }\n",
              "      </script>\n",
              "    </div>\n",
              "  </div>\n",
              "  "
            ],
            "text/plain": [
              "         pickup_longitude  pickup_latitude  ...  dropoff_latitude  passenger_count\n",
              "1030404        -73.965759        40.773941  ...         40.775158              2.0\n",
              "799486         -73.947441        40.783585  ...         40.756139              1.0\n",
              "951362         -73.975182        40.733097  ...         40.686237              1.0\n",
              "175104         -73.989113        40.748135  ...         40.748135              1.0\n",
              "1241223        -73.921646        40.767036  ...         40.759014              1.0\n",
              "...                   ...              ...  ...               ...              ...\n",
              "1404707        -73.977676        40.746468  ...         40.766637              1.0\n",
              "14648          -73.977531        40.758072  ...         40.769729              1.0\n",
              "1635888        -73.956017        40.785038  ...         40.768023              1.0\n",
              "683077         -73.789238        40.646133  ...         40.756647              5.0\n",
              "1377148        -74.010979        40.710999  ...         40.723388              1.0\n",
              "\n",
              "[332346 rows x 5 columns]"
            ]
          },
          "metadata": {},
          "execution_count": 70
        }
      ],
      "source": [
        "val_inputs"
      ]
    },
    {
      "cell_type": "code",
      "execution_count": 71,
      "metadata": {
        "colab": {
          "base_uri": "https://localhost:8080/"
        },
        "id": "arAsWpzlmehE",
        "outputId": "3cf8ab81-cc5e-450e-919a-20cb3a0c93a5"
      },
      "outputs": [
        {
          "output_type": "execute_result",
          "data": {
            "text/plain": [
              "1030404     4.100000\n",
              "799486     11.500000\n",
              "951362     14.900000\n",
              "175104      3.500000\n",
              "1241223     5.000000\n",
              "             ...    \n",
              "1404707     6.500000\n",
              "14648      10.000000\n",
              "1635888     6.500000\n",
              "683077     56.799999\n",
              "1377148     6.900000\n",
              "Name: fare_amount, Length: 332346, dtype: float32"
            ]
          },
          "metadata": {},
          "execution_count": 71
        }
      ],
      "source": [
        "val_targets"
      ]
    },
    {
      "cell_type": "markdown",
      "source": [
        "### Test"
      ],
      "metadata": {
        "id": "TmHeAO1SMtl4"
      }
    },
    {
      "cell_type": "code",
      "execution_count": 72,
      "metadata": {
        "id": "z1lHlruvmivn"
      },
      "outputs": [],
      "source": [
        "test_input = test_df[input_cols]"
      ]
    },
    {
      "cell_type": "code",
      "source": [
        "test_input"
      ],
      "metadata": {
        "colab": {
          "base_uri": "https://localhost:8080/",
          "height": 424
        },
        "id": "YJCvR2AJM6Jn",
        "outputId": "1690dc07-cbb4-42ae-d6f3-f68494baabd1"
      },
      "execution_count": 73,
      "outputs": [
        {
          "output_type": "execute_result",
          "data": {
            "text/html": [
              "\n",
              "  <div id=\"df-3910e204-dd9d-4f24-8991-cd9e4fe30064\">\n",
              "    <div class=\"colab-df-container\">\n",
              "      <div>\n",
              "<style scoped>\n",
              "    .dataframe tbody tr th:only-of-type {\n",
              "        vertical-align: middle;\n",
              "    }\n",
              "\n",
              "    .dataframe tbody tr th {\n",
              "        vertical-align: top;\n",
              "    }\n",
              "\n",
              "    .dataframe thead th {\n",
              "        text-align: right;\n",
              "    }\n",
              "</style>\n",
              "<table border=\"1\" class=\"dataframe\">\n",
              "  <thead>\n",
              "    <tr style=\"text-align: right;\">\n",
              "      <th></th>\n",
              "      <th>pickup_longitude</th>\n",
              "      <th>pickup_latitude</th>\n",
              "      <th>dropoff_longitude</th>\n",
              "      <th>dropoff_latitude</th>\n",
              "      <th>passenger_count</th>\n",
              "    </tr>\n",
              "  </thead>\n",
              "  <tbody>\n",
              "    <tr>\n",
              "      <th>0</th>\n",
              "      <td>-73.973320</td>\n",
              "      <td>40.763805</td>\n",
              "      <td>-73.981430</td>\n",
              "      <td>40.743835</td>\n",
              "      <td>1.0</td>\n",
              "    </tr>\n",
              "    <tr>\n",
              "      <th>1</th>\n",
              "      <td>-73.986862</td>\n",
              "      <td>40.719383</td>\n",
              "      <td>-73.998886</td>\n",
              "      <td>40.739201</td>\n",
              "      <td>1.0</td>\n",
              "    </tr>\n",
              "    <tr>\n",
              "      <th>2</th>\n",
              "      <td>-73.982521</td>\n",
              "      <td>40.751259</td>\n",
              "      <td>-73.979652</td>\n",
              "      <td>40.746139</td>\n",
              "      <td>1.0</td>\n",
              "    </tr>\n",
              "    <tr>\n",
              "      <th>3</th>\n",
              "      <td>-73.981163</td>\n",
              "      <td>40.767807</td>\n",
              "      <td>-73.990448</td>\n",
              "      <td>40.751635</td>\n",
              "      <td>1.0</td>\n",
              "    </tr>\n",
              "    <tr>\n",
              "      <th>4</th>\n",
              "      <td>-73.966049</td>\n",
              "      <td>40.789776</td>\n",
              "      <td>-73.988564</td>\n",
              "      <td>40.744427</td>\n",
              "      <td>1.0</td>\n",
              "    </tr>\n",
              "    <tr>\n",
              "      <th>...</th>\n",
              "      <td>...</td>\n",
              "      <td>...</td>\n",
              "      <td>...</td>\n",
              "      <td>...</td>\n",
              "      <td>...</td>\n",
              "    </tr>\n",
              "    <tr>\n",
              "      <th>9909</th>\n",
              "      <td>-73.968124</td>\n",
              "      <td>40.796997</td>\n",
              "      <td>-73.955643</td>\n",
              "      <td>40.780388</td>\n",
              "      <td>6.0</td>\n",
              "    </tr>\n",
              "    <tr>\n",
              "      <th>9910</th>\n",
              "      <td>-73.945511</td>\n",
              "      <td>40.803600</td>\n",
              "      <td>-73.960213</td>\n",
              "      <td>40.776371</td>\n",
              "      <td>6.0</td>\n",
              "    </tr>\n",
              "    <tr>\n",
              "      <th>9911</th>\n",
              "      <td>-73.991600</td>\n",
              "      <td>40.726608</td>\n",
              "      <td>-73.789742</td>\n",
              "      <td>40.647011</td>\n",
              "      <td>6.0</td>\n",
              "    </tr>\n",
              "    <tr>\n",
              "      <th>9912</th>\n",
              "      <td>-73.985573</td>\n",
              "      <td>40.735432</td>\n",
              "      <td>-73.939178</td>\n",
              "      <td>40.801731</td>\n",
              "      <td>6.0</td>\n",
              "    </tr>\n",
              "    <tr>\n",
              "      <th>9913</th>\n",
              "      <td>-73.988022</td>\n",
              "      <td>40.754070</td>\n",
              "      <td>-74.000282</td>\n",
              "      <td>40.759220</td>\n",
              "      <td>6.0</td>\n",
              "    </tr>\n",
              "  </tbody>\n",
              "</table>\n",
              "<p>9914 rows × 5 columns</p>\n",
              "</div>\n",
              "      <button class=\"colab-df-convert\" onclick=\"convertToInteractive('df-3910e204-dd9d-4f24-8991-cd9e4fe30064')\"\n",
              "              title=\"Convert this dataframe to an interactive table.\"\n",
              "              style=\"display:none;\">\n",
              "        \n",
              "  <svg xmlns=\"http://www.w3.org/2000/svg\" height=\"24px\"viewBox=\"0 0 24 24\"\n",
              "       width=\"24px\">\n",
              "    <path d=\"M0 0h24v24H0V0z\" fill=\"none\"/>\n",
              "    <path d=\"M18.56 5.44l.94 2.06.94-2.06 2.06-.94-2.06-.94-.94-2.06-.94 2.06-2.06.94zm-11 1L8.5 8.5l.94-2.06 2.06-.94-2.06-.94L8.5 2.5l-.94 2.06-2.06.94zm10 10l.94 2.06.94-2.06 2.06-.94-2.06-.94-.94-2.06-.94 2.06-2.06.94z\"/><path d=\"M17.41 7.96l-1.37-1.37c-.4-.4-.92-.59-1.43-.59-.52 0-1.04.2-1.43.59L10.3 9.45l-7.72 7.72c-.78.78-.78 2.05 0 2.83L4 21.41c.39.39.9.59 1.41.59.51 0 1.02-.2 1.41-.59l7.78-7.78 2.81-2.81c.8-.78.8-2.07 0-2.86zM5.41 20L4 18.59l7.72-7.72 1.47 1.35L5.41 20z\"/>\n",
              "  </svg>\n",
              "      </button>\n",
              "      \n",
              "  <style>\n",
              "    .colab-df-container {\n",
              "      display:flex;\n",
              "      flex-wrap:wrap;\n",
              "      gap: 12px;\n",
              "    }\n",
              "\n",
              "    .colab-df-convert {\n",
              "      background-color: #E8F0FE;\n",
              "      border: none;\n",
              "      border-radius: 50%;\n",
              "      cursor: pointer;\n",
              "      display: none;\n",
              "      fill: #1967D2;\n",
              "      height: 32px;\n",
              "      padding: 0 0 0 0;\n",
              "      width: 32px;\n",
              "    }\n",
              "\n",
              "    .colab-df-convert:hover {\n",
              "      background-color: #E2EBFA;\n",
              "      box-shadow: 0px 1px 2px rgba(60, 64, 67, 0.3), 0px 1px 3px 1px rgba(60, 64, 67, 0.15);\n",
              "      fill: #174EA6;\n",
              "    }\n",
              "\n",
              "    [theme=dark] .colab-df-convert {\n",
              "      background-color: #3B4455;\n",
              "      fill: #D2E3FC;\n",
              "    }\n",
              "\n",
              "    [theme=dark] .colab-df-convert:hover {\n",
              "      background-color: #434B5C;\n",
              "      box-shadow: 0px 1px 3px 1px rgba(0, 0, 0, 0.15);\n",
              "      filter: drop-shadow(0px 1px 2px rgba(0, 0, 0, 0.3));\n",
              "      fill: #FFFFFF;\n",
              "    }\n",
              "  </style>\n",
              "\n",
              "      <script>\n",
              "        const buttonEl =\n",
              "          document.querySelector('#df-3910e204-dd9d-4f24-8991-cd9e4fe30064 button.colab-df-convert');\n",
              "        buttonEl.style.display =\n",
              "          google.colab.kernel.accessAllowed ? 'block' : 'none';\n",
              "\n",
              "        async function convertToInteractive(key) {\n",
              "          const element = document.querySelector('#df-3910e204-dd9d-4f24-8991-cd9e4fe30064');\n",
              "          const dataTable =\n",
              "            await google.colab.kernel.invokeFunction('convertToInteractive',\n",
              "                                                     [key], {});\n",
              "          if (!dataTable) return;\n",
              "\n",
              "          const docLinkHtml = 'Like what you see? Visit the ' +\n",
              "            '<a target=\"_blank\" href=https://colab.research.google.com/notebooks/data_table.ipynb>data table notebook</a>'\n",
              "            + ' to learn more about interactive tables.';\n",
              "          element.innerHTML = '';\n",
              "          dataTable['output_type'] = 'display_data';\n",
              "          await google.colab.output.renderOutput(dataTable, element);\n",
              "          const docLink = document.createElement('div');\n",
              "          docLink.innerHTML = docLinkHtml;\n",
              "          element.appendChild(docLink);\n",
              "        }\n",
              "      </script>\n",
              "    </div>\n",
              "  </div>\n",
              "  "
            ],
            "text/plain": [
              "      pickup_longitude  pickup_latitude  ...  dropoff_latitude  passenger_count\n",
              "0           -73.973320        40.763805  ...         40.743835              1.0\n",
              "1           -73.986862        40.719383  ...         40.739201              1.0\n",
              "2           -73.982521        40.751259  ...         40.746139              1.0\n",
              "3           -73.981163        40.767807  ...         40.751635              1.0\n",
              "4           -73.966049        40.789776  ...         40.744427              1.0\n",
              "...                ...              ...  ...               ...              ...\n",
              "9909        -73.968124        40.796997  ...         40.780388              6.0\n",
              "9910        -73.945511        40.803600  ...         40.776371              6.0\n",
              "9911        -73.991600        40.726608  ...         40.647011              6.0\n",
              "9912        -73.985573        40.735432  ...         40.801731              6.0\n",
              "9913        -73.988022        40.754070  ...         40.759220              6.0\n",
              "\n",
              "[9914 rows x 5 columns]"
            ]
          },
          "metadata": {},
          "execution_count": 73
        }
      ]
    },
    {
      "cell_type": "code",
      "source": [
        "jovian.commit()"
      ],
      "metadata": {
        "colab": {
          "base_uri": "https://localhost:8080/",
          "height": 87
        },
        "id": "h2kVMAOOM9CA",
        "outputId": "ed787248-2087-4d54-fed1-2da40ccc8460"
      },
      "execution_count": 74,
      "outputs": [
        {
          "output_type": "stream",
          "name": "stdout",
          "text": [
            "[jovian] Detected Colab notebook...\u001b[0m\n",
            "[jovian] Uploading colab notebook to Jovian...\u001b[0m\n",
            "Committed successfully! https://jovian.ai/larrazolovictoria/new-york-taxi-fare-predictions\n"
          ]
        },
        {
          "output_type": "execute_result",
          "data": {
            "application/vnd.google.colaboratory.intrinsic+json": {
              "type": "string"
            },
            "text/plain": [
              "'https://jovian.ai/larrazolovictoria/new-york-taxi-fare-predictions'"
            ]
          },
          "metadata": {},
          "execution_count": 74
        }
      ]
    },
    {
      "cell_type": "markdown",
      "source": [
        "## 4. Train Hardcoded and Baseline Models \n",
        " \n",
        "- Hardcoded model : always predict and average fare\n",
        "- Baseline model: linear regression \n"
      ],
      "metadata": {
        "id": "gHKQLtb3NOCB"
      }
    },
    {
      "cell_type": "markdown",
      "source": [
        "### Train and evaluate hardcoded model \n",
        "\n",
        "Lets create a simple model that always predicts the average."
      ],
      "metadata": {
        "id": "bdu1In4UN6jX"
      }
    },
    {
      "cell_type": "code",
      "source": [
        "import numpy as np\n"
      ],
      "metadata": {
        "id": "JNwYrSj8NIwi"
      },
      "execution_count": 75,
      "outputs": []
    },
    {
      "cell_type": "code",
      "source": [
        "class MeanRegressor: \n",
        "  def fit(self, inputs, targets): \n",
        "    self.mean = targets.mean()\n",
        "\n",
        "  def predict(self, inputs):\n",
        "    return np.full(inputs.shape[0], self.mean)"
      ],
      "metadata": {
        "id": "4kh05ZEgOqg8"
      },
      "execution_count": 76,
      "outputs": []
    },
    {
      "cell_type": "code",
      "source": [
        "mean_model = MeanRegressor()"
      ],
      "metadata": {
        "id": "0uKqWoPSP4G3"
      },
      "execution_count": 78,
      "outputs": []
    },
    {
      "cell_type": "code",
      "source": [
        "mean_model.fit(train_inputs, train_targets)"
      ],
      "metadata": {
        "id": "rHKzZAzfP7Wv"
      },
      "execution_count": 79,
      "outputs": []
    },
    {
      "cell_type": "code",
      "source": [
        "mean_model.mean"
      ],
      "metadata": {
        "colab": {
          "base_uri": "https://localhost:8080/"
        },
        "id": "yP1AXP-hQcUl",
        "outputId": "3cff0609-cb11-44f4-decb-6245e763aa67"
      },
      "execution_count": 80,
      "outputs": [
        {
          "output_type": "execute_result",
          "data": {
            "text/plain": [
              "11.34537124633789"
            ]
          },
          "metadata": {},
          "execution_count": 80
        }
      ]
    },
    {
      "cell_type": "code",
      "source": [
        "train_preds= mean_model.predict(train_inputs)"
      ],
      "metadata": {
        "id": "TqPHG2KHQmnU"
      },
      "execution_count": 81,
      "outputs": []
    },
    {
      "cell_type": "code",
      "source": [
        "train_preds"
      ],
      "metadata": {
        "colab": {
          "base_uri": "https://localhost:8080/"
        },
        "id": "7r9feinsQ66b",
        "outputId": "e1e004cf-2f97-4669-df68-fafc007f971d"
      },
      "execution_count": 82,
      "outputs": [
        {
          "output_type": "execute_result",
          "data": {
            "text/plain": [
              "array([11.34537125, 11.34537125, 11.34537125, ..., 11.34537125,\n",
              "       11.34537125, 11.34537125])"
            ]
          },
          "metadata": {},
          "execution_count": 82
        }
      ]
    },
    {
      "cell_type": "code",
      "source": [
        "train_targets"
      ],
      "metadata": {
        "colab": {
          "base_uri": "https://localhost:8080/"
        },
        "id": "Aqdifoy9R6y-",
        "outputId": "05213c9e-15d1-4b94-e261-f84cef3d2bb9"
      },
      "execution_count": 85,
      "outputs": [
        {
          "output_type": "execute_result",
          "data": {
            "text/plain": [
              "1344710     7.000000\n",
              "881046      4.500000\n",
              "484486      6.500000\n",
              "560794     25.299999\n",
              "1422663     7.300000\n",
              "             ...    \n",
              "259178      6.500000\n",
              "1414414    40.500000\n",
              "131932      7.700000\n",
              "671155      8.500000\n",
              "121958      9.500000\n",
              "Name: fare_amount, Length: 1329371, dtype: float32"
            ]
          },
          "metadata": {},
          "execution_count": 85
        }
      ]
    },
    {
      "cell_type": "code",
      "source": [
        "val_preds = mean_model.predict(val_inputs)"
      ],
      "metadata": {
        "id": "-p-J5s7bQ-R5"
      },
      "execution_count": 83,
      "outputs": []
    },
    {
      "cell_type": "code",
      "source": [
        "val_preds"
      ],
      "metadata": {
        "colab": {
          "base_uri": "https://localhost:8080/"
        },
        "id": "tTJ6dmHoRb9D",
        "outputId": "f7e76bb1-6fcb-4769-a2dd-a1b3b7f5e6a0"
      },
      "execution_count": 84,
      "outputs": [
        {
          "output_type": "execute_result",
          "data": {
            "text/plain": [
              "array([11.34537125, 11.34537125, 11.34537125, ..., 11.34537125,\n",
              "       11.34537125, 11.34537125])"
            ]
          },
          "metadata": {},
          "execution_count": 84
        }
      ]
    },
    {
      "cell_type": "code",
      "source": [
        "val_targets"
      ],
      "metadata": {
        "colab": {
          "base_uri": "https://localhost:8080/"
        },
        "id": "PT0e6qItR-Hy",
        "outputId": "9cf26e87-a499-4efa-ef4b-800c4406d233"
      },
      "execution_count": 86,
      "outputs": [
        {
          "output_type": "execute_result",
          "data": {
            "text/plain": [
              "1030404     4.100000\n",
              "799486     11.500000\n",
              "951362     14.900000\n",
              "175104      3.500000\n",
              "1241223     5.000000\n",
              "             ...    \n",
              "1404707     6.500000\n",
              "14648      10.000000\n",
              "1635888     6.500000\n",
              "683077     56.799999\n",
              "1377148     6.900000\n",
              "Name: fare_amount, Length: 332346, dtype: float32"
            ]
          },
          "metadata": {},
          "execution_count": 86
        }
      ]
    },
    {
      "cell_type": "code",
      "source": [
        "from sklearn.metrics import mean_squared_error"
      ],
      "metadata": {
        "id": "B3bPScY7RdH7"
      },
      "execution_count": 89,
      "outputs": []
    },
    {
      "cell_type": "code",
      "source": [
        "def rmse(targets, preds):\n",
        "  return mean_squared_error(targets, preds, squared=False )"
      ],
      "metadata": {
        "id": "eX_eadIESQJR"
      },
      "execution_count": 90,
      "outputs": []
    },
    {
      "cell_type": "code",
      "source": [
        "train_rmse= rmse(train_targets, train_preds)\n",
        "train_rmse"
      ],
      "metadata": {
        "colab": {
          "base_uri": "https://localhost:8080/"
        },
        "id": "jtd8iO_SS2pB",
        "outputId": "862565ac-7fba-4cd2-a70c-e609a4ec9865"
      },
      "execution_count": 91,
      "outputs": [
        {
          "output_type": "execute_result",
          "data": {
            "text/plain": [
              "9.843745729790559"
            ]
          },
          "metadata": {},
          "execution_count": 91
        }
      ]
    },
    {
      "cell_type": "code",
      "source": [
        "val_rmse = rmse(val_targets, val_preds)\n",
        "val_rmse"
      ],
      "metadata": {
        "colab": {
          "base_uri": "https://localhost:8080/"
        },
        "id": "n3_Jb8b8TG4f",
        "outputId": "a1b0de7b-29de-4fcf-c14d-c81df0cbc6d3"
      },
      "execution_count": 92,
      "outputs": [
        {
          "output_type": "execute_result",
          "data": {
            "text/plain": [
              "9.808506179088164"
            ]
          },
          "metadata": {},
          "execution_count": 92
        }
      ]
    },
    {
      "cell_type": "markdown",
      "source": [
        "### Our dump hard-coded model is off by $9.809 on average which is pretty bad, considering the average fare is 11.35"
      ],
      "metadata": {
        "id": "1cZrhWCnToty"
      }
    },
    {
      "cell_type": "code",
      "source": [
        "jovian.commit()"
      ],
      "metadata": {
        "colab": {
          "base_uri": "https://localhost:8080/",
          "height": 87
        },
        "id": "f08RTy4ETkVR",
        "outputId": "f7992352-a496-4c7d-88ca-52d98c4fb595"
      },
      "execution_count": 93,
      "outputs": [
        {
          "output_type": "stream",
          "name": "stdout",
          "text": [
            "[jovian] Detected Colab notebook...\u001b[0m\n",
            "[jovian] Uploading colab notebook to Jovian...\u001b[0m\n",
            "Committed successfully! https://jovian.ai/larrazolovictoria/new-york-taxi-fare-predictions\n"
          ]
        },
        {
          "output_type": "execute_result",
          "data": {
            "application/vnd.google.colaboratory.intrinsic+json": {
              "type": "string"
            },
            "text/plain": [
              "'https://jovian.ai/larrazolovictoria/new-york-taxi-fare-predictions'"
            ]
          },
          "metadata": {},
          "execution_count": 93
        }
      ]
    },
    {
      "cell_type": "markdown",
      "source": [
        "### Train and evaluate a basline model\n",
        "\n",
        "we'll train a linear regression model as our baseline, which tries to express the target a weighted sum of the inputs "
      ],
      "metadata": {
        "id": "r2HsfalVV4Ly"
      }
    },
    {
      "cell_type": "code",
      "source": [
        "from sklearn.linear_model import LinearRegression"
      ],
      "metadata": {
        "id": "Dq0PAMKWU699"
      },
      "execution_count": 94,
      "outputs": []
    },
    {
      "cell_type": "code",
      "source": [
        "linear_model = LinearRegression()"
      ],
      "metadata": {
        "id": "oPEv1NaDWSf1"
      },
      "execution_count": 95,
      "outputs": []
    },
    {
      "cell_type": "code",
      "source": [
        "linear_model.fit(train_inputs, train_targets)"
      ],
      "metadata": {
        "colab": {
          "base_uri": "https://localhost:8080/"
        },
        "id": "LEJBQVIBWhqJ",
        "outputId": "d2479dab-cd59-4c97-c04d-69badadb6262"
      },
      "execution_count": 96,
      "outputs": [
        {
          "output_type": "execute_result",
          "data": {
            "text/plain": [
              "LinearRegression()"
            ]
          },
          "metadata": {},
          "execution_count": 96
        }
      ]
    },
    {
      "cell_type": "code",
      "source": [
        "train_preds = linear_model.predict(train_inputs)"
      ],
      "metadata": {
        "id": "1TjHOLruWv7P"
      },
      "execution_count": 97,
      "outputs": []
    },
    {
      "cell_type": "code",
      "source": [
        "train_preds"
      ],
      "metadata": {
        "colab": {
          "base_uri": "https://localhost:8080/"
        },
        "id": "Zum3zzBPW5mQ",
        "outputId": "b39b610d-e4b8-4cfe-f698-567f78a255c1"
      },
      "execution_count": 98,
      "outputs": [
        {
          "output_type": "execute_result",
          "data": {
            "text/plain": [
              "array([11.36959223, 11.63749184, 11.28044822, ..., 11.45916702,\n",
              "       11.28038512, 11.28038589])"
            ]
          },
          "metadata": {},
          "execution_count": 98
        }
      ]
    },
    {
      "cell_type": "code",
      "source": [
        "train_targets"
      ],
      "metadata": {
        "colab": {
          "base_uri": "https://localhost:8080/"
        },
        "id": "p-IeujvcW8EN",
        "outputId": "8a672eb0-a23d-4281-dbc0-25d219b53721"
      },
      "execution_count": 99,
      "outputs": [
        {
          "output_type": "execute_result",
          "data": {
            "text/plain": [
              "1344710     7.000000\n",
              "881046      4.500000\n",
              "484486      6.500000\n",
              "560794     25.299999\n",
              "1422663     7.300000\n",
              "             ...    \n",
              "259178      6.500000\n",
              "1414414    40.500000\n",
              "131932      7.700000\n",
              "671155      8.500000\n",
              "121958      9.500000\n",
              "Name: fare_amount, Length: 1329371, dtype: float32"
            ]
          },
          "metadata": {},
          "execution_count": 99
        }
      ]
    },
    {
      "cell_type": "code",
      "source": [
        "rmse(train_targets, train_preds)"
      ],
      "metadata": {
        "colab": {
          "base_uri": "https://localhost:8080/"
        },
        "id": "-qENnog_W_I9",
        "outputId": "4130cb68-1511-47ad-e800-fced330e50b1"
      },
      "execution_count": 100,
      "outputs": [
        {
          "output_type": "execute_result",
          "data": {
            "text/plain": [
              "9.842574010724539"
            ]
          },
          "metadata": {},
          "execution_count": 100
        }
      ]
    },
    {
      "cell_type": "code",
      "source": [
        "val_preds = linear_model.predict(val_inputs)"
      ],
      "metadata": {
        "id": "KJn_cNpOXIyj"
      },
      "execution_count": 101,
      "outputs": []
    },
    {
      "cell_type": "code",
      "source": [
        "rmse(val_targets, val_preds)"
      ],
      "metadata": {
        "colab": {
          "base_uri": "https://localhost:8080/"
        },
        "id": "lmjBh7tHXbfo",
        "outputId": "55322de7-303e-4ed4-b842-70da4f64cde0"
      },
      "execution_count": 102,
      "outputs": [
        {
          "output_type": "execute_result",
          "data": {
            "text/plain": [
              "9.807019670931275"
            ]
          },
          "metadata": {},
          "execution_count": 102
        }
      ]
    },
    {
      "cell_type": "markdown",
      "source": [
        "\n",
        "\n",
        "The linear regression model is off by $ 9.870, which isn't much better than simply predicting the average.\n",
        "This is mainly because the training data (geocoordinates) is not in a format that is useful for the model, and we are not using one of the most columns: pickup date & time. \n",
        "However, now we have a baseline that our other models should ideally beat."
      ],
      "metadata": {
        "id": "LhrxmNbTXm6c"
      }
    },
    {
      "cell_type": "code",
      "source": [
        "jovian.commit()"
      ],
      "metadata": {
        "colab": {
          "base_uri": "https://localhost:8080/",
          "height": 87
        },
        "id": "jbMzqfOcXgkV",
        "outputId": "c0f9c181-c0e1-4b85-a165-93e95468beea"
      },
      "execution_count": 103,
      "outputs": [
        {
          "output_type": "stream",
          "name": "stdout",
          "text": [
            "[jovian] Detected Colab notebook...\u001b[0m\n",
            "[jovian] Uploading colab notebook to Jovian...\u001b[0m\n",
            "Committed successfully! https://jovian.ai/larrazolovictoria/new-york-taxi-fare-predictions\n"
          ]
        },
        {
          "output_type": "execute_result",
          "data": {
            "application/vnd.google.colaboratory.intrinsic+json": {
              "type": "string"
            },
            "text/plain": [
              "'https://jovian.ai/larrazolovictoria/new-york-taxi-fare-predictions'"
            ]
          },
          "metadata": {},
          "execution_count": 103
        }
      ]
    },
    {
      "cell_type": "markdown",
      "source": [
        "# Make predictions and submit to Kaggle \n",
        "\n",
        "- Make predictions for test set\n",
        "- Generate submissions CSV\n",
        "- Submit to Kaggle \n",
        "- Record in experiment tracking sheet"
      ],
      "metadata": {
        "id": "zWhcbSsfY_15"
      }
    },
    {
      "cell_type": "code",
      "source": [
        "test_input"
      ],
      "metadata": {
        "colab": {
          "base_uri": "https://localhost:8080/",
          "height": 424
        },
        "id": "Z3ZHRitaYyMX",
        "outputId": "ef878771-59b1-4222-d5d0-d07d3a55a436"
      },
      "execution_count": 105,
      "outputs": [
        {
          "output_type": "execute_result",
          "data": {
            "text/html": [
              "\n",
              "  <div id=\"df-d3652ae8-3488-4573-825c-f6ea021d1cc7\">\n",
              "    <div class=\"colab-df-container\">\n",
              "      <div>\n",
              "<style scoped>\n",
              "    .dataframe tbody tr th:only-of-type {\n",
              "        vertical-align: middle;\n",
              "    }\n",
              "\n",
              "    .dataframe tbody tr th {\n",
              "        vertical-align: top;\n",
              "    }\n",
              "\n",
              "    .dataframe thead th {\n",
              "        text-align: right;\n",
              "    }\n",
              "</style>\n",
              "<table border=\"1\" class=\"dataframe\">\n",
              "  <thead>\n",
              "    <tr style=\"text-align: right;\">\n",
              "      <th></th>\n",
              "      <th>pickup_longitude</th>\n",
              "      <th>pickup_latitude</th>\n",
              "      <th>dropoff_longitude</th>\n",
              "      <th>dropoff_latitude</th>\n",
              "      <th>passenger_count</th>\n",
              "    </tr>\n",
              "  </thead>\n",
              "  <tbody>\n",
              "    <tr>\n",
              "      <th>0</th>\n",
              "      <td>-73.973320</td>\n",
              "      <td>40.763805</td>\n",
              "      <td>-73.981430</td>\n",
              "      <td>40.743835</td>\n",
              "      <td>1.0</td>\n",
              "    </tr>\n",
              "    <tr>\n",
              "      <th>1</th>\n",
              "      <td>-73.986862</td>\n",
              "      <td>40.719383</td>\n",
              "      <td>-73.998886</td>\n",
              "      <td>40.739201</td>\n",
              "      <td>1.0</td>\n",
              "    </tr>\n",
              "    <tr>\n",
              "      <th>2</th>\n",
              "      <td>-73.982521</td>\n",
              "      <td>40.751259</td>\n",
              "      <td>-73.979652</td>\n",
              "      <td>40.746139</td>\n",
              "      <td>1.0</td>\n",
              "    </tr>\n",
              "    <tr>\n",
              "      <th>3</th>\n",
              "      <td>-73.981163</td>\n",
              "      <td>40.767807</td>\n",
              "      <td>-73.990448</td>\n",
              "      <td>40.751635</td>\n",
              "      <td>1.0</td>\n",
              "    </tr>\n",
              "    <tr>\n",
              "      <th>4</th>\n",
              "      <td>-73.966049</td>\n",
              "      <td>40.789776</td>\n",
              "      <td>-73.988564</td>\n",
              "      <td>40.744427</td>\n",
              "      <td>1.0</td>\n",
              "    </tr>\n",
              "    <tr>\n",
              "      <th>...</th>\n",
              "      <td>...</td>\n",
              "      <td>...</td>\n",
              "      <td>...</td>\n",
              "      <td>...</td>\n",
              "      <td>...</td>\n",
              "    </tr>\n",
              "    <tr>\n",
              "      <th>9909</th>\n",
              "      <td>-73.968124</td>\n",
              "      <td>40.796997</td>\n",
              "      <td>-73.955643</td>\n",
              "      <td>40.780388</td>\n",
              "      <td>6.0</td>\n",
              "    </tr>\n",
              "    <tr>\n",
              "      <th>9910</th>\n",
              "      <td>-73.945511</td>\n",
              "      <td>40.803600</td>\n",
              "      <td>-73.960213</td>\n",
              "      <td>40.776371</td>\n",
              "      <td>6.0</td>\n",
              "    </tr>\n",
              "    <tr>\n",
              "      <th>9911</th>\n",
              "      <td>-73.991600</td>\n",
              "      <td>40.726608</td>\n",
              "      <td>-73.789742</td>\n",
              "      <td>40.647011</td>\n",
              "      <td>6.0</td>\n",
              "    </tr>\n",
              "    <tr>\n",
              "      <th>9912</th>\n",
              "      <td>-73.985573</td>\n",
              "      <td>40.735432</td>\n",
              "      <td>-73.939178</td>\n",
              "      <td>40.801731</td>\n",
              "      <td>6.0</td>\n",
              "    </tr>\n",
              "    <tr>\n",
              "      <th>9913</th>\n",
              "      <td>-73.988022</td>\n",
              "      <td>40.754070</td>\n",
              "      <td>-74.000282</td>\n",
              "      <td>40.759220</td>\n",
              "      <td>6.0</td>\n",
              "    </tr>\n",
              "  </tbody>\n",
              "</table>\n",
              "<p>9914 rows × 5 columns</p>\n",
              "</div>\n",
              "      <button class=\"colab-df-convert\" onclick=\"convertToInteractive('df-d3652ae8-3488-4573-825c-f6ea021d1cc7')\"\n",
              "              title=\"Convert this dataframe to an interactive table.\"\n",
              "              style=\"display:none;\">\n",
              "        \n",
              "  <svg xmlns=\"http://www.w3.org/2000/svg\" height=\"24px\"viewBox=\"0 0 24 24\"\n",
              "       width=\"24px\">\n",
              "    <path d=\"M0 0h24v24H0V0z\" fill=\"none\"/>\n",
              "    <path d=\"M18.56 5.44l.94 2.06.94-2.06 2.06-.94-2.06-.94-.94-2.06-.94 2.06-2.06.94zm-11 1L8.5 8.5l.94-2.06 2.06-.94-2.06-.94L8.5 2.5l-.94 2.06-2.06.94zm10 10l.94 2.06.94-2.06 2.06-.94-2.06-.94-.94-2.06-.94 2.06-2.06.94z\"/><path d=\"M17.41 7.96l-1.37-1.37c-.4-.4-.92-.59-1.43-.59-.52 0-1.04.2-1.43.59L10.3 9.45l-7.72 7.72c-.78.78-.78 2.05 0 2.83L4 21.41c.39.39.9.59 1.41.59.51 0 1.02-.2 1.41-.59l7.78-7.78 2.81-2.81c.8-.78.8-2.07 0-2.86zM5.41 20L4 18.59l7.72-7.72 1.47 1.35L5.41 20z\"/>\n",
              "  </svg>\n",
              "      </button>\n",
              "      \n",
              "  <style>\n",
              "    .colab-df-container {\n",
              "      display:flex;\n",
              "      flex-wrap:wrap;\n",
              "      gap: 12px;\n",
              "    }\n",
              "\n",
              "    .colab-df-convert {\n",
              "      background-color: #E8F0FE;\n",
              "      border: none;\n",
              "      border-radius: 50%;\n",
              "      cursor: pointer;\n",
              "      display: none;\n",
              "      fill: #1967D2;\n",
              "      height: 32px;\n",
              "      padding: 0 0 0 0;\n",
              "      width: 32px;\n",
              "    }\n",
              "\n",
              "    .colab-df-convert:hover {\n",
              "      background-color: #E2EBFA;\n",
              "      box-shadow: 0px 1px 2px rgba(60, 64, 67, 0.3), 0px 1px 3px 1px rgba(60, 64, 67, 0.15);\n",
              "      fill: #174EA6;\n",
              "    }\n",
              "\n",
              "    [theme=dark] .colab-df-convert {\n",
              "      background-color: #3B4455;\n",
              "      fill: #D2E3FC;\n",
              "    }\n",
              "\n",
              "    [theme=dark] .colab-df-convert:hover {\n",
              "      background-color: #434B5C;\n",
              "      box-shadow: 0px 1px 3px 1px rgba(0, 0, 0, 0.15);\n",
              "      filter: drop-shadow(0px 1px 2px rgba(0, 0, 0, 0.3));\n",
              "      fill: #FFFFFF;\n",
              "    }\n",
              "  </style>\n",
              "\n",
              "      <script>\n",
              "        const buttonEl =\n",
              "          document.querySelector('#df-d3652ae8-3488-4573-825c-f6ea021d1cc7 button.colab-df-convert');\n",
              "        buttonEl.style.display =\n",
              "          google.colab.kernel.accessAllowed ? 'block' : 'none';\n",
              "\n",
              "        async function convertToInteractive(key) {\n",
              "          const element = document.querySelector('#df-d3652ae8-3488-4573-825c-f6ea021d1cc7');\n",
              "          const dataTable =\n",
              "            await google.colab.kernel.invokeFunction('convertToInteractive',\n",
              "                                                     [key], {});\n",
              "          if (!dataTable) return;\n",
              "\n",
              "          const docLinkHtml = 'Like what you see? Visit the ' +\n",
              "            '<a target=\"_blank\" href=https://colab.research.google.com/notebooks/data_table.ipynb>data table notebook</a>'\n",
              "            + ' to learn more about interactive tables.';\n",
              "          element.innerHTML = '';\n",
              "          dataTable['output_type'] = 'display_data';\n",
              "          await google.colab.output.renderOutput(dataTable, element);\n",
              "          const docLink = document.createElement('div');\n",
              "          docLink.innerHTML = docLinkHtml;\n",
              "          element.appendChild(docLink);\n",
              "        }\n",
              "      </script>\n",
              "    </div>\n",
              "  </div>\n",
              "  "
            ],
            "text/plain": [
              "      pickup_longitude  pickup_latitude  ...  dropoff_latitude  passenger_count\n",
              "0           -73.973320        40.763805  ...         40.743835              1.0\n",
              "1           -73.986862        40.719383  ...         40.739201              1.0\n",
              "2           -73.982521        40.751259  ...         40.746139              1.0\n",
              "3           -73.981163        40.767807  ...         40.751635              1.0\n",
              "4           -73.966049        40.789776  ...         40.744427              1.0\n",
              "...                ...              ...  ...               ...              ...\n",
              "9909        -73.968124        40.796997  ...         40.780388              6.0\n",
              "9910        -73.945511        40.803600  ...         40.776371              6.0\n",
              "9911        -73.991600        40.726608  ...         40.647011              6.0\n",
              "9912        -73.985573        40.735432  ...         40.801731              6.0\n",
              "9913        -73.988022        40.754070  ...         40.759220              6.0\n",
              "\n",
              "[9914 rows x 5 columns]"
            ]
          },
          "metadata": {},
          "execution_count": 105
        }
      ]
    },
    {
      "cell_type": "code",
      "source": [
        "test_preds = linear_model.predict(test_input)"
      ],
      "metadata": {
        "id": "9SsCJxL2ZbJ7"
      },
      "execution_count": 106,
      "outputs": []
    },
    {
      "cell_type": "code",
      "source": [
        "sub_df = pd.read_csv(data_dir+'/sample_submission.csv')"
      ],
      "metadata": {
        "id": "aZ34854OZpPs"
      },
      "execution_count": 107,
      "outputs": []
    },
    {
      "cell_type": "code",
      "source": [
        "sub_df"
      ],
      "metadata": {
        "colab": {
          "base_uri": "https://localhost:8080/",
          "height": 424
        },
        "id": "wkhCliMvZ_jO",
        "outputId": "1b3e73d0-4569-481b-8278-4f29c093791b"
      },
      "execution_count": 108,
      "outputs": [
        {
          "output_type": "execute_result",
          "data": {
            "text/html": [
              "\n",
              "  <div id=\"df-e9de8117-c81b-4765-97e8-6f0aefa89c20\">\n",
              "    <div class=\"colab-df-container\">\n",
              "      <div>\n",
              "<style scoped>\n",
              "    .dataframe tbody tr th:only-of-type {\n",
              "        vertical-align: middle;\n",
              "    }\n",
              "\n",
              "    .dataframe tbody tr th {\n",
              "        vertical-align: top;\n",
              "    }\n",
              "\n",
              "    .dataframe thead th {\n",
              "        text-align: right;\n",
              "    }\n",
              "</style>\n",
              "<table border=\"1\" class=\"dataframe\">\n",
              "  <thead>\n",
              "    <tr style=\"text-align: right;\">\n",
              "      <th></th>\n",
              "      <th>key</th>\n",
              "      <th>fare_amount</th>\n",
              "    </tr>\n",
              "  </thead>\n",
              "  <tbody>\n",
              "    <tr>\n",
              "      <th>0</th>\n",
              "      <td>2015-01-27 13:08:24.0000002</td>\n",
              "      <td>11.35</td>\n",
              "    </tr>\n",
              "    <tr>\n",
              "      <th>1</th>\n",
              "      <td>2015-01-27 13:08:24.0000003</td>\n",
              "      <td>11.35</td>\n",
              "    </tr>\n",
              "    <tr>\n",
              "      <th>2</th>\n",
              "      <td>2011-10-08 11:53:44.0000002</td>\n",
              "      <td>11.35</td>\n",
              "    </tr>\n",
              "    <tr>\n",
              "      <th>3</th>\n",
              "      <td>2012-12-01 21:12:12.0000002</td>\n",
              "      <td>11.35</td>\n",
              "    </tr>\n",
              "    <tr>\n",
              "      <th>4</th>\n",
              "      <td>2012-12-01 21:12:12.0000003</td>\n",
              "      <td>11.35</td>\n",
              "    </tr>\n",
              "    <tr>\n",
              "      <th>...</th>\n",
              "      <td>...</td>\n",
              "      <td>...</td>\n",
              "    </tr>\n",
              "    <tr>\n",
              "      <th>9909</th>\n",
              "      <td>2015-05-10 12:37:51.0000002</td>\n",
              "      <td>11.35</td>\n",
              "    </tr>\n",
              "    <tr>\n",
              "      <th>9910</th>\n",
              "      <td>2015-01-12 17:05:51.0000001</td>\n",
              "      <td>11.35</td>\n",
              "    </tr>\n",
              "    <tr>\n",
              "      <th>9911</th>\n",
              "      <td>2015-04-19 20:44:15.0000001</td>\n",
              "      <td>11.35</td>\n",
              "    </tr>\n",
              "    <tr>\n",
              "      <th>9912</th>\n",
              "      <td>2015-01-31 01:05:19.0000005</td>\n",
              "      <td>11.35</td>\n",
              "    </tr>\n",
              "    <tr>\n",
              "      <th>9913</th>\n",
              "      <td>2015-01-18 14:06:23.0000006</td>\n",
              "      <td>11.35</td>\n",
              "    </tr>\n",
              "  </tbody>\n",
              "</table>\n",
              "<p>9914 rows × 2 columns</p>\n",
              "</div>\n",
              "      <button class=\"colab-df-convert\" onclick=\"convertToInteractive('df-e9de8117-c81b-4765-97e8-6f0aefa89c20')\"\n",
              "              title=\"Convert this dataframe to an interactive table.\"\n",
              "              style=\"display:none;\">\n",
              "        \n",
              "  <svg xmlns=\"http://www.w3.org/2000/svg\" height=\"24px\"viewBox=\"0 0 24 24\"\n",
              "       width=\"24px\">\n",
              "    <path d=\"M0 0h24v24H0V0z\" fill=\"none\"/>\n",
              "    <path d=\"M18.56 5.44l.94 2.06.94-2.06 2.06-.94-2.06-.94-.94-2.06-.94 2.06-2.06.94zm-11 1L8.5 8.5l.94-2.06 2.06-.94-2.06-.94L8.5 2.5l-.94 2.06-2.06.94zm10 10l.94 2.06.94-2.06 2.06-.94-2.06-.94-.94-2.06-.94 2.06-2.06.94z\"/><path d=\"M17.41 7.96l-1.37-1.37c-.4-.4-.92-.59-1.43-.59-.52 0-1.04.2-1.43.59L10.3 9.45l-7.72 7.72c-.78.78-.78 2.05 0 2.83L4 21.41c.39.39.9.59 1.41.59.51 0 1.02-.2 1.41-.59l7.78-7.78 2.81-2.81c.8-.78.8-2.07 0-2.86zM5.41 20L4 18.59l7.72-7.72 1.47 1.35L5.41 20z\"/>\n",
              "  </svg>\n",
              "      </button>\n",
              "      \n",
              "  <style>\n",
              "    .colab-df-container {\n",
              "      display:flex;\n",
              "      flex-wrap:wrap;\n",
              "      gap: 12px;\n",
              "    }\n",
              "\n",
              "    .colab-df-convert {\n",
              "      background-color: #E8F0FE;\n",
              "      border: none;\n",
              "      border-radius: 50%;\n",
              "      cursor: pointer;\n",
              "      display: none;\n",
              "      fill: #1967D2;\n",
              "      height: 32px;\n",
              "      padding: 0 0 0 0;\n",
              "      width: 32px;\n",
              "    }\n",
              "\n",
              "    .colab-df-convert:hover {\n",
              "      background-color: #E2EBFA;\n",
              "      box-shadow: 0px 1px 2px rgba(60, 64, 67, 0.3), 0px 1px 3px 1px rgba(60, 64, 67, 0.15);\n",
              "      fill: #174EA6;\n",
              "    }\n",
              "\n",
              "    [theme=dark] .colab-df-convert {\n",
              "      background-color: #3B4455;\n",
              "      fill: #D2E3FC;\n",
              "    }\n",
              "\n",
              "    [theme=dark] .colab-df-convert:hover {\n",
              "      background-color: #434B5C;\n",
              "      box-shadow: 0px 1px 3px 1px rgba(0, 0, 0, 0.15);\n",
              "      filter: drop-shadow(0px 1px 2px rgba(0, 0, 0, 0.3));\n",
              "      fill: #FFFFFF;\n",
              "    }\n",
              "  </style>\n",
              "\n",
              "      <script>\n",
              "        const buttonEl =\n",
              "          document.querySelector('#df-e9de8117-c81b-4765-97e8-6f0aefa89c20 button.colab-df-convert');\n",
              "        buttonEl.style.display =\n",
              "          google.colab.kernel.accessAllowed ? 'block' : 'none';\n",
              "\n",
              "        async function convertToInteractive(key) {\n",
              "          const element = document.querySelector('#df-e9de8117-c81b-4765-97e8-6f0aefa89c20');\n",
              "          const dataTable =\n",
              "            await google.colab.kernel.invokeFunction('convertToInteractive',\n",
              "                                                     [key], {});\n",
              "          if (!dataTable) return;\n",
              "\n",
              "          const docLinkHtml = 'Like what you see? Visit the ' +\n",
              "            '<a target=\"_blank\" href=https://colab.research.google.com/notebooks/data_table.ipynb>data table notebook</a>'\n",
              "            + ' to learn more about interactive tables.';\n",
              "          element.innerHTML = '';\n",
              "          dataTable['output_type'] = 'display_data';\n",
              "          await google.colab.output.renderOutput(dataTable, element);\n",
              "          const docLink = document.createElement('div');\n",
              "          docLink.innerHTML = docLinkHtml;\n",
              "          element.appendChild(docLink);\n",
              "        }\n",
              "      </script>\n",
              "    </div>\n",
              "  </div>\n",
              "  "
            ],
            "text/plain": [
              "                              key  fare_amount\n",
              "0     2015-01-27 13:08:24.0000002        11.35\n",
              "1     2015-01-27 13:08:24.0000003        11.35\n",
              "2     2011-10-08 11:53:44.0000002        11.35\n",
              "3     2012-12-01 21:12:12.0000002        11.35\n",
              "4     2012-12-01 21:12:12.0000003        11.35\n",
              "...                           ...          ...\n",
              "9909  2015-05-10 12:37:51.0000002        11.35\n",
              "9910  2015-01-12 17:05:51.0000001        11.35\n",
              "9911  2015-04-19 20:44:15.0000001        11.35\n",
              "9912  2015-01-31 01:05:19.0000005        11.35\n",
              "9913  2015-01-18 14:06:23.0000006        11.35\n",
              "\n",
              "[9914 rows x 2 columns]"
            ]
          },
          "metadata": {},
          "execution_count": 108
        }
      ]
    },
    {
      "cell_type": "code",
      "source": [
        "sub_df['fare_ammount'] = test_preds"
      ],
      "metadata": {
        "id": "XKLr9VcEaBPf"
      },
      "execution_count": 109,
      "outputs": []
    },
    {
      "cell_type": "code",
      "source": [
        "sub_df"
      ],
      "metadata": {
        "colab": {
          "base_uri": "https://localhost:8080/",
          "height": 424
        },
        "id": "lhpAXRryaWHP",
        "outputId": "3a788e83-4107-4be8-eba1-6dbf22681c3f"
      },
      "execution_count": 110,
      "outputs": [
        {
          "output_type": "execute_result",
          "data": {
            "text/html": [
              "\n",
              "  <div id=\"df-94a498ae-262f-4167-97e8-070fd892da17\">\n",
              "    <div class=\"colab-df-container\">\n",
              "      <div>\n",
              "<style scoped>\n",
              "    .dataframe tbody tr th:only-of-type {\n",
              "        vertical-align: middle;\n",
              "    }\n",
              "\n",
              "    .dataframe tbody tr th {\n",
              "        vertical-align: top;\n",
              "    }\n",
              "\n",
              "    .dataframe thead th {\n",
              "        text-align: right;\n",
              "    }\n",
              "</style>\n",
              "<table border=\"1\" class=\"dataframe\">\n",
              "  <thead>\n",
              "    <tr style=\"text-align: right;\">\n",
              "      <th></th>\n",
              "      <th>key</th>\n",
              "      <th>fare_amount</th>\n",
              "      <th>fare_ammount</th>\n",
              "    </tr>\n",
              "  </thead>\n",
              "  <tbody>\n",
              "    <tr>\n",
              "      <th>0</th>\n",
              "      <td>2015-01-27 13:08:24.0000002</td>\n",
              "      <td>11.35</td>\n",
              "      <td>11.280354</td>\n",
              "    </tr>\n",
              "    <tr>\n",
              "      <th>1</th>\n",
              "      <td>2015-01-27 13:08:24.0000003</td>\n",
              "      <td>11.35</td>\n",
              "      <td>11.280491</td>\n",
              "    </tr>\n",
              "    <tr>\n",
              "      <th>2</th>\n",
              "      <td>2011-10-08 11:53:44.0000002</td>\n",
              "      <td>11.35</td>\n",
              "      <td>11.280438</td>\n",
              "    </tr>\n",
              "    <tr>\n",
              "      <th>3</th>\n",
              "      <td>2012-12-01 21:12:12.0000002</td>\n",
              "      <td>11.35</td>\n",
              "      <td>11.280290</td>\n",
              "    </tr>\n",
              "    <tr>\n",
              "      <th>4</th>\n",
              "      <td>2012-12-01 21:12:12.0000003</td>\n",
              "      <td>11.35</td>\n",
              "      <td>11.280175</td>\n",
              "    </tr>\n",
              "    <tr>\n",
              "      <th>...</th>\n",
              "      <td>...</td>\n",
              "      <td>...</td>\n",
              "      <td>...</td>\n",
              "    </tr>\n",
              "    <tr>\n",
              "      <th>9909</th>\n",
              "      <td>2015-05-10 12:37:51.0000002</td>\n",
              "      <td>11.35</td>\n",
              "      <td>11.726839</td>\n",
              "    </tr>\n",
              "    <tr>\n",
              "      <th>9910</th>\n",
              "      <td>2015-01-12 17:05:51.0000001</td>\n",
              "      <td>11.35</td>\n",
              "      <td>11.726752</td>\n",
              "    </tr>\n",
              "    <tr>\n",
              "      <th>9911</th>\n",
              "      <td>2015-04-19 20:44:15.0000001</td>\n",
              "      <td>11.35</td>\n",
              "      <td>11.728199</td>\n",
              "    </tr>\n",
              "    <tr>\n",
              "      <th>9912</th>\n",
              "      <td>2015-01-31 01:05:19.0000005</td>\n",
              "      <td>11.35</td>\n",
              "      <td>11.727260</td>\n",
              "    </tr>\n",
              "    <tr>\n",
              "      <th>9913</th>\n",
              "      <td>2015-01-18 14:06:23.0000006</td>\n",
              "      <td>11.35</td>\n",
              "      <td>11.726818</td>\n",
              "    </tr>\n",
              "  </tbody>\n",
              "</table>\n",
              "<p>9914 rows × 3 columns</p>\n",
              "</div>\n",
              "      <button class=\"colab-df-convert\" onclick=\"convertToInteractive('df-94a498ae-262f-4167-97e8-070fd892da17')\"\n",
              "              title=\"Convert this dataframe to an interactive table.\"\n",
              "              style=\"display:none;\">\n",
              "        \n",
              "  <svg xmlns=\"http://www.w3.org/2000/svg\" height=\"24px\"viewBox=\"0 0 24 24\"\n",
              "       width=\"24px\">\n",
              "    <path d=\"M0 0h24v24H0V0z\" fill=\"none\"/>\n",
              "    <path d=\"M18.56 5.44l.94 2.06.94-2.06 2.06-.94-2.06-.94-.94-2.06-.94 2.06-2.06.94zm-11 1L8.5 8.5l.94-2.06 2.06-.94-2.06-.94L8.5 2.5l-.94 2.06-2.06.94zm10 10l.94 2.06.94-2.06 2.06-.94-2.06-.94-.94-2.06-.94 2.06-2.06.94z\"/><path d=\"M17.41 7.96l-1.37-1.37c-.4-.4-.92-.59-1.43-.59-.52 0-1.04.2-1.43.59L10.3 9.45l-7.72 7.72c-.78.78-.78 2.05 0 2.83L4 21.41c.39.39.9.59 1.41.59.51 0 1.02-.2 1.41-.59l7.78-7.78 2.81-2.81c.8-.78.8-2.07 0-2.86zM5.41 20L4 18.59l7.72-7.72 1.47 1.35L5.41 20z\"/>\n",
              "  </svg>\n",
              "      </button>\n",
              "      \n",
              "  <style>\n",
              "    .colab-df-container {\n",
              "      display:flex;\n",
              "      flex-wrap:wrap;\n",
              "      gap: 12px;\n",
              "    }\n",
              "\n",
              "    .colab-df-convert {\n",
              "      background-color: #E8F0FE;\n",
              "      border: none;\n",
              "      border-radius: 50%;\n",
              "      cursor: pointer;\n",
              "      display: none;\n",
              "      fill: #1967D2;\n",
              "      height: 32px;\n",
              "      padding: 0 0 0 0;\n",
              "      width: 32px;\n",
              "    }\n",
              "\n",
              "    .colab-df-convert:hover {\n",
              "      background-color: #E2EBFA;\n",
              "      box-shadow: 0px 1px 2px rgba(60, 64, 67, 0.3), 0px 1px 3px 1px rgba(60, 64, 67, 0.15);\n",
              "      fill: #174EA6;\n",
              "    }\n",
              "\n",
              "    [theme=dark] .colab-df-convert {\n",
              "      background-color: #3B4455;\n",
              "      fill: #D2E3FC;\n",
              "    }\n",
              "\n",
              "    [theme=dark] .colab-df-convert:hover {\n",
              "      background-color: #434B5C;\n",
              "      box-shadow: 0px 1px 3px 1px rgba(0, 0, 0, 0.15);\n",
              "      filter: drop-shadow(0px 1px 2px rgba(0, 0, 0, 0.3));\n",
              "      fill: #FFFFFF;\n",
              "    }\n",
              "  </style>\n",
              "\n",
              "      <script>\n",
              "        const buttonEl =\n",
              "          document.querySelector('#df-94a498ae-262f-4167-97e8-070fd892da17 button.colab-df-convert');\n",
              "        buttonEl.style.display =\n",
              "          google.colab.kernel.accessAllowed ? 'block' : 'none';\n",
              "\n",
              "        async function convertToInteractive(key) {\n",
              "          const element = document.querySelector('#df-94a498ae-262f-4167-97e8-070fd892da17');\n",
              "          const dataTable =\n",
              "            await google.colab.kernel.invokeFunction('convertToInteractive',\n",
              "                                                     [key], {});\n",
              "          if (!dataTable) return;\n",
              "\n",
              "          const docLinkHtml = 'Like what you see? Visit the ' +\n",
              "            '<a target=\"_blank\" href=https://colab.research.google.com/notebooks/data_table.ipynb>data table notebook</a>'\n",
              "            + ' to learn more about interactive tables.';\n",
              "          element.innerHTML = '';\n",
              "          dataTable['output_type'] = 'display_data';\n",
              "          await google.colab.output.renderOutput(dataTable, element);\n",
              "          const docLink = document.createElement('div');\n",
              "          docLink.innerHTML = docLinkHtml;\n",
              "          element.appendChild(docLink);\n",
              "        }\n",
              "      </script>\n",
              "    </div>\n",
              "  </div>\n",
              "  "
            ],
            "text/plain": [
              "                              key  fare_amount  fare_ammount\n",
              "0     2015-01-27 13:08:24.0000002        11.35     11.280354\n",
              "1     2015-01-27 13:08:24.0000003        11.35     11.280491\n",
              "2     2011-10-08 11:53:44.0000002        11.35     11.280438\n",
              "3     2012-12-01 21:12:12.0000002        11.35     11.280290\n",
              "4     2012-12-01 21:12:12.0000003        11.35     11.280175\n",
              "...                           ...          ...           ...\n",
              "9909  2015-05-10 12:37:51.0000002        11.35     11.726839\n",
              "9910  2015-01-12 17:05:51.0000001        11.35     11.726752\n",
              "9911  2015-04-19 20:44:15.0000001        11.35     11.728199\n",
              "9912  2015-01-31 01:05:19.0000005        11.35     11.727260\n",
              "9913  2015-01-18 14:06:23.0000006        11.35     11.726818\n",
              "\n",
              "[9914 rows x 3 columns]"
            ]
          },
          "metadata": {},
          "execution_count": 110
        }
      ]
    },
    {
      "cell_type": "code",
      "source": [
        "sub_df.to_csv('linear_model_submission.csv', index=None)"
      ],
      "metadata": {
        "id": "cFaYSgIraYzG"
      },
      "execution_count": 111,
      "outputs": []
    },
    {
      "cell_type": "code",
      "source": [
        "def predict_and_submit(model, test_inputs, fname): \n",
        "  test_preds = model.predict(test_input)\n",
        "  sub_df = pd.read_csv(data_dir+'sample_submission.csv')\n",
        "  sub_df['fare_ammount'] = test_preds\n",
        "  sub_df.csv(fname, index= None)\n",
        "  return sub_df"
      ],
      "metadata": {
        "id": "RPcFzS_taxGr"
      },
      "execution_count": 112,
      "outputs": []
    },
    {
      "cell_type": "code",
      "source": [
        ""
      ],
      "metadata": {
        "id": "Pg2U7iHrckfh"
      },
      "execution_count": null,
      "outputs": []
    }
  ],
  "metadata": {
    "colab": {
      "collapsed_sections": [],
      "name": "new-york-taxi-fare-predictions.ipynb",
      "provenance": [],
      "include_colab_link": true
    },
    "kernelspec": {
      "display_name": "Python 3",
      "language": "python",
      "name": "python3"
    },
    "language_info": {
      "codemirror_mode": {
        "name": "ipython",
        "version": 3
      },
      "file_extension": ".py",
      "mimetype": "text/x-python",
      "name": "python",
      "nbconvert_exporter": "python",
      "pygments_lexer": "ipython3",
      "version": "3.7.6"
    },
    "accelerator": "GPU"
  },
  "nbformat": 4,
  "nbformat_minor": 0
}